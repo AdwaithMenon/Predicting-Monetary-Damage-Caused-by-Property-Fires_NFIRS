{
  "nbformat": 4,
  "nbformat_minor": 0,
  "metadata": {
    "colab": {
      "provenance": []
    },
    "kernelspec": {
      "name": "python3",
      "display_name": "Python 3"
    },
    "language_info": {
      "name": "python"
    }
  },
  "cells": [
    {
      "cell_type": "markdown",
      "metadata": {
        "id": "K9kH1AiJgrWM"
      },
      "source": [
        "# **Predicting Monetary Damage Caused by Property Fires (NFIRS Data)**\n",
        "\n",
        "\n",
        "\n",
        "\n",
        "## Problem Statement\n",
        "The objective of this project is to predict the 'PROP_LOSS' from fires that have occurred in homes and businesses around the USA. The dataset has about 2 Million rows.\n",
        "\n",
        "------------------------------\n",
        "\n",
        "\n",
        "## Data Dictionary\n",
        "\n",
        "* https://www.usfa.fema.gov/downloads/pdf/nfirs/NFIRS_Spec_2015.pdf\n",
        "\n",
        "\n",
        "\n"
      ]
    },
    {
      "cell_type": "markdown",
      "source": [
        "# Importing the Required Modules"
      ],
      "metadata": {
        "id": "gXqPU8NuGkBm"
      }
    },
    {
      "cell_type": "code",
      "source": [
        "# Modules needed for EDA & Wrangling\n",
        "import pandas as pd\n",
        "import numpy as np\n",
        "import matplotlib.pyplot as plt\n",
        "import seaborn as sns\n",
        "\n",
        "# Modules required for Splitting & Normalization\n",
        "from sklearn.preprocessing import  MinMaxScaler\n",
        "from sklearn.model_selection import train_test_split\n",
        "from sklearn.preprocessing import PowerTransformer\n",
        "\n",
        "# Modules needed for Regression Modeling \n",
        "from sklearn.linear_model import LinearRegression\n",
        "import statsmodels.api as sm\n",
        "\n",
        "# Regression Error Metrics - Scikit-learn\n",
        "from sklearn.metrics import mean_absolute_error\n",
        "from sklearn.metrics import median_absolute_error\n",
        "from sklearn.metrics import mean_squared_error\n",
        "from sklearn.metrics import r2_score\n",
        "\n",
        "# Regression Error Metrics \n",
        "from statsmodels.tools.eval_measures import rmse\n",
        "from statsmodels.tools.eval_measures import mse\n",
        "from statsmodels.tools.eval_measures import meanabs\n",
        "\n",
        "# Tests/Statistics required for Validating Assumptions\n",
        "from statsmodels.stats.diagnostic import normal_ad\n",
        "from statsmodels.stats.stattools import jarque_bera\n",
        "from statsmodels.stats.stattools import durbin_watson\n",
        "from statsmodels.stats.outliers_influence import variance_inflation_factor\n",
        "\n",
        "# Ridge\n",
        "from sklearn.linear_model import Ridge,RidgeCV\n",
        "\n",
        "# Lasso\n",
        "from sklearn.linear_model import Lasso,LassoCV"
      ],
      "metadata": {
        "id": "0fwZ2JPhGmLY"
      },
      "execution_count": 245,
      "outputs": []
    },
    {
      "cell_type": "markdown",
      "metadata": {
        "id": "HQBJF7dx3okf"
      },
      "source": [
        "## Reading the data from Google Drive \n",
        "\n",
        "* https://drive.google.com/file/d/1MxgmttUPTvDp9jns1VtAe978d0iiYiXT/view?usp=sharing"
      ]
    },
    {
      "cell_type": "code",
      "metadata": {
        "id": "wKARtfRm4glI",
        "colab": {
          "base_uri": "https://localhost:8080/"
        },
        "outputId": "f7a6dd5e-c676-4174-ef05-5176a083d55f"
      },
      "source": [
        "# Mounting the Drive\n",
        "\n",
        "from google.colab import drive\n",
        "drive.mount('/content/drive')"
      ],
      "execution_count": 246,
      "outputs": [
        {
          "output_type": "stream",
          "name": "stdout",
          "text": [
            "Drive already mounted at /content/drive; to attempt to forcibly remount, call drive.mount(\"/content/drive\", force_remount=True).\n"
          ]
        }
      ]
    },
    {
      "cell_type": "code",
      "metadata": {
        "colab": {
          "base_uri": "https://localhost:8080/"
        },
        "id": "EAP8SgGOgqna",
        "outputId": "a7ec1328-acb0-4fe3-babc-187910a8e3a8"
      },
      "source": [
        "# Importing the Dataset\n",
        "\n",
        "df=pd.read_csv('/content/drive/MyDrive/Colab Notebooks/NFIRS2014.csv',index_col=0)\n",
        "df.info()"
      ],
      "execution_count": 247,
      "outputs": [
        {
          "output_type": "stream",
          "name": "stderr",
          "text": [
            "<ipython-input-247-96b766d5ea67>:3: DtypeWarning:\n",
            "\n",
            "Columns (2,4,6,14,15,16,17,18,19,37,40) have mixed types. Specify dtype option on import or set low_memory=False.\n",
            "\n"
          ]
        },
        {
          "output_type": "stream",
          "name": "stdout",
          "text": [
            "<class 'pandas.core.frame.DataFrame'>\n",
            "Int64Index: 2116746 entries, 1 to 2116746\n",
            "Data columns (total 40 columns):\n",
            " #   Column     Dtype  \n",
            "---  ------     -----  \n",
            " 0   STATE      object \n",
            " 1   FDID       object \n",
            " 2   INC_DATE   object \n",
            " 3   INC_NO     object \n",
            " 4   EXP_NO     int64  \n",
            " 5   DEPT_STA   object \n",
            " 6   INC_TYPE   int64  \n",
            " 7   ADD_WILD   object \n",
            " 8   AID        object \n",
            " 9   ALARM      object \n",
            " 10  ARRIVAL    object \n",
            " 11  INC_CONT   float64\n",
            " 12  LU_CLEAR   object \n",
            " 13  SHIFT      object \n",
            " 14  ALARMS     object \n",
            " 15  DISTRICT   object \n",
            " 16  ACT_TAK1   object \n",
            " 17  ACT_TAK2   object \n",
            " 18  ACT_TAK3   object \n",
            " 19  APP_MOD    object \n",
            " 20  SUP_APP    int64  \n",
            " 21  EMS_APP    int64  \n",
            " 22  OTH_APP    int64  \n",
            " 23  SUP_PER    int64  \n",
            " 24  EMS_PER    int64  \n",
            " 25  OTH_PER    int64  \n",
            " 26  RESOU_AID  object \n",
            " 27  PROP_LOSS  float64\n",
            " 28  CONT_LOSS  float64\n",
            " 29  PROP_VAL   float64\n",
            " 30  CONT_VAL   float64\n",
            " 31  FF_DEATH   float64\n",
            " 32  OTH_DEATH  float64\n",
            " 33  FF_INJ     float64\n",
            " 34  OTH_INJ    float64\n",
            " 35  DET_ALERT  object \n",
            " 36  HAZ_REL    object \n",
            " 37  MIXED_USE  object \n",
            " 38  PROP_USE   object \n",
            " 39  CENSUS     object \n",
            "dtypes: float64(9), int64(8), object(23)\n",
            "memory usage: 662.1+ MB\n"
          ]
        }
      ]
    },
    {
      "cell_type": "code",
      "metadata": {
        "colab": {
          "base_uri": "https://localhost:8080/",
          "height": 803
        },
        "id": "ZV0vkibk30I_",
        "outputId": "062f9b35-8eff-438d-def3-6a53378a74b7"
      },
      "source": [
        "# Look at the first 10 rows\n",
        "df.head(n=10)"
      ],
      "execution_count": 248,
      "outputs": [
        {
          "output_type": "execute_result",
          "data": {
            "text/plain": [
              "   STATE   FDID    INC_DATE INC_NO  EXP_NO DEPT_STA  INC_TYPE ADD_WILD AID  \\\n",
              "1     AK  11100  2014-01-02    222       0        3       463        N   N   \n",
              "2     AK  11100  2014-01-05    598       0        3       561        N   N   \n",
              "3     AK  11100  2014-01-09   1030       0        3       114        N   N   \n",
              "4     AK  11100  2014-01-10   1212       0        3       561        N   N   \n",
              "5     AK  11100  2014-01-11   1280       0        3       138        N   N   \n",
              "6     AK  11100  2014-01-12   1392       0        3       142        N   N   \n",
              "7     AK  11100  2014-01-13   1559       0        3       561        N   N   \n",
              "8     AK  11100  2014-01-13   1564       0        3       561        N   N   \n",
              "9     AK  11100  2014-01-16   1943       0        3       411        N   N   \n",
              "10    AK  11100  2014-01-17   2129       0        1       113        N   N   \n",
              "\n",
              "                  ALARM  ... CONT_VAL  FF_DEATH OTH_DEATH FF_INJ OTH_INJ  \\\n",
              "1   2014-01-02 17:20:00  ...      NaN       0.0       NaN    0.0     NaN   \n",
              "2   2014-01-05 14:30:00  ...      NaN       0.0       NaN    0.0     NaN   \n",
              "3   2014-01-09 13:50:00  ...      NaN       0.0       NaN    0.0     NaN   \n",
              "4   2014-01-10 20:34:00  ...      NaN       0.0       NaN    0.0     NaN   \n",
              "5   2014-01-11 11:48:00  ...      0.0       0.0       NaN    0.0     NaN   \n",
              "6   2014-01-12 09:53:00  ...  20000.0       0.0       NaN    0.0     NaN   \n",
              "7   2014-01-13 14:26:00  ...      NaN       0.0       NaN    0.0     NaN   \n",
              "8   2014-01-13 14:44:00  ...      NaN       0.0       NaN    0.0     NaN   \n",
              "9   2014-01-16 13:38:00  ...      NaN       0.0       NaN    0.0     NaN   \n",
              "10  2014-01-17 18:43:00  ...      NaN       0.0       NaN    0.0     NaN   \n",
              "\n",
              "   DET_ALERT HAZ_REL MIXED_USE PROP_USE CENSUS  \n",
              "1        NaN       N        00      961    NaN  \n",
              "2        NaN       N        NN      900    NaN  \n",
              "3          U       N        NN      419    NaN  \n",
              "4        NaN       N        NN      419    NaN  \n",
              "5        NaN       N        60      919    NaN  \n",
              "6        NaN       N        NN      669    NaN  \n",
              "7        NaN       N        NN      938    NaN  \n",
              "8        NaN       N        60      938    NaN  \n",
              "9        NaN       N        NN      974    NaN  \n",
              "10         2       N        NN      429    NaN  \n",
              "\n",
              "[10 rows x 40 columns]"
            ],
            "text/html": [
              "\n",
              "  <div id=\"df-1cfccd3c-c5d1-479b-98f3-c291792cbe49\">\n",
              "    <div class=\"colab-df-container\">\n",
              "      <div>\n",
              "<style scoped>\n",
              "    .dataframe tbody tr th:only-of-type {\n",
              "        vertical-align: middle;\n",
              "    }\n",
              "\n",
              "    .dataframe tbody tr th {\n",
              "        vertical-align: top;\n",
              "    }\n",
              "\n",
              "    .dataframe thead th {\n",
              "        text-align: right;\n",
              "    }\n",
              "</style>\n",
              "<table border=\"1\" class=\"dataframe\">\n",
              "  <thead>\n",
              "    <tr style=\"text-align: right;\">\n",
              "      <th></th>\n",
              "      <th>STATE</th>\n",
              "      <th>FDID</th>\n",
              "      <th>INC_DATE</th>\n",
              "      <th>INC_NO</th>\n",
              "      <th>EXP_NO</th>\n",
              "      <th>DEPT_STA</th>\n",
              "      <th>INC_TYPE</th>\n",
              "      <th>ADD_WILD</th>\n",
              "      <th>AID</th>\n",
              "      <th>ALARM</th>\n",
              "      <th>...</th>\n",
              "      <th>CONT_VAL</th>\n",
              "      <th>FF_DEATH</th>\n",
              "      <th>OTH_DEATH</th>\n",
              "      <th>FF_INJ</th>\n",
              "      <th>OTH_INJ</th>\n",
              "      <th>DET_ALERT</th>\n",
              "      <th>HAZ_REL</th>\n",
              "      <th>MIXED_USE</th>\n",
              "      <th>PROP_USE</th>\n",
              "      <th>CENSUS</th>\n",
              "    </tr>\n",
              "  </thead>\n",
              "  <tbody>\n",
              "    <tr>\n",
              "      <th>1</th>\n",
              "      <td>AK</td>\n",
              "      <td>11100</td>\n",
              "      <td>2014-01-02</td>\n",
              "      <td>222</td>\n",
              "      <td>0</td>\n",
              "      <td>3</td>\n",
              "      <td>463</td>\n",
              "      <td>N</td>\n",
              "      <td>N</td>\n",
              "      <td>2014-01-02 17:20:00</td>\n",
              "      <td>...</td>\n",
              "      <td>NaN</td>\n",
              "      <td>0.0</td>\n",
              "      <td>NaN</td>\n",
              "      <td>0.0</td>\n",
              "      <td>NaN</td>\n",
              "      <td>NaN</td>\n",
              "      <td>N</td>\n",
              "      <td>00</td>\n",
              "      <td>961</td>\n",
              "      <td>NaN</td>\n",
              "    </tr>\n",
              "    <tr>\n",
              "      <th>2</th>\n",
              "      <td>AK</td>\n",
              "      <td>11100</td>\n",
              "      <td>2014-01-05</td>\n",
              "      <td>598</td>\n",
              "      <td>0</td>\n",
              "      <td>3</td>\n",
              "      <td>561</td>\n",
              "      <td>N</td>\n",
              "      <td>N</td>\n",
              "      <td>2014-01-05 14:30:00</td>\n",
              "      <td>...</td>\n",
              "      <td>NaN</td>\n",
              "      <td>0.0</td>\n",
              "      <td>NaN</td>\n",
              "      <td>0.0</td>\n",
              "      <td>NaN</td>\n",
              "      <td>NaN</td>\n",
              "      <td>N</td>\n",
              "      <td>NN</td>\n",
              "      <td>900</td>\n",
              "      <td>NaN</td>\n",
              "    </tr>\n",
              "    <tr>\n",
              "      <th>3</th>\n",
              "      <td>AK</td>\n",
              "      <td>11100</td>\n",
              "      <td>2014-01-09</td>\n",
              "      <td>1030</td>\n",
              "      <td>0</td>\n",
              "      <td>3</td>\n",
              "      <td>114</td>\n",
              "      <td>N</td>\n",
              "      <td>N</td>\n",
              "      <td>2014-01-09 13:50:00</td>\n",
              "      <td>...</td>\n",
              "      <td>NaN</td>\n",
              "      <td>0.0</td>\n",
              "      <td>NaN</td>\n",
              "      <td>0.0</td>\n",
              "      <td>NaN</td>\n",
              "      <td>U</td>\n",
              "      <td>N</td>\n",
              "      <td>NN</td>\n",
              "      <td>419</td>\n",
              "      <td>NaN</td>\n",
              "    </tr>\n",
              "    <tr>\n",
              "      <th>4</th>\n",
              "      <td>AK</td>\n",
              "      <td>11100</td>\n",
              "      <td>2014-01-10</td>\n",
              "      <td>1212</td>\n",
              "      <td>0</td>\n",
              "      <td>3</td>\n",
              "      <td>561</td>\n",
              "      <td>N</td>\n",
              "      <td>N</td>\n",
              "      <td>2014-01-10 20:34:00</td>\n",
              "      <td>...</td>\n",
              "      <td>NaN</td>\n",
              "      <td>0.0</td>\n",
              "      <td>NaN</td>\n",
              "      <td>0.0</td>\n",
              "      <td>NaN</td>\n",
              "      <td>NaN</td>\n",
              "      <td>N</td>\n",
              "      <td>NN</td>\n",
              "      <td>419</td>\n",
              "      <td>NaN</td>\n",
              "    </tr>\n",
              "    <tr>\n",
              "      <th>5</th>\n",
              "      <td>AK</td>\n",
              "      <td>11100</td>\n",
              "      <td>2014-01-11</td>\n",
              "      <td>1280</td>\n",
              "      <td>0</td>\n",
              "      <td>3</td>\n",
              "      <td>138</td>\n",
              "      <td>N</td>\n",
              "      <td>N</td>\n",
              "      <td>2014-01-11 11:48:00</td>\n",
              "      <td>...</td>\n",
              "      <td>0.0</td>\n",
              "      <td>0.0</td>\n",
              "      <td>NaN</td>\n",
              "      <td>0.0</td>\n",
              "      <td>NaN</td>\n",
              "      <td>NaN</td>\n",
              "      <td>N</td>\n",
              "      <td>60</td>\n",
              "      <td>919</td>\n",
              "      <td>NaN</td>\n",
              "    </tr>\n",
              "    <tr>\n",
              "      <th>6</th>\n",
              "      <td>AK</td>\n",
              "      <td>11100</td>\n",
              "      <td>2014-01-12</td>\n",
              "      <td>1392</td>\n",
              "      <td>0</td>\n",
              "      <td>3</td>\n",
              "      <td>142</td>\n",
              "      <td>N</td>\n",
              "      <td>N</td>\n",
              "      <td>2014-01-12 09:53:00</td>\n",
              "      <td>...</td>\n",
              "      <td>20000.0</td>\n",
              "      <td>0.0</td>\n",
              "      <td>NaN</td>\n",
              "      <td>0.0</td>\n",
              "      <td>NaN</td>\n",
              "      <td>NaN</td>\n",
              "      <td>N</td>\n",
              "      <td>NN</td>\n",
              "      <td>669</td>\n",
              "      <td>NaN</td>\n",
              "    </tr>\n",
              "    <tr>\n",
              "      <th>7</th>\n",
              "      <td>AK</td>\n",
              "      <td>11100</td>\n",
              "      <td>2014-01-13</td>\n",
              "      <td>1559</td>\n",
              "      <td>0</td>\n",
              "      <td>3</td>\n",
              "      <td>561</td>\n",
              "      <td>N</td>\n",
              "      <td>N</td>\n",
              "      <td>2014-01-13 14:26:00</td>\n",
              "      <td>...</td>\n",
              "      <td>NaN</td>\n",
              "      <td>0.0</td>\n",
              "      <td>NaN</td>\n",
              "      <td>0.0</td>\n",
              "      <td>NaN</td>\n",
              "      <td>NaN</td>\n",
              "      <td>N</td>\n",
              "      <td>NN</td>\n",
              "      <td>938</td>\n",
              "      <td>NaN</td>\n",
              "    </tr>\n",
              "    <tr>\n",
              "      <th>8</th>\n",
              "      <td>AK</td>\n",
              "      <td>11100</td>\n",
              "      <td>2014-01-13</td>\n",
              "      <td>1564</td>\n",
              "      <td>0</td>\n",
              "      <td>3</td>\n",
              "      <td>561</td>\n",
              "      <td>N</td>\n",
              "      <td>N</td>\n",
              "      <td>2014-01-13 14:44:00</td>\n",
              "      <td>...</td>\n",
              "      <td>NaN</td>\n",
              "      <td>0.0</td>\n",
              "      <td>NaN</td>\n",
              "      <td>0.0</td>\n",
              "      <td>NaN</td>\n",
              "      <td>NaN</td>\n",
              "      <td>N</td>\n",
              "      <td>60</td>\n",
              "      <td>938</td>\n",
              "      <td>NaN</td>\n",
              "    </tr>\n",
              "    <tr>\n",
              "      <th>9</th>\n",
              "      <td>AK</td>\n",
              "      <td>11100</td>\n",
              "      <td>2014-01-16</td>\n",
              "      <td>1943</td>\n",
              "      <td>0</td>\n",
              "      <td>3</td>\n",
              "      <td>411</td>\n",
              "      <td>N</td>\n",
              "      <td>N</td>\n",
              "      <td>2014-01-16 13:38:00</td>\n",
              "      <td>...</td>\n",
              "      <td>NaN</td>\n",
              "      <td>0.0</td>\n",
              "      <td>NaN</td>\n",
              "      <td>0.0</td>\n",
              "      <td>NaN</td>\n",
              "      <td>NaN</td>\n",
              "      <td>N</td>\n",
              "      <td>NN</td>\n",
              "      <td>974</td>\n",
              "      <td>NaN</td>\n",
              "    </tr>\n",
              "    <tr>\n",
              "      <th>10</th>\n",
              "      <td>AK</td>\n",
              "      <td>11100</td>\n",
              "      <td>2014-01-17</td>\n",
              "      <td>2129</td>\n",
              "      <td>0</td>\n",
              "      <td>1</td>\n",
              "      <td>113</td>\n",
              "      <td>N</td>\n",
              "      <td>N</td>\n",
              "      <td>2014-01-17 18:43:00</td>\n",
              "      <td>...</td>\n",
              "      <td>NaN</td>\n",
              "      <td>0.0</td>\n",
              "      <td>NaN</td>\n",
              "      <td>0.0</td>\n",
              "      <td>NaN</td>\n",
              "      <td>2</td>\n",
              "      <td>N</td>\n",
              "      <td>NN</td>\n",
              "      <td>429</td>\n",
              "      <td>NaN</td>\n",
              "    </tr>\n",
              "  </tbody>\n",
              "</table>\n",
              "<p>10 rows × 40 columns</p>\n",
              "</div>\n",
              "      <button class=\"colab-df-convert\" onclick=\"convertToInteractive('df-1cfccd3c-c5d1-479b-98f3-c291792cbe49')\"\n",
              "              title=\"Convert this dataframe to an interactive table.\"\n",
              "              style=\"display:none;\">\n",
              "        \n",
              "  <svg xmlns=\"http://www.w3.org/2000/svg\" height=\"24px\"viewBox=\"0 0 24 24\"\n",
              "       width=\"24px\">\n",
              "    <path d=\"M0 0h24v24H0V0z\" fill=\"none\"/>\n",
              "    <path d=\"M18.56 5.44l.94 2.06.94-2.06 2.06-.94-2.06-.94-.94-2.06-.94 2.06-2.06.94zm-11 1L8.5 8.5l.94-2.06 2.06-.94-2.06-.94L8.5 2.5l-.94 2.06-2.06.94zm10 10l.94 2.06.94-2.06 2.06-.94-2.06-.94-.94-2.06-.94 2.06-2.06.94z\"/><path d=\"M17.41 7.96l-1.37-1.37c-.4-.4-.92-.59-1.43-.59-.52 0-1.04.2-1.43.59L10.3 9.45l-7.72 7.72c-.78.78-.78 2.05 0 2.83L4 21.41c.39.39.9.59 1.41.59.51 0 1.02-.2 1.41-.59l7.78-7.78 2.81-2.81c.8-.78.8-2.07 0-2.86zM5.41 20L4 18.59l7.72-7.72 1.47 1.35L5.41 20z\"/>\n",
              "  </svg>\n",
              "      </button>\n",
              "      \n",
              "  <style>\n",
              "    .colab-df-container {\n",
              "      display:flex;\n",
              "      flex-wrap:wrap;\n",
              "      gap: 12px;\n",
              "    }\n",
              "\n",
              "    .colab-df-convert {\n",
              "      background-color: #E8F0FE;\n",
              "      border: none;\n",
              "      border-radius: 50%;\n",
              "      cursor: pointer;\n",
              "      display: none;\n",
              "      fill: #1967D2;\n",
              "      height: 32px;\n",
              "      padding: 0 0 0 0;\n",
              "      width: 32px;\n",
              "    }\n",
              "\n",
              "    .colab-df-convert:hover {\n",
              "      background-color: #E2EBFA;\n",
              "      box-shadow: 0px 1px 2px rgba(60, 64, 67, 0.3), 0px 1px 3px 1px rgba(60, 64, 67, 0.15);\n",
              "      fill: #174EA6;\n",
              "    }\n",
              "\n",
              "    [theme=dark] .colab-df-convert {\n",
              "      background-color: #3B4455;\n",
              "      fill: #D2E3FC;\n",
              "    }\n",
              "\n",
              "    [theme=dark] .colab-df-convert:hover {\n",
              "      background-color: #434B5C;\n",
              "      box-shadow: 0px 1px 3px 1px rgba(0, 0, 0, 0.15);\n",
              "      filter: drop-shadow(0px 1px 2px rgba(0, 0, 0, 0.3));\n",
              "      fill: #FFFFFF;\n",
              "    }\n",
              "  </style>\n",
              "\n",
              "      <script>\n",
              "        const buttonEl =\n",
              "          document.querySelector('#df-1cfccd3c-c5d1-479b-98f3-c291792cbe49 button.colab-df-convert');\n",
              "        buttonEl.style.display =\n",
              "          google.colab.kernel.accessAllowed ? 'block' : 'none';\n",
              "\n",
              "        async function convertToInteractive(key) {\n",
              "          const element = document.querySelector('#df-1cfccd3c-c5d1-479b-98f3-c291792cbe49');\n",
              "          const dataTable =\n",
              "            await google.colab.kernel.invokeFunction('convertToInteractive',\n",
              "                                                     [key], {});\n",
              "          if (!dataTable) return;\n",
              "\n",
              "          const docLinkHtml = 'Like what you see? Visit the ' +\n",
              "            '<a target=\"_blank\" href=https://colab.research.google.com/notebooks/data_table.ipynb>data table notebook</a>'\n",
              "            + ' to learn more about interactive tables.';\n",
              "          element.innerHTML = '';\n",
              "          dataTable['output_type'] = 'display_data';\n",
              "          await google.colab.output.renderOutput(dataTable, element);\n",
              "          const docLink = document.createElement('div');\n",
              "          docLink.innerHTML = docLinkHtml;\n",
              "          element.appendChild(docLink);\n",
              "        }\n",
              "      </script>\n",
              "    </div>\n",
              "  </div>\n",
              "  "
            ]
          },
          "metadata": {},
          "execution_count": 248
        }
      ]
    },
    {
      "cell_type": "markdown",
      "metadata": {
        "id": "JI4ui_3d5KYn"
      },
      "source": [
        "## EDA: Counting the number of missing observations per column"
      ]
    },
    {
      "cell_type": "code",
      "metadata": {
        "id": "BPINUT-O4qsP",
        "colab": {
          "base_uri": "https://localhost:8080/"
        },
        "outputId": "df9a82e0-9a61-4d7a-b507-9ea4a20c4a61"
      },
      "source": [
        "# Number of Missing Observations\n",
        "\n",
        "print(\"Number of Missing Observations Per Column\\n\")\n",
        "df.isna().sum()\n"
      ],
      "execution_count": 249,
      "outputs": [
        {
          "output_type": "stream",
          "name": "stdout",
          "text": [
            "Number of Missing Observations Per Column\n",
            "\n"
          ]
        },
        {
          "output_type": "execute_result",
          "data": {
            "text/plain": [
              "STATE            329\n",
              "FDID               0\n",
              "INC_DATE           0\n",
              "INC_NO             0\n",
              "EXP_NO             0\n",
              "DEPT_STA      557513\n",
              "INC_TYPE           0\n",
              "ADD_WILD           0\n",
              "AID                0\n",
              "ALARM              0\n",
              "ARRIVAL            0\n",
              "INC_CONT     1612496\n",
              "LU_CLEAR         114\n",
              "SHIFT         864553\n",
              "ALARMS        755315\n",
              "DISTRICT      893634\n",
              "ACT_TAK1           3\n",
              "ACT_TAK2     1437009\n",
              "ACT_TAK3     1858837\n",
              "APP_MOD            0\n",
              "SUP_APP            0\n",
              "EMS_APP            0\n",
              "OTH_APP            0\n",
              "SUP_PER            0\n",
              "EMS_PER            0\n",
              "OTH_PER            0\n",
              "RESOU_AID          0\n",
              "PROP_LOSS     950366\n",
              "CONT_LOSS     963294\n",
              "PROP_VAL     1277801\n",
              "CONT_VAL     1305971\n",
              "FF_DEATH       26499\n",
              "OTH_DEATH    2108003\n",
              "FF_INJ         26499\n",
              "OTH_INJ      2108003\n",
              "DET_ALERT    1468020\n",
              "HAZ_REL      1606682\n",
              "MIXED_USE    1754158\n",
              "PROP_USE      174726\n",
              "CENSUS       1739681\n",
              "dtype: int64"
            ]
          },
          "metadata": {},
          "execution_count": 249
        }
      ]
    },
    {
      "cell_type": "markdown",
      "metadata": {
        "id": "KfSabxcG43VH"
      },
      "source": [
        "## EDA: Which month had the most fires? Which MM/DD/YY had the most fires?"
      ]
    },
    {
      "cell_type": "markdown",
      "source": [
        "* **Since we will be counting the number of fires, we would be considering the incidents with incident_type values between 100 & 173 (as per the data dictionary).**"
      ],
      "metadata": {
        "id": "VMiolfeZtCi7"
      }
    },
    {
      "cell_type": "code",
      "metadata": {
        "id": "vuJyDfa7As7u",
        "colab": {
          "base_uri": "https://localhost:8080/"
        },
        "outputId": "a0919b3b-37fe-46d8-8c66-4a9ada18ed88"
      },
      "source": [
        "# Creating a Subset of Dataset for Incident Type 'Fire' \n",
        "\n",
        "df_fire=df[(df['INC_TYPE']>=100) & (df['INC_TYPE']<=173)]\n",
        "print(df_fire.info())\n"
      ],
      "execution_count": 250,
      "outputs": [
        {
          "output_type": "stream",
          "name": "stdout",
          "text": [
            "<class 'pandas.core.frame.DataFrame'>\n",
            "Int64Index: 1096493 entries, 3 to 2116743\n",
            "Data columns (total 40 columns):\n",
            " #   Column     Non-Null Count    Dtype  \n",
            "---  ------     --------------    -----  \n",
            " 0   STATE      1096218 non-null  object \n",
            " 1   FDID       1096493 non-null  object \n",
            " 2   INC_DATE   1096493 non-null  object \n",
            " 3   INC_NO     1096493 non-null  object \n",
            " 4   EXP_NO     1096493 non-null  int64  \n",
            " 5   DEPT_STA   794999 non-null   object \n",
            " 6   INC_TYPE   1096493 non-null  int64  \n",
            " 7   ADD_WILD   1096493 non-null  object \n",
            " 8   AID        1096493 non-null  object \n",
            " 9   ALARM      1096493 non-null  object \n",
            " 10  ARRIVAL    1096493 non-null  object \n",
            " 11  INC_CONT   344098 non-null   float64\n",
            " 12  LU_CLEAR   1096381 non-null  object \n",
            " 13  SHIFT      596006 non-null   object \n",
            " 14  ALARMS     664982 non-null   object \n",
            " 15  DISTRICT   602587 non-null   object \n",
            " 16  ACT_TAK1   1096491 non-null  object \n",
            " 17  ACT_TAK2   370228 non-null   object \n",
            " 18  ACT_TAK3   150376 non-null   object \n",
            " 19  APP_MOD    1096493 non-null  object \n",
            " 20  SUP_APP    1096493 non-null  int64  \n",
            " 21  EMS_APP    1096493 non-null  int64  \n",
            " 22  OTH_APP    1096493 non-null  int64  \n",
            " 23  SUP_PER    1096493 non-null  int64  \n",
            " 24  EMS_PER    1096493 non-null  int64  \n",
            " 25  OTH_PER    1096493 non-null  int64  \n",
            " 26  RESOU_AID  1096493 non-null  object \n",
            " 27  PROP_LOSS  803894 non-null   float64\n",
            " 28  CONT_LOSS  794031 non-null   float64\n",
            " 29  PROP_VAL   536778 non-null   float64\n",
            " 30  CONT_VAL   518175 non-null   float64\n",
            " 31  FF_DEATH   1072037 non-null  float64\n",
            " 32  OTH_DEATH  8743 non-null     float64\n",
            " 33  FF_INJ     1072037 non-null  float64\n",
            " 34  OTH_INJ    8743 non-null     float64\n",
            " 35  DET_ALERT  425569 non-null   object \n",
            " 36  HAZ_REL    246873 non-null   object \n",
            " 37  MIXED_USE  175654 non-null   object \n",
            " 38  PROP_USE   949803 non-null   object \n",
            " 39  CENSUS     169928 non-null   object \n",
            "dtypes: float64(9), int64(8), object(23)\n",
            "memory usage: 343.0+ MB\n",
            "None\n"
          ]
        }
      ]
    },
    {
      "cell_type": "code",
      "source": [
        "# Extracting month from the variable 'INC_DATE'\n",
        "\n",
        "month = pd.to_datetime(df_fire['INC_DATE']).dt.month"
      ],
      "metadata": {
        "id": "Ojg38SJAIQ2N"
      },
      "execution_count": 251,
      "outputs": []
    },
    {
      "cell_type": "code",
      "source": [
        "# Month that had the Most Fires\n",
        "\n",
        "print(\"\\nNumber of Fires Month Wise in Descending Order : \\n\")\n",
        "\n",
        "print(month.value_counts())\n",
        "\n",
        "# We can see that Month '3' i.e. March had the most number of Fires."
      ],
      "metadata": {
        "colab": {
          "base_uri": "https://localhost:8080/"
        },
        "id": "yiakqIg9ITQV",
        "outputId": "b17803e6-9448-436a-f9d6-27bf61e1e9b3"
      },
      "execution_count": 252,
      "outputs": [
        {
          "output_type": "stream",
          "name": "stdout",
          "text": [
            "\n",
            "Number of Fires Month Wise in Descending Order : \n",
            "\n",
            "3     116588\n",
            "4     115041\n",
            "1     111568\n",
            "7      96657\n",
            "5      95708\n",
            "11     90109\n",
            "2      85989\n",
            "6      82657\n",
            "8      81614\n",
            "10     74988\n",
            "9      73016\n",
            "12     72558\n",
            "Name: INC_DATE, dtype: int64\n"
          ]
        }
      ]
    },
    {
      "cell_type": "markdown",
      "source": [
        "### **We can see that Month '3' i.e. March had the most number of Fires.**"
      ],
      "metadata": {
        "id": "W1kpWflBIdmA"
      }
    },
    {
      "cell_type": "code",
      "source": [
        "# Extracting date from the variable 'INC_DATE'\n",
        "\n",
        "date = pd.to_datetime(df_fire['INC_DATE']).dt.date"
      ],
      "metadata": {
        "id": "5x0oIzjDJA1t"
      },
      "execution_count": 253,
      "outputs": []
    },
    {
      "cell_type": "code",
      "source": [
        "# MM/DD/YY that had the Most Fires\n",
        "\n",
        "print(\"\\nNumber of Fires Date Wise in Descending Order :\\n\")\n",
        "\n",
        "print(date.value_counts())\n",
        "\n",
        "# We can see that 07/04/2014 i.e, 04th July 2014 had the most fires."
      ],
      "metadata": {
        "colab": {
          "base_uri": "https://localhost:8080/"
        },
        "id": "z68IvjDCJPyG",
        "outputId": "3cabb8c2-1709-450f-e347-3e60cd1d59e9"
      },
      "execution_count": 254,
      "outputs": [
        {
          "output_type": "stream",
          "name": "stdout",
          "text": [
            "\n",
            "Number of Fires Date Wise in Descending Order :\n",
            "\n",
            "2014-07-04    6968\n",
            "2014-03-15    6143\n",
            "2014-04-12    5839\n",
            "2014-07-05    5613\n",
            "2014-04-11    5333\n",
            "              ... \n",
            "2014-10-16    2046\n",
            "2014-12-28    2043\n",
            "2014-10-14    2037\n",
            "2014-12-27    1980\n",
            "2014-12-23    1922\n",
            "Name: INC_DATE, Length: 365, dtype: int64\n"
          ]
        }
      ]
    },
    {
      "cell_type": "markdown",
      "source": [
        "### **We can see that 07/04/2014 i.e, 04th July 2014 had the most fires.**"
      ],
      "metadata": {
        "id": "tK6EXW-VJyJW"
      }
    },
    {
      "cell_type": "markdown",
      "metadata": {
        "id": "Q1O8bZMw5BGg"
      },
      "source": [
        "## EDA: Which state had the most property loss (`df['PROP_LOSS']`)\n"
      ]
    },
    {
      "cell_type": "code",
      "metadata": {
        "id": "PZr7W0PGAtsf",
        "colab": {
          "base_uri": "https://localhost:8080/"
        },
        "outputId": "bb93ea8d-0eb1-447b-aad6-0e8d9c58fff9"
      },
      "source": [
        "print(\"\\nProperty Loss By State:\\n\")\n",
        "print(df.groupby('STATE').PROP_LOSS.sum('PROP_LOSS').sort_values(ascending=False))\n",
        "\n",
        "# California (CA) had the Most Property Loss."
      ],
      "execution_count": 255,
      "outputs": [
        {
          "output_type": "stream",
          "name": "stdout",
          "text": [
            "\n",
            "Property Loss By State:\n",
            "\n",
            "STATE\n",
            "CA    839716885.0\n",
            "TX    517798452.0\n",
            "KY    497602050.0\n",
            "FL    399988908.0\n",
            "MI    385733330.0\n",
            "IL    315622451.0\n",
            "GA    286015916.0\n",
            "OH    249603029.0\n",
            "TN    206991064.0\n",
            "WI    200223314.0\n",
            "MA    200183589.0\n",
            "WA    193980269.0\n",
            "VA    187532875.0\n",
            "NC    183656059.0\n",
            "MN    170988037.0\n",
            "AR    141774637.0\n",
            "LA    139933855.0\n",
            "SC    131919327.0\n",
            "MS    130466925.0\n",
            "MD    129775967.0\n",
            "PA    114432744.0\n",
            "IA    107669696.0\n",
            "OR     99534936.0\n",
            "MO     97007887.0\n",
            "OK     96187504.0\n",
            "NY     91536732.0\n",
            "CT     90702164.0\n",
            "NJ     90188742.0\n",
            "KS     85692832.0\n",
            "WV     84619213.0\n",
            "NM     59686091.0\n",
            "AZ     58583790.0\n",
            "AL     57052431.0\n",
            "CO     56018342.0\n",
            "AK     52470529.0\n",
            "UT     36039167.0\n",
            "ID     31145057.0\n",
            "NE     30347577.0\n",
            "MT     29537161.0\n",
            "ME     29032039.0\n",
            "ND     24564192.0\n",
            "NH     24334552.0\n",
            "NV     23329260.0\n",
            "HI     19645221.0\n",
            "VT     17138357.0\n",
            "IN     15440681.0\n",
            "SD     14211795.0\n",
            "RI     12657936.0\n",
            "WY      6306986.0\n",
            "DE      5889224.0\n",
            "DC      1987530.0\n",
            "Name: PROP_LOSS, dtype: float64\n"
          ]
        }
      ]
    },
    {
      "cell_type": "markdown",
      "source": [
        "### **California (CA) had the Most Property Loss.**"
      ],
      "metadata": {
        "id": "vZiMJ4xYQXN5"
      }
    },
    {
      "cell_type": "markdown",
      "metadata": {
        "id": "MMPOgYu15ReQ"
      },
      "source": [
        "## EDA: Keeping rows where `df['PROP_LOSS`]` is greater than 1000. \n"
      ]
    },
    {
      "cell_type": "code",
      "metadata": {
        "id": "Y1MG-1JorG8T",
        "colab": {
          "base_uri": "https://localhost:8080/"
        },
        "outputId": "be556097-2e09-4626-b6c0-963438663e62"
      },
      "source": [
        "df=df[df['PROP_LOSS']>1000]\n",
        "print(\"\\nNumber of Rows after discarding rows with Property Loss less than 1000: \" ,df.shape[0])"
      ],
      "execution_count": 256,
      "outputs": [
        {
          "output_type": "stream",
          "name": "stdout",
          "text": [
            "\n",
            "Number of Rows after discarding rows with Property Loss less than 1000:  169362\n"
          ]
        }
      ]
    },
    {
      "cell_type": "markdown",
      "source": [
        "### **Number of Rows after discarding rows with Property Loss less than 1000 is 169362 rows.**"
      ],
      "metadata": {
        "id": "ncsiFpvBSxEZ"
      }
    },
    {
      "cell_type": "markdown",
      "source": [
        "### **Summary Statistics for df['PROP_LOSS'] column :**"
      ],
      "metadata": {
        "id": "5wu4Tb-cX_S-"
      }
    },
    {
      "cell_type": "code",
      "metadata": {
        "id": "rxSrDYQmrXoS",
        "colab": {
          "base_uri": "https://localhost:8080/"
        },
        "outputId": "f74159af-251e-48c4-9736-12a0eb986925"
      },
      "source": [
        "print(\"\\nSummary Statistics for df['PROP_LOSS'] column :\\n\")\n",
        "df['PROP_LOSS'].describe()"
      ],
      "execution_count": 257,
      "outputs": [
        {
          "output_type": "stream",
          "name": "stdout",
          "text": [
            "\n",
            "Summary Statistics for df['PROP_LOSS'] column :\n",
            "\n"
          ]
        },
        {
          "output_type": "execute_result",
          "data": {
            "text/plain": [
              "count    1.693620e+05\n",
              "mean     4.151527e+04\n",
              "std      1.107988e+06\n",
              "min      1.001000e+03\n",
              "25%      3.500000e+03\n",
              "50%      8.987500e+03\n",
              "75%      2.500000e+04\n",
              "max      4.000000e+08\n",
              "Name: PROP_LOSS, dtype: float64"
            ]
          },
          "metadata": {},
          "execution_count": 257
        }
      ]
    },
    {
      "cell_type": "markdown",
      "metadata": {
        "id": "HqLS4ei55srQ"
      },
      "source": [
        "## EDA: Keeping rows where `df['PROP_VAL`]` is greater than 1000. \n"
      ]
    },
    {
      "cell_type": "code",
      "metadata": {
        "id": "GrhAzu7hsKaR",
        "colab": {
          "base_uri": "https://localhost:8080/"
        },
        "outputId": "df90d776-d74b-4e00-b1f5-f8187a9a97d6"
      },
      "source": [
        "df=df[df['PROP_VAL']>1000]\n",
        "print(\"\\nNumber of Rows after discarding rows with Property Value less than 1000: \" ,df.shape[0])"
      ],
      "execution_count": 258,
      "outputs": [
        {
          "output_type": "stream",
          "name": "stdout",
          "text": [
            "\n",
            "Number of Rows after discarding rows with Property Value less than 1000:  122729\n"
          ]
        }
      ]
    },
    {
      "cell_type": "markdown",
      "source": [
        "### **Number of Rows after discarding rows with Property Value less than 1000 is 122729 rows.**"
      ],
      "metadata": {
        "id": "W7F9HYs5TlL2"
      }
    },
    {
      "cell_type": "markdown",
      "metadata": {
        "id": "EPzKGNeS50m4"
      },
      "source": [
        "## EDA: Converting `df['CENSUS']` column to numeric and coercing the errors.\n"
      ]
    },
    {
      "cell_type": "code",
      "source": [
        "df['CENSUS'] = pd.to_numeric(df['CENSUS'], errors='coerce')\n",
        "print(\"Shape of the Dataframe :\")\n",
        "print(df.shape)"
      ],
      "metadata": {
        "colab": {
          "base_uri": "https://localhost:8080/"
        },
        "id": "oGCGnz_ycDAu",
        "outputId": "e13507f3-497c-4514-f97e-ab9030266ee5"
      },
      "execution_count": 259,
      "outputs": [
        {
          "output_type": "stream",
          "name": "stdout",
          "text": [
            "Shape of the Dataframe :\n",
            "(122729, 40)\n"
          ]
        },
        {
          "output_type": "stream",
          "name": "stderr",
          "text": [
            "<ipython-input-259-32d3c52d2c72>:1: SettingWithCopyWarning:\n",
            "\n",
            "\n",
            "A value is trying to be set on a copy of a slice from a DataFrame.\n",
            "Try using .loc[row_indexer,col_indexer] = value instead\n",
            "\n",
            "See the caveats in the documentation: https://pandas.pydata.org/pandas-docs/stable/user_guide/indexing.html#returning-a-view-versus-a-copy\n",
            "\n"
          ]
        }
      ]
    },
    {
      "cell_type": "markdown",
      "metadata": {
        "id": "VBl-zvcI6AN3"
      },
      "source": [
        "## EDA: Keeping rows wherein `df['CENSUS`] is greater than 0.\n"
      ]
    },
    {
      "cell_type": "code",
      "metadata": {
        "id": "tEqn_cUU9GMz",
        "colab": {
          "base_uri": "https://localhost:8080/"
        },
        "outputId": "9351ad0f-adce-4034-bf47-cf9823ddc813"
      },
      "source": [
        "df=df[df['CENSUS']>0]\n",
        "print(\"\\nNumber of Rows after discarding rows where Census is not greater than 0: \" ,df.shape[0])"
      ],
      "execution_count": 260,
      "outputs": [
        {
          "output_type": "stream",
          "name": "stdout",
          "text": [
            "\n",
            "Number of Rows after discarding rows where Census is not greater than 0:  22351\n"
          ]
        }
      ]
    },
    {
      "cell_type": "markdown",
      "source": [
        "### **Number of Rows after discarding rows where Census is not greater than 0 is 22351 rows.**"
      ],
      "metadata": {
        "id": "74tgSvUTXgP3"
      }
    },
    {
      "cell_type": "markdown",
      "metadata": {
        "id": "YCy_62zU6LRb"
      },
      "source": [
        "## EDA: Scatterplot of `x='PROP_VAL'` and `y='PROP_LOSS'`. \n"
      ]
    },
    {
      "cell_type": "code",
      "metadata": {
        "id": "7BPLpyIr9ZaS",
        "colab": {
          "base_uri": "https://localhost:8080/",
          "height": 325
        },
        "outputId": "ae9eea22-3438-438c-9bd7-c6e62db5eb49"
      },
      "source": [
        "plt.title(\"\\nScatterplot : Property Loss vs Property Value\\n\")\n",
        "sns.scatterplot(x='PROP_VAL',y='PROP_LOSS',marker='D',data=df)\n",
        "plt.xlabel(\"Property Value\")\n",
        "plt.ylabel(\"Property Loss\")\n",
        "plt.show()"
      ],
      "execution_count": 261,
      "outputs": [
        {
          "output_type": "display_data",
          "data": {
            "text/plain": [
              "<Figure size 432x288 with 1 Axes>"
            ],
            "image/png": "[encoded data removed]"
          },
          "metadata": {
            "needs_background": "light"
          }
        }
      ]
    },
    {
      "cell_type": "markdown",
      "source": [
        "* We can see from the above plot that there is no strong correlation between the target variable 'PROP_LOSS' & the predictor variable 'PROP_VAL' , i.e. 'PROP_LOSS' is not directly correlated to the predictor 'PROP_VAL'\n",
        "\n",
        "* There might be situations when only a part of the Property is affected.In such cases, Property Loss is much much smaller than the Property Value.\n",
        "\n",
        "* Also,there might be situations when the entire property is damaged.In such cases, the Property Loss might equal the Property Value.\n",
        "\n",
        "* Since we have two different extreme cases, we have few outliers in the dataset as seen on the plot."
      ],
      "metadata": {
        "id": "M7ZSmrSpghXV"
      }
    },
    {
      "cell_type": "markdown",
      "metadata": {
        "id": "zatA-Iod_C8f"
      },
      "source": [
        "### Plot for Number of Fire Fighters Injured Per State"
      ]
    },
    {
      "cell_type": "code",
      "source": [
        "# Number of Fire Fighters Injured Per State\n",
        "\n",
        "print(df.groupby('STATE').FF_INJ.sum().sort_values(ascending=False))\n",
        "\n",
        "states=[\"OH\",\"IL\",\"MA\",\"FL\",\"TX\",\"KY\",\"MI\",\"PA\",\"GA\",\"LA\",\"VA\",\"WV\",\"NY\",\"CA\",\"SC\",\"WI\",\"NJ\",\"NC\",\"NH\",\"MO\",\"IA\",\"WA\",\"HI\",\"CT\",\"MN\",\"TN\",\"RI\",\"UT\",\"OR\",\"ND\",\"AK\",\"MD\",\"CO\",\"NM\",\"NV\",\"KS\",\"MS\",\"OK\",\"ME\",\"IN\",\"ID\",\"AR\",\"AL\",\"MT\",\"DE\",\"NE\",\"VT\",\"AZ\",\"SD\",\"WY\"]\n",
        "\n",
        "n_inj=[136,111,110,57,37,34,31,27,27,27,23,19,17,16,15,13,12,11,11,10,8,8,7,7,7,5,5,5,5,5,4,3,3,2,2,2,2,2,1,1,1,1,0,0,0,0,0,0,0,0]\n",
        "\n",
        "a={'States':states,\"N_Injured\":n_inj}\n",
        "df_plot=pd.DataFrame(a)"
      ],
      "metadata": {
        "colab": {
          "base_uri": "https://localhost:8080/"
        },
        "id": "Y3Ic1JKn2nRS",
        "outputId": "2879575e-302a-421d-a39f-85351d1034c0"
      },
      "execution_count": 262,
      "outputs": [
        {
          "output_type": "stream",
          "name": "stdout",
          "text": [
            "STATE\n",
            "OH    136.0\n",
            "IL    111.0\n",
            "MA    110.0\n",
            "FL     57.0\n",
            "TX     37.0\n",
            "KY     34.0\n",
            "MI     31.0\n",
            "PA     27.0\n",
            "GA     27.0\n",
            "LA     27.0\n",
            "VA     23.0\n",
            "WV     19.0\n",
            "NY     17.0\n",
            "CA     16.0\n",
            "SC     15.0\n",
            "WI     13.0\n",
            "NJ     12.0\n",
            "NC     11.0\n",
            "NH     11.0\n",
            "MO     10.0\n",
            "IA      8.0\n",
            "WA      8.0\n",
            "HI      7.0\n",
            "CT      7.0\n",
            "MN      7.0\n",
            "TN      5.0\n",
            "RI      5.0\n",
            "UT      5.0\n",
            "OR      5.0\n",
            "ND      5.0\n",
            "AK      4.0\n",
            "MD      3.0\n",
            "CO      3.0\n",
            "NM      2.0\n",
            "NV      2.0\n",
            "KS      2.0\n",
            "MS      2.0\n",
            "OK      2.0\n",
            "ME      1.0\n",
            "IN      1.0\n",
            "ID      1.0\n",
            "AR      1.0\n",
            "AL      0.0\n",
            "MT      0.0\n",
            "DE      0.0\n",
            "NE      0.0\n",
            "VT      0.0\n",
            "AZ      0.0\n",
            "SD      0.0\n",
            "Name: FF_INJ, dtype: float64\n"
          ]
        }
      ]
    },
    {
      "cell_type": "code",
      "metadata": {
        "id": "N9MORHzu_ICW",
        "colab": {
          "base_uri": "https://localhost:8080/",
          "height": 542
        },
        "outputId": "7d67d39d-5390-42bf-e051-6c13d753cb16"
      },
      "source": [
        "import plotly.express as px\n",
        "\n",
        "fig = px.choropleth(df_plot,\n",
        "                    locations='States', \n",
        "                    locationmode=\"USA-states\", \n",
        "                    color='N_Injured',\n",
        "                    color_continuous_scale=\"Viridis_r\", \n",
        "                    scope=\"usa\",\n",
        "                    title=\"Number of Fire Fighters Injured Per State (USA)\",\n",
        "                    labels={'N_Injured':'Number of Fire Fighters Injured'}\n",
        "                    ) \n",
        "\n",
        "fig.show()"
      ],
      "execution_count": 263,
      "outputs": [
        {
          "output_type": "display_data",
          "data": {
            "text/html": [
              "<html>\n",
              "<head><meta charset=\"utf-8\" /></head>\n",
              "<body>\n",
              "    <div>            <script src=\"https://cdnjs.cloudflare.com/ajax/libs/mathjax/2.7.5/MathJax.js?config=TeX-AMS-MML_SVG\"></script><script type=\"text/javascript\">if (window.MathJax) {MathJax.Hub.Config({SVG: {font: \"STIX-Web\"}});}</script>                <script type=\"text/javascript\">window.PlotlyConfig = {MathJaxConfig: 'local'};</script>\n",
              "        <script src=\"https://cdn.plot.ly/plotly-2.8.3.min.js\"></script>                <div id=\"916480e5-ee8d-4676-afb7-ca9604e20bf3\" class=\"plotly-graph-div\" style=\"height:525px; width:100%;\"></div>            <script type=\"text/javascript\">                                    window.PLOTLYENV=window.PLOTLYENV || {};                                    if (document.getElementById(\"916480e5-ee8d-4676-afb7-ca9604e20bf3\")) {                    Plotly.newPlot(                        \"916480e5-ee8d-4676-afb7-ca9604e20bf3\",                        [{\"coloraxis\":\"coloraxis\",\"geo\":\"geo\",\"hovertemplate\":\"States=%{location}<br>Number of Fire Fighters Injured=%{z}<extra></extra>\",\"locationmode\":\"USA-states\",\"locations\":[\"OH\",\"IL\",\"MA\",\"FL\",\"TX\",\"KY\",\"MI\",\"PA\",\"GA\",\"LA\",\"VA\",\"WV\",\"NY\",\"CA\",\"SC\",\"WI\",\"NJ\",\"NC\",\"NH\",\"MO\",\"IA\",\"WA\",\"HI\",\"CT\",\"MN\",\"TN\",\"RI\",\"UT\",\"OR\",\"ND\",\"AK\",\"MD\",\"CO\",\"NM\",\"NV\",\"KS\",\"MS\",\"OK\",\"ME\",\"IN\",\"ID\",\"AR\",\"AL\",\"MT\",\"DE\",\"NE\",\"VT\",\"AZ\",\"SD\",\"WY\"],\"name\":\"\",\"z\":[136,111,110,57,37,34,31,27,27,27,23,19,17,16,15,13,12,11,11,10,8,8,7,7,7,5,5,5,5,5,4,3,3,2,2,2,2,2,1,1,1,1,0,0,0,0,0,0,0,0],\"type\":\"choropleth\"}],                        {\"template\":{\"data\":{\"bar\":[{\"error_x\":{\"color\":\"#2a3f5f\"},\"error_y\":{\"color\":\"#2a3f5f\"},\"marker\":{\"line\":{\"color\":\"#E5ECF6\",\"width\":0.5},\"pattern\":{\"fillmode\":\"overlay\",\"size\":10,\"solidity\":0.2}},\"type\":\"bar\"}],\"barpolar\":[{\"marker\":{\"line\":{\"color\":\"#E5ECF6\",\"width\":0.5},\"pattern\":{\"fillmode\":\"overlay\",\"size\":10,\"solidity\":0.2}},\"type\":\"barpolar\"}],\"carpet\":[{\"aaxis\":{\"endlinecolor\":\"#2a3f5f\",\"gridcolor\":\"white\",\"linecolor\":\"white\",\"minorgridcolor\":\"white\",\"startlinecolor\":\"#2a3f5f\"},\"baxis\":{\"endlinecolor\":\"#2a3f5f\",\"gridcolor\":\"white\",\"linecolor\":\"white\",\"minorgridcolor\":\"white\",\"startlinecolor\":\"#2a3f5f\"},\"type\":\"carpet\"}],\"choropleth\":[{\"colorbar\":{\"outlinewidth\":0,\"ticks\":\"\"},\"type\":\"choropleth\"}],\"contour\":[{\"colorbar\":{\"outlinewidth\":0,\"ticks\":\"\"},\"colorscale\":[[0.0,\"#0d0887\"],[0.1111111111111111,\"#46039f\"],[0.2222222222222222,\"#7201a8\"],[0.3333333333333333,\"#9c179e\"],[0.4444444444444444,\"#bd3786\"],[0.5555555555555556,\"#d8576b\"],[0.6666666666666666,\"#ed7953\"],[0.7777777777777778,\"#fb9f3a\"],[0.8888888888888888,\"#fdca26\"],[1.0,\"#f0f921\"]],\"type\":\"contour\"}],\"contourcarpet\":[{\"colorbar\":{\"outlinewidth\":0,\"ticks\":\"\"},\"type\":\"contourcarpet\"}],\"heatmap\":[{\"colorbar\":{\"outlinewidth\":0,\"ticks\":\"\"},\"colorscale\":[[0.0,\"#0d0887\"],[0.1111111111111111,\"#46039f\"],[0.2222222222222222,\"#7201a8\"],[0.3333333333333333,\"#9c179e\"],[0.4444444444444444,\"#bd3786\"],[0.5555555555555556,\"#d8576b\"],[0.6666666666666666,\"#ed7953\"],[0.7777777777777778,\"#fb9f3a\"],[0.8888888888888888,\"#fdca26\"],[1.0,\"#f0f921\"]],\"type\":\"heatmap\"}],\"heatmapgl\":[{\"colorbar\":{\"outlinewidth\":0,\"ticks\":\"\"},\"colorscale\":[[0.0,\"#0d0887\"],[0.1111111111111111,\"#46039f\"],[0.2222222222222222,\"#7201a8\"],[0.3333333333333333,\"#9c179e\"],[0.4444444444444444,\"#bd3786\"],[0.5555555555555556,\"#d8576b\"],[0.6666666666666666,\"#ed7953\"],[0.7777777777777778,\"#fb9f3a\"],[0.8888888888888888,\"#fdca26\"],[1.0,\"#f0f921\"]],\"type\":\"heatmapgl\"}],\"histogram\":[{\"marker\":{\"pattern\":{\"fillmode\":\"overlay\",\"size\":10,\"solidity\":0.2}},\"type\":\"histogram\"}],\"histogram2d\":[{\"colorbar\":{\"outlinewidth\":0,\"ticks\":\"\"},\"colorscale\":[[0.0,\"#0d0887\"],[0.1111111111111111,\"#46039f\"],[0.2222222222222222,\"#7201a8\"],[0.3333333333333333,\"#9c179e\"],[0.4444444444444444,\"#bd3786\"],[0.5555555555555556,\"#d8576b\"],[0.6666666666666666,\"#ed7953\"],[0.7777777777777778,\"#fb9f3a\"],[0.8888888888888888,\"#fdca26\"],[1.0,\"#f0f921\"]],\"type\":\"histogram2d\"}],\"histogram2dcontour\":[{\"colorbar\":{\"outlinewidth\":0,\"ticks\":\"\"},\"colorscale\":[[0.0,\"#0d0887\"],[0.1111111111111111,\"#46039f\"],[0.2222222222222222,\"#7201a8\"],[0.3333333333333333,\"#9c179e\"],[0.4444444444444444,\"#bd3786\"],[0.5555555555555556,\"#d8576b\"],[0.6666666666666666,\"#ed7953\"],[0.7777777777777778,\"#fb9f3a\"],[0.8888888888888888,\"#fdca26\"],[1.0,\"#f0f921\"]],\"type\":\"histogram2dcontour\"}],\"mesh3d\":[{\"colorbar\":{\"outlinewidth\":0,\"ticks\":\"\"},\"type\":\"mesh3d\"}],\"parcoords\":[{\"line\":{\"colorbar\":{\"outlinewidth\":0,\"ticks\":\"\"}},\"type\":\"parcoords\"}],\"pie\":[{\"automargin\":true,\"type\":\"pie\"}],\"scatter\":[{\"marker\":{\"colorbar\":{\"outlinewidth\":0,\"ticks\":\"\"}},\"type\":\"scatter\"}],\"scatter3d\":[{\"line\":{\"colorbar\":{\"outlinewidth\":0,\"ticks\":\"\"}},\"marker\":{\"colorbar\":{\"outlinewidth\":0,\"ticks\":\"\"}},\"type\":\"scatter3d\"}],\"scattercarpet\":[{\"marker\":{\"colorbar\":{\"outlinewidth\":0,\"ticks\":\"\"}},\"type\":\"scattercarpet\"}],\"scattergeo\":[{\"marker\":{\"colorbar\":{\"outlinewidth\":0,\"ticks\":\"\"}},\"type\":\"scattergeo\"}],\"scattergl\":[{\"marker\":{\"colorbar\":{\"outlinewidth\":0,\"ticks\":\"\"}},\"type\":\"scattergl\"}],\"scattermapbox\":[{\"marker\":{\"colorbar\":{\"outlinewidth\":0,\"ticks\":\"\"}},\"type\":\"scattermapbox\"}],\"scatterpolar\":[{\"marker\":{\"colorbar\":{\"outlinewidth\":0,\"ticks\":\"\"}},\"type\":\"scatterpolar\"}],\"scatterpolargl\":[{\"marker\":{\"colorbar\":{\"outlinewidth\":0,\"ticks\":\"\"}},\"type\":\"scatterpolargl\"}],\"scatterternary\":[{\"marker\":{\"colorbar\":{\"outlinewidth\":0,\"ticks\":\"\"}},\"type\":\"scatterternary\"}],\"surface\":[{\"colorbar\":{\"outlinewidth\":0,\"ticks\":\"\"},\"colorscale\":[[0.0,\"#0d0887\"],[0.1111111111111111,\"#46039f\"],[0.2222222222222222,\"#7201a8\"],[0.3333333333333333,\"#9c179e\"],[0.4444444444444444,\"#bd3786\"],[0.5555555555555556,\"#d8576b\"],[0.6666666666666666,\"#ed7953\"],[0.7777777777777778,\"#fb9f3a\"],[0.8888888888888888,\"#fdca26\"],[1.0,\"#f0f921\"]],\"type\":\"surface\"}],\"table\":[{\"cells\":{\"fill\":{\"color\":\"#EBF0F8\"},\"line\":{\"color\":\"white\"}},\"header\":{\"fill\":{\"color\":\"#C8D4E3\"},\"line\":{\"color\":\"white\"}},\"type\":\"table\"}]},\"layout\":{\"annotationdefaults\":{\"arrowcolor\":\"#2a3f5f\",\"arrowhead\":0,\"arrowwidth\":1},\"autotypenumbers\":\"strict\",\"coloraxis\":{\"colorbar\":{\"outlinewidth\":0,\"ticks\":\"\"}},\"colorscale\":{\"diverging\":[[0,\"#8e0152\"],[0.1,\"#c51b7d\"],[0.2,\"#de77ae\"],[0.3,\"#f1b6da\"],[0.4,\"#fde0ef\"],[0.5,\"#f7f7f7\"],[0.6,\"#e6f5d0\"],[0.7,\"#b8e186\"],[0.8,\"#7fbc41\"],[0.9,\"#4d9221\"],[1,\"#276419\"]],\"sequential\":[[0.0,\"#0d0887\"],[0.1111111111111111,\"#46039f\"],[0.2222222222222222,\"#7201a8\"],[0.3333333333333333,\"#9c179e\"],[0.4444444444444444,\"#bd3786\"],[0.5555555555555556,\"#d8576b\"],[0.6666666666666666,\"#ed7953\"],[0.7777777777777778,\"#fb9f3a\"],[0.8888888888888888,\"#fdca26\"],[1.0,\"#f0f921\"]],\"sequentialminus\":[[0.0,\"#0d0887\"],[0.1111111111111111,\"#46039f\"],[0.2222222222222222,\"#7201a8\"],[0.3333333333333333,\"#9c179e\"],[0.4444444444444444,\"#bd3786\"],[0.5555555555555556,\"#d8576b\"],[0.6666666666666666,\"#ed7953\"],[0.7777777777777778,\"#fb9f3a\"],[0.8888888888888888,\"#fdca26\"],[1.0,\"#f0f921\"]]},\"colorway\":[\"#636efa\",\"#EF553B\",\"#00cc96\",\"#ab63fa\",\"#FFA15A\",\"#19d3f3\",\"#FF6692\",\"#B6E880\",\"#FF97FF\",\"#FECB52\"],\"font\":{\"color\":\"#2a3f5f\"},\"geo\":{\"bgcolor\":\"white\",\"lakecolor\":\"white\",\"landcolor\":\"#E5ECF6\",\"showlakes\":true,\"showland\":true,\"subunitcolor\":\"white\"},\"hoverlabel\":{\"align\":\"left\"},\"hovermode\":\"closest\",\"mapbox\":{\"style\":\"light\"},\"paper_bgcolor\":\"white\",\"plot_bgcolor\":\"#E5ECF6\",\"polar\":{\"angularaxis\":{\"gridcolor\":\"white\",\"linecolor\":\"white\",\"ticks\":\"\"},\"bgcolor\":\"#E5ECF6\",\"radialaxis\":{\"gridcolor\":\"white\",\"linecolor\":\"white\",\"ticks\":\"\"}},\"scene\":{\"xaxis\":{\"backgroundcolor\":\"#E5ECF6\",\"gridcolor\":\"white\",\"gridwidth\":2,\"linecolor\":\"white\",\"showbackground\":true,\"ticks\":\"\",\"zerolinecolor\":\"white\"},\"yaxis\":{\"backgroundcolor\":\"#E5ECF6\",\"gridcolor\":\"white\",\"gridwidth\":2,\"linecolor\":\"white\",\"showbackground\":true,\"ticks\":\"\",\"zerolinecolor\":\"white\"},\"zaxis\":{\"backgroundcolor\":\"#E5ECF6\",\"gridcolor\":\"white\",\"gridwidth\":2,\"linecolor\":\"white\",\"showbackground\":true,\"ticks\":\"\",\"zerolinecolor\":\"white\"}},\"shapedefaults\":{\"line\":{\"color\":\"#2a3f5f\"}},\"ternary\":{\"aaxis\":{\"gridcolor\":\"white\",\"linecolor\":\"white\",\"ticks\":\"\"},\"baxis\":{\"gridcolor\":\"white\",\"linecolor\":\"white\",\"ticks\":\"\"},\"bgcolor\":\"#E5ECF6\",\"caxis\":{\"gridcolor\":\"white\",\"linecolor\":\"white\",\"ticks\":\"\"}},\"title\":{\"x\":0.05},\"xaxis\":{\"automargin\":true,\"gridcolor\":\"white\",\"linecolor\":\"white\",\"ticks\":\"\",\"title\":{\"standoff\":15},\"zerolinecolor\":\"white\",\"zerolinewidth\":2},\"yaxis\":{\"automargin\":true,\"gridcolor\":\"white\",\"linecolor\":\"white\",\"ticks\":\"\",\"title\":{\"standoff\":15},\"zerolinecolor\":\"white\",\"zerolinewidth\":2}}},\"geo\":{\"domain\":{\"x\":[0.0,1.0],\"y\":[0.0,1.0]},\"center\":{},\"scope\":\"usa\"},\"coloraxis\":{\"colorbar\":{\"title\":{\"text\":\"Number of Fire Fighters Injured\"}},\"colorscale\":[[0.0,\"#fde725\"],[0.1111111111111111,\"#b5de2b\"],[0.2222222222222222,\"#6ece58\"],[0.3333333333333333,\"#35b779\"],[0.4444444444444444,\"#1f9e89\"],[0.5555555555555556,\"#26828e\"],[0.6666666666666666,\"#31688e\"],[0.7777777777777778,\"#3e4989\"],[0.8888888888888888,\"#482878\"],[1.0,\"#440154\"]]},\"legend\":{\"tracegroupgap\":0},\"title\":{\"text\":\"Number of Fire Fighters Injured Per State (USA)\"}},                        {\"responsive\": true}                    ).then(function(){\n",
              "                            \n",
              "var gd = document.getElementById('916480e5-ee8d-4676-afb7-ca9604e20bf3');\n",
              "var x = new MutationObserver(function (mutations, observer) {{\n",
              "        var display = window.getComputedStyle(gd).display;\n",
              "        if (!display || display === 'none') {{\n",
              "            console.log([gd, 'removed!']);\n",
              "            Plotly.purge(gd);\n",
              "            observer.disconnect();\n",
              "        }}\n",
              "}});\n",
              "\n",
              "// Listen for the removal of the full notebook cells\n",
              "var notebookContainer = gd.closest('#notebook-container');\n",
              "if (notebookContainer) {{\n",
              "    x.observe(notebookContainer, {childList: true});\n",
              "}}\n",
              "\n",
              "// Listen for the clearing of the current output cell\n",
              "var outputEl = gd.closest('.output');\n",
              "if (outputEl) {{\n",
              "    x.observe(outputEl, {childList: true});\n",
              "}}\n",
              "\n",
              "                        })                };                            </script>        </div>\n",
              "</body>\n",
              "</html>"
            ]
          },
          "metadata": {}
        }
      ]
    },
    {
      "cell_type": "markdown",
      "source": [
        "#### **We have plotted the number of fire fighters injured per state using the 'plotly' package.**\n",
        "\n",
        "#### **From the plot, we can see that the States like Illinois (IL), Ohio (OH) & Massachusetts (MA) have the highest number of injuries.**\n",
        "\n",
        "#### **Therefore, we can say that the incidents that occur in these states have proven to be more dangerous when compared to other bigger states like California(CA) & New York (NY).** \n"
      ],
      "metadata": {
        "id": "w15GFQ4CV7C0"
      }
    },
    {
      "cell_type": "markdown",
      "metadata": {
        "id": "giPv9A4R_E9r"
      },
      "source": [
        "### Pivot Table showing the statewise Total Property Loss for each type of Property Use"
      ]
    },
    {
      "cell_type": "code",
      "metadata": {
        "id": "PcyDAfIt_JUX",
        "colab": {
          "base_uri": "https://localhost:8080/",
          "height": 206
        },
        "outputId": "d575bd23-67f6-4ec3-bf51-f571c08e3abb"
      },
      "source": [
        "# Creating the DataFrame \n",
        "\n",
        "df_table=df[['STATE','PROP_USE','PROP_LOSS']].copy()\n",
        "df_table['PROP_USE']=df_table['PROP_USE'].apply(pd.to_numeric, errors = 'coerce')\n",
        "df_table=df_table.dropna()\n",
        "\n",
        "\n",
        "# Recoding the Variable 'Property Use'\n",
        "\n",
        "def my_recode(prop_use):\n",
        "    if (prop_use>=100) & (prop_use<200):\n",
        "        return \"Assembly\"\n",
        "    if (prop_use>=200) & (prop_use<300):\n",
        "        return \"Educational\"\n",
        "    elif (prop_use>=300) & (prop_use<400):\n",
        "        return \"Healthcare\"\n",
        "    elif (prop_use>=400) & (prop_use<500):\n",
        "        return \"Residential\"\n",
        "    elif (prop_use>=500) & (prop_use<600):\n",
        "        return \"Business\"\n",
        "    elif (prop_use>=600) & (prop_use<700):\n",
        "        return \"Agriculture\"\n",
        "    elif (prop_use>=700) & (prop_use<800):\n",
        "        return \"Manufacturing\"\n",
        "    elif (prop_use>=800) & (prop_use<900):\n",
        "        return \"Storage\"    \n",
        "    else:\n",
        "        return \"Outside\"                    \n",
        "\n",
        "df_table['PROP_USE']=df_table['PROP_USE'].apply(my_recode)\n",
        "df_table.head()"
      ],
      "execution_count": 264,
      "outputs": [
        {
          "output_type": "execute_result",
          "data": {
            "text/plain": [
              "     STATE     PROP_USE  PROP_LOSS\n",
              "772     AK      Outside     4000.0\n",
              "773     AK      Outside     2000.0\n",
              "3150    AK  Residential     2000.0\n",
              "4188    AK      Outside     8000.0\n",
              "4197    AK     Business     5000.0"
            ],
            "text/html": [
              "\n",
              "  <div id=\"df-f6c48b9b-2b88-4919-b35e-e74faace3b10\">\n",
              "    <div class=\"colab-df-container\">\n",
              "      <div>\n",
              "<style scoped>\n",
              "    .dataframe tbody tr th:only-of-type {\n",
              "        vertical-align: middle;\n",
              "    }\n",
              "\n",
              "    .dataframe tbody tr th {\n",
              "        vertical-align: top;\n",
              "    }\n",
              "\n",
              "    .dataframe thead th {\n",
              "        text-align: right;\n",
              "    }\n",
              "</style>\n",
              "<table border=\"1\" class=\"dataframe\">\n",
              "  <thead>\n",
              "    <tr style=\"text-align: right;\">\n",
              "      <th></th>\n",
              "      <th>STATE</th>\n",
              "      <th>PROP_USE</th>\n",
              "      <th>PROP_LOSS</th>\n",
              "    </tr>\n",
              "  </thead>\n",
              "  <tbody>\n",
              "    <tr>\n",
              "      <th>772</th>\n",
              "      <td>AK</td>\n",
              "      <td>Outside</td>\n",
              "      <td>4000.0</td>\n",
              "    </tr>\n",
              "    <tr>\n",
              "      <th>773</th>\n",
              "      <td>AK</td>\n",
              "      <td>Outside</td>\n",
              "      <td>2000.0</td>\n",
              "    </tr>\n",
              "    <tr>\n",
              "      <th>3150</th>\n",
              "      <td>AK</td>\n",
              "      <td>Residential</td>\n",
              "      <td>2000.0</td>\n",
              "    </tr>\n",
              "    <tr>\n",
              "      <th>4188</th>\n",
              "      <td>AK</td>\n",
              "      <td>Outside</td>\n",
              "      <td>8000.0</td>\n",
              "    </tr>\n",
              "    <tr>\n",
              "      <th>4197</th>\n",
              "      <td>AK</td>\n",
              "      <td>Business</td>\n",
              "      <td>5000.0</td>\n",
              "    </tr>\n",
              "  </tbody>\n",
              "</table>\n",
              "</div>\n",
              "      <button class=\"colab-df-convert\" onclick=\"convertToInteractive('df-f6c48b9b-2b88-4919-b35e-e74faace3b10')\"\n",
              "              title=\"Convert this dataframe to an interactive table.\"\n",
              "              style=\"display:none;\">\n",
              "        \n",
              "  <svg xmlns=\"http://www.w3.org/2000/svg\" height=\"24px\"viewBox=\"0 0 24 24\"\n",
              "       width=\"24px\">\n",
              "    <path d=\"M0 0h24v24H0V0z\" fill=\"none\"/>\n",
              "    <path d=\"M18.56 5.44l.94 2.06.94-2.06 2.06-.94-2.06-.94-.94-2.06-.94 2.06-2.06.94zm-11 1L8.5 8.5l.94-2.06 2.06-.94-2.06-.94L8.5 2.5l-.94 2.06-2.06.94zm10 10l.94 2.06.94-2.06 2.06-.94-2.06-.94-.94-2.06-.94 2.06-2.06.94z\"/><path d=\"M17.41 7.96l-1.37-1.37c-.4-.4-.92-.59-1.43-.59-.52 0-1.04.2-1.43.59L10.3 9.45l-7.72 7.72c-.78.78-.78 2.05 0 2.83L4 21.41c.39.39.9.59 1.41.59.51 0 1.02-.2 1.41-.59l7.78-7.78 2.81-2.81c.8-.78.8-2.07 0-2.86zM5.41 20L4 18.59l7.72-7.72 1.47 1.35L5.41 20z\"/>\n",
              "  </svg>\n",
              "      </button>\n",
              "      \n",
              "  <style>\n",
              "    .colab-df-container {\n",
              "      display:flex;\n",
              "      flex-wrap:wrap;\n",
              "      gap: 12px;\n",
              "    }\n",
              "\n",
              "    .colab-df-convert {\n",
              "      background-color: #E8F0FE;\n",
              "      border: none;\n",
              "      border-radius: 50%;\n",
              "      cursor: pointer;\n",
              "      display: none;\n",
              "      fill: #1967D2;\n",
              "      height: 32px;\n",
              "      padding: 0 0 0 0;\n",
              "      width: 32px;\n",
              "    }\n",
              "\n",
              "    .colab-df-convert:hover {\n",
              "      background-color: #E2EBFA;\n",
              "      box-shadow: 0px 1px 2px rgba(60, 64, 67, 0.3), 0px 1px 3px 1px rgba(60, 64, 67, 0.15);\n",
              "      fill: #174EA6;\n",
              "    }\n",
              "\n",
              "    [theme=dark] .colab-df-convert {\n",
              "      background-color: #3B4455;\n",
              "      fill: #D2E3FC;\n",
              "    }\n",
              "\n",
              "    [theme=dark] .colab-df-convert:hover {\n",
              "      background-color: #434B5C;\n",
              "      box-shadow: 0px 1px 3px 1px rgba(0, 0, 0, 0.15);\n",
              "      filter: drop-shadow(0px 1px 2px rgba(0, 0, 0, 0.3));\n",
              "      fill: #FFFFFF;\n",
              "    }\n",
              "  </style>\n",
              "\n",
              "      <script>\n",
              "        const buttonEl =\n",
              "          document.querySelector('#df-f6c48b9b-2b88-4919-b35e-e74faace3b10 button.colab-df-convert');\n",
              "        buttonEl.style.display =\n",
              "          google.colab.kernel.accessAllowed ? 'block' : 'none';\n",
              "\n",
              "        async function convertToInteractive(key) {\n",
              "          const element = document.querySelector('#df-f6c48b9b-2b88-4919-b35e-e74faace3b10');\n",
              "          const dataTable =\n",
              "            await google.colab.kernel.invokeFunction('convertToInteractive',\n",
              "                                                     [key], {});\n",
              "          if (!dataTable) return;\n",
              "\n",
              "          const docLinkHtml = 'Like what you see? Visit the ' +\n",
              "            '<a target=\"_blank\" href=https://colab.research.google.com/notebooks/data_table.ipynb>data table notebook</a>'\n",
              "            + ' to learn more about interactive tables.';\n",
              "          element.innerHTML = '';\n",
              "          dataTable['output_type'] = 'display_data';\n",
              "          await google.colab.output.renderOutput(dataTable, element);\n",
              "          const docLink = document.createElement('div');\n",
              "          docLink.innerHTML = docLinkHtml;\n",
              "          element.appendChild(docLink);\n",
              "        }\n",
              "      </script>\n",
              "    </div>\n",
              "  </div>\n",
              "  "
            ]
          },
          "metadata": {},
          "execution_count": 264
        }
      ]
    },
    {
      "cell_type": "code",
      "source": [
        "# Creating the Pivot Table\n",
        "\n",
        "pvt_table=pd.pivot_table(df_table,index='STATE',values='PROP_LOSS',columns=['PROP_USE'],aggfunc=np.sum,margins=True,margins_name='Total').fillna(0)\n",
        "\n",
        "print(\"Pivot Table Showing the Property Loss Per State Based on the Property Use\")\n",
        "pvt_table"
      ],
      "metadata": {
        "colab": {
          "base_uri": "https://localhost:8080/",
          "height": 1000
        },
        "id": "3mONVh31MHvC",
        "outputId": "fe587efe-0689-484c-a147-b2cceaa8cfe1"
      },
      "execution_count": 265,
      "outputs": [
        {
          "output_type": "stream",
          "name": "stdout",
          "text": [
            "Pivot Table Showing the Property Loss Per State Based on the Property Use\n"
          ]
        },
        {
          "output_type": "execute_result",
          "data": {
            "text/plain": [
              "PROP_USE  Agriculture    Assembly    Business  Educational  Healthcare  \\\n",
              "STATE                                                                    \n",
              "AK                0.0     25000.0   1672622.0          0.0         0.0   \n",
              "AL                0.0     95000.0    362000.0          0.0         0.0   \n",
              "AR                0.0         0.0     40363.0          0.0   1059000.0   \n",
              "AZ             3000.0   1232500.0     71023.0          0.0     36000.0   \n",
              "CA           104000.0   1404000.0   5302600.0    1505000.0    765500.0   \n",
              "CO                0.0      5000.0     24300.0      30000.0         0.0   \n",
              "CT         35000000.0     38000.0    947750.0      14500.0      2000.0   \n",
              "DE                0.0         0.0         0.0          0.0         0.0   \n",
              "FL          9684787.0   2525406.0   4602613.0     777290.0    118800.0   \n",
              "GA          5346500.0   1280205.0   4342400.0     194000.0      2500.0   \n",
              "HI           121000.0    183000.0    202359.0      50000.0      3500.0   \n",
              "IA                0.0    104500.0   1050100.0     120000.0     13000.0   \n",
              "ID           700000.0         0.0     24000.0          0.0         0.0   \n",
              "IL           715000.0   3227250.0   7769378.0      70683.0    117500.0   \n",
              "IN             6000.0     30000.0      5000.0          0.0         0.0   \n",
              "KS          3800000.0     85000.0    161000.0          0.0    935500.0   \n",
              "KY           530500.0    246635.0    589200.0     156500.0     76500.0   \n",
              "LA            36500.0    673000.0   1233300.0      29000.0      5000.0   \n",
              "MA             9000.0   1230508.0   6499538.0      76000.0     95640.0   \n",
              "MD                0.0         0.0    513000.0      25000.0         0.0   \n",
              "ME                0.0         0.0         0.0          0.0         0.0   \n",
              "MI           226600.0   2675638.0   5265286.0      81000.0     96226.0   \n",
              "MN             8000.0      6500.0    536500.0       9950.0      1500.0   \n",
              "MO            24000.0    108500.0    409278.0          0.0     12092.0   \n",
              "MS                0.0      3000.0    695000.0          0.0    100000.0   \n",
              "MT                0.0         0.0         0.0          0.0         0.0   \n",
              "NC          1013300.0    208680.0    645600.0       6500.0     50000.0   \n",
              "ND                0.0    330000.0    123000.0          0.0      1200.0   \n",
              "NE                0.0         0.0         0.0          0.0         0.0   \n",
              "NH            10000.0     43000.0     35900.0          0.0    325000.0   \n",
              "NJ                0.0     18500.0   1175800.0      75000.0     14200.0   \n",
              "NM                0.0         0.0         0.0          0.0         0.0   \n",
              "NV                0.0      7000.0      6500.0          0.0         0.0   \n",
              "NY                0.0     10000.0     35500.0          0.0         0.0   \n",
              "OH          1526000.0   7108369.0   3031695.0     433500.0     50500.0   \n",
              "OK           180000.0      6000.0    288500.0          0.0         0.0   \n",
              "OR             2000.0    380750.0    383100.0      10000.0     22000.0   \n",
              "PA            57500.0    697900.0   1833900.0     246000.0     22000.0   \n",
              "RI            35602.0         0.0     35500.0          0.0      3500.0   \n",
              "SC                0.0    151000.0    693700.0          0.0     10500.0   \n",
              "SD                0.0         0.0         0.0          0.0         0.0   \n",
              "TN            16500.0     36500.0    356378.0          0.0      3000.0   \n",
              "TX             8500.0   2394499.0   2867499.0     304700.0     72000.0   \n",
              "UT            60000.0      3100.0     50000.0          0.0         0.0   \n",
              "VA           114000.0   1858679.0    733886.0     169500.0     27500.0   \n",
              "VT                0.0         0.0     16009.0          0.0         0.0   \n",
              "WA                0.0    132500.0    316000.0      10000.0         0.0   \n",
              "WI           553200.0    131195.0   1234777.0      10000.0    143000.0   \n",
              "WV            30001.0   3236000.0   1003000.0     105000.0      3500.0   \n",
              "Total      59921490.0  31932314.0  57184854.0    4509123.0   4188158.0   \n",
              "\n",
              "PROP_USE  Manufacturing      Outside  Residential     Storage        Total  \n",
              "STATE                                                                       \n",
              "AK                  0.0     229825.0    1547279.0      9500.0    3484226.0  \n",
              "AL                  0.0     330000.0     718700.0         0.0    1505700.0  \n",
              "AR              37000.0     526400.0    1009650.0     16000.0    2688413.0  \n",
              "AZ             190000.0     134000.0    1098764.0      2000.0    2767287.0  \n",
              "CA             437000.0    6234985.0   26432707.0   1183500.0   43369292.0  \n",
              "CO              12000.0      19650.0     317300.0   1000000.0    1408250.0  \n",
              "CT               2000.0    2403100.0    2454000.0    357000.0   41218350.0  \n",
              "DE                  0.0          0.0    1000000.0         0.0    1000000.0  \n",
              "FL            1387000.0   26048912.0   53331117.0   4084794.0  102560719.0  \n",
              "GA            4720000.0    6207294.0   39920266.0   1474270.0   63487435.0  \n",
              "HI              40000.0    3995752.0   13406800.0   1530000.0   19532411.0  \n",
              "IA              79000.0     533519.0    3666737.0    125500.0    5692356.0  \n",
              "ID               2500.0     204725.0    1944500.0     86000.0    2961725.0  \n",
              "IL            4341500.0    8636913.0   51569539.0   3534311.0   79982074.0  \n",
              "IN              60000.0    1039000.0     848500.0     93000.0    2081500.0  \n",
              "KS              50000.0     665050.0    1788200.0     27000.0    7511750.0  \n",
              "KY              25500.0    1847363.0    9479890.0    964500.0   13916588.0  \n",
              "LA                  0.0    3472900.0    8366052.0    225000.0   14040752.0  \n",
              "MA             617500.0    4307600.0   30213380.0    918000.0   43967166.0  \n",
              "MD                  0.0     944100.0    1463800.0    115000.0    3060900.0  \n",
              "ME                  0.0      87000.0    1917500.0     39500.0    2044000.0  \n",
              "MI             450500.0    3230153.0   24527288.0   2353211.0   38905902.0  \n",
              "MN             257000.0     304400.0    2298881.0    276000.0    3698731.0  \n",
              "MO             110000.0    1399943.0    3548049.0    432600.0    6044462.0  \n",
              "MS              40000.0     207800.0    1844630.0    758000.0    3648430.0  \n",
              "MT                  0.0       8500.0       5000.0     50000.0      63500.0  \n",
              "NC             543000.0    1628625.0    7434624.0    358500.0   11888829.0  \n",
              "ND                  0.0      44100.0     614300.0    354500.0    1467100.0  \n",
              "NE                  0.0      57000.0      47000.0      3000.0     107000.0  \n",
              "NH              65000.0     230150.0    3100700.0     49700.0    3859450.0  \n",
              "NJ                  0.0     456493.0    4284250.0     56000.0    6080243.0  \n",
              "NM                  0.0          0.0      34000.0         0.0      34000.0  \n",
              "NV              52500.0      44500.0    1009500.0         0.0    1120000.0  \n",
              "NY              57500.0     129649.0    2074700.0    108100.0    2415449.0  \n",
              "OH             675000.0    5281405.0   27734345.0   2658315.0   48499129.0  \n",
              "OK              10000.0     417500.0    1301000.0    195000.0    2398000.0  \n",
              "OR               8000.0     938050.0    9280157.0    337500.0   11361557.0  \n",
              "PA             114000.0    2865700.0   14276130.0    708000.0   20821130.0  \n",
              "RI             213500.0     416600.0    2552025.0    125000.0    3381727.0  \n",
              "SC             205000.0    1732150.0    8274050.0    125200.0   11191600.0  \n",
              "SD             135000.0      10000.0      26500.0         0.0     171500.0  \n",
              "TN              47500.0    3461579.0    3283723.0    200500.0    7405680.0  \n",
              "TX             302000.0   10122123.0   50416802.0   4319356.0   70807479.0  \n",
              "UT               5000.0     276900.0    2794174.0         0.0    3189174.0  \n",
              "VA             104000.0    3657475.0   16783007.0   1373400.0   24821447.0  \n",
              "VT                  0.0      10950.0          0.0         0.0      26959.0  \n",
              "WA               5000.0    4174460.0    7164411.0    434000.0   12236371.0  \n",
              "WI             577962.0     999546.0    6957787.0    877325.0   11484792.0  \n",
              "WV             217500.0     731801.0    8039079.0    339000.0   13704881.0  \n",
              "Total        16195962.0  110705640.0  462200793.0  32277082.0  779115416.0  "
            ],
            "text/html": [
              "\n",
              "  <div id=\"df-64c09dc5-5377-4eab-8e0a-34784b180c3e\">\n",
              "    <div class=\"colab-df-container\">\n",
              "      <div>\n",
              "<style scoped>\n",
              "    .dataframe tbody tr th:only-of-type {\n",
              "        vertical-align: middle;\n",
              "    }\n",
              "\n",
              "    .dataframe tbody tr th {\n",
              "        vertical-align: top;\n",
              "    }\n",
              "\n",
              "    .dataframe thead th {\n",
              "        text-align: right;\n",
              "    }\n",
              "</style>\n",
              "<table border=\"1\" class=\"dataframe\">\n",
              "  <thead>\n",
              "    <tr style=\"text-align: right;\">\n",
              "      <th>PROP_USE</th>\n",
              "      <th>Agriculture</th>\n",
              "      <th>Assembly</th>\n",
              "      <th>Business</th>\n",
              "      <th>Educational</th>\n",
              "      <th>Healthcare</th>\n",
              "      <th>Manufacturing</th>\n",
              "      <th>Outside</th>\n",
              "      <th>Residential</th>\n",
              "      <th>Storage</th>\n",
              "      <th>Total</th>\n",
              "    </tr>\n",
              "    <tr>\n",
              "      <th>STATE</th>\n",
              "      <th></th>\n",
              "      <th></th>\n",
              "      <th></th>\n",
              "      <th></th>\n",
              "      <th></th>\n",
              "      <th></th>\n",
              "      <th></th>\n",
              "      <th></th>\n",
              "      <th></th>\n",
              "      <th></th>\n",
              "    </tr>\n",
              "  </thead>\n",
              "  <tbody>\n",
              "    <tr>\n",
              "      <th>AK</th>\n",
              "      <td>0.0</td>\n",
              "      <td>25000.0</td>\n",
              "      <td>1672622.0</td>\n",
              "      <td>0.0</td>\n",
              "      <td>0.0</td>\n",
              "      <td>0.0</td>\n",
              "      <td>229825.0</td>\n",
              "      <td>1547279.0</td>\n",
              "      <td>9500.0</td>\n",
              "      <td>3484226.0</td>\n",
              "    </tr>\n",
              "    <tr>\n",
              "      <th>AL</th>\n",
              "      <td>0.0</td>\n",
              "      <td>95000.0</td>\n",
              "      <td>362000.0</td>\n",
              "      <td>0.0</td>\n",
              "      <td>0.0</td>\n",
              "      <td>0.0</td>\n",
              "      <td>330000.0</td>\n",
              "      <td>718700.0</td>\n",
              "      <td>0.0</td>\n",
              "      <td>1505700.0</td>\n",
              "    </tr>\n",
              "    <tr>\n",
              "      <th>AR</th>\n",
              "      <td>0.0</td>\n",
              "      <td>0.0</td>\n",
              "      <td>40363.0</td>\n",
              "      <td>0.0</td>\n",
              "      <td>1059000.0</td>\n",
              "      <td>37000.0</td>\n",
              "      <td>526400.0</td>\n",
              "      <td>1009650.0</td>\n",
              "      <td>16000.0</td>\n",
              "      <td>2688413.0</td>\n",
              "    </tr>\n",
              "    <tr>\n",
              "      <th>AZ</th>\n",
              "      <td>3000.0</td>\n",
              "      <td>1232500.0</td>\n",
              "      <td>71023.0</td>\n",
              "      <td>0.0</td>\n",
              "      <td>36000.0</td>\n",
              "      <td>190000.0</td>\n",
              "      <td>134000.0</td>\n",
              "      <td>1098764.0</td>\n",
              "      <td>2000.0</td>\n",
              "      <td>2767287.0</td>\n",
              "    </tr>\n",
              "    <tr>\n",
              "      <th>CA</th>\n",
              "      <td>104000.0</td>\n",
              "      <td>1404000.0</td>\n",
              "      <td>5302600.0</td>\n",
              "      <td>1505000.0</td>\n",
              "      <td>765500.0</td>\n",
              "      <td>437000.0</td>\n",
              "      <td>6234985.0</td>\n",
              "      <td>26432707.0</td>\n",
              "      <td>1183500.0</td>\n",
              "      <td>43369292.0</td>\n",
              "    </tr>\n",
              "    <tr>\n",
              "      <th>CO</th>\n",
              "      <td>0.0</td>\n",
              "      <td>5000.0</td>\n",
              "      <td>24300.0</td>\n",
              "      <td>30000.0</td>\n",
              "      <td>0.0</td>\n",
              "      <td>12000.0</td>\n",
              "      <td>19650.0</td>\n",
              "      <td>317300.0</td>\n",
              "      <td>1000000.0</td>\n",
              "      <td>1408250.0</td>\n",
              "    </tr>\n",
              "    <tr>\n",
              "      <th>CT</th>\n",
              "      <td>35000000.0</td>\n",
              "      <td>38000.0</td>\n",
              "      <td>947750.0</td>\n",
              "      <td>14500.0</td>\n",
              "      <td>2000.0</td>\n",
              "      <td>2000.0</td>\n",
              "      <td>2403100.0</td>\n",
              "      <td>2454000.0</td>\n",
              "      <td>357000.0</td>\n",
              "      <td>41218350.0</td>\n",
              "    </tr>\n",
              "    <tr>\n",
              "      <th>DE</th>\n",
              "      <td>0.0</td>\n",
              "      <td>0.0</td>\n",
              "      <td>0.0</td>\n",
              "      <td>0.0</td>\n",
              "      <td>0.0</td>\n",
              "      <td>0.0</td>\n",
              "      <td>0.0</td>\n",
              "      <td>1000000.0</td>\n",
              "      <td>0.0</td>\n",
              "      <td>1000000.0</td>\n",
              "    </tr>\n",
              "    <tr>\n",
              "      <th>FL</th>\n",
              "      <td>9684787.0</td>\n",
              "      <td>2525406.0</td>\n",
              "      <td>4602613.0</td>\n",
              "      <td>777290.0</td>\n",
              "      <td>118800.0</td>\n",
              "      <td>1387000.0</td>\n",
              "      <td>26048912.0</td>\n",
              "      <td>53331117.0</td>\n",
              "      <td>4084794.0</td>\n",
              "      <td>102560719.0</td>\n",
              "    </tr>\n",
              "    <tr>\n",
              "      <th>GA</th>\n",
              "      <td>5346500.0</td>\n",
              "      <td>1280205.0</td>\n",
              "      <td>4342400.0</td>\n",
              "      <td>194000.0</td>\n",
              "      <td>2500.0</td>\n",
              "      <td>4720000.0</td>\n",
              "      <td>6207294.0</td>\n",
              "      <td>39920266.0</td>\n",
              "      <td>1474270.0</td>\n",
              "      <td>63487435.0</td>\n",
              "    </tr>\n",
              "    <tr>\n",
              "      <th>HI</th>\n",
              "      <td>121000.0</td>\n",
              "      <td>183000.0</td>\n",
              "      <td>202359.0</td>\n",
              "      <td>50000.0</td>\n",
              "      <td>3500.0</td>\n",
              "      <td>40000.0</td>\n",
              "      <td>3995752.0</td>\n",
              "      <td>13406800.0</td>\n",
              "      <td>1530000.0</td>\n",
              "      <td>19532411.0</td>\n",
              "    </tr>\n",
              "    <tr>\n",
              "      <th>IA</th>\n",
              "      <td>0.0</td>\n",
              "      <td>104500.0</td>\n",
              "      <td>1050100.0</td>\n",
              "      <td>120000.0</td>\n",
              "      <td>13000.0</td>\n",
              "      <td>79000.0</td>\n",
              "      <td>533519.0</td>\n",
              "      <td>3666737.0</td>\n",
              "      <td>125500.0</td>\n",
              "      <td>5692356.0</td>\n",
              "    </tr>\n",
              "    <tr>\n",
              "      <th>ID</th>\n",
              "      <td>700000.0</td>\n",
              "      <td>0.0</td>\n",
              "      <td>24000.0</td>\n",
              "      <td>0.0</td>\n",
              "      <td>0.0</td>\n",
              "      <td>2500.0</td>\n",
              "      <td>204725.0</td>\n",
              "      <td>1944500.0</td>\n",
              "      <td>86000.0</td>\n",
              "      <td>2961725.0</td>\n",
              "    </tr>\n",
              "    <tr>\n",
              "      <th>IL</th>\n",
              "      <td>715000.0</td>\n",
              "      <td>3227250.0</td>\n",
              "      <td>7769378.0</td>\n",
              "      <td>70683.0</td>\n",
              "      <td>117500.0</td>\n",
              "      <td>4341500.0</td>\n",
              "      <td>8636913.0</td>\n",
              "      <td>51569539.0</td>\n",
              "      <td>3534311.0</td>\n",
              "      <td>79982074.0</td>\n",
              "    </tr>\n",
              "    <tr>\n",
              "      <th>IN</th>\n",
              "      <td>6000.0</td>\n",
              "      <td>30000.0</td>\n",
              "      <td>5000.0</td>\n",
              "      <td>0.0</td>\n",
              "      <td>0.0</td>\n",
              "      <td>60000.0</td>\n",
              "      <td>1039000.0</td>\n",
              "      <td>848500.0</td>\n",
              "      <td>93000.0</td>\n",
              "      <td>2081500.0</td>\n",
              "    </tr>\n",
              "    <tr>\n",
              "      <th>KS</th>\n",
              "      <td>3800000.0</td>\n",
              "      <td>85000.0</td>\n",
              "      <td>161000.0</td>\n",
              "      <td>0.0</td>\n",
              "      <td>935500.0</td>\n",
              "      <td>50000.0</td>\n",
              "      <td>665050.0</td>\n",
              "      <td>1788200.0</td>\n",
              "      <td>27000.0</td>\n",
              "      <td>7511750.0</td>\n",
              "    </tr>\n",
              "    <tr>\n",
              "      <th>KY</th>\n",
              "      <td>530500.0</td>\n",
              "      <td>246635.0</td>\n",
              "      <td>589200.0</td>\n",
              "      <td>156500.0</td>\n",
              "      <td>76500.0</td>\n",
              "      <td>25500.0</td>\n",
              "      <td>1847363.0</td>\n",
              "      <td>9479890.0</td>\n",
              "      <td>964500.0</td>\n",
              "      <td>13916588.0</td>\n",
              "    </tr>\n",
              "    <tr>\n",
              "      <th>LA</th>\n",
              "      <td>36500.0</td>\n",
              "      <td>673000.0</td>\n",
              "      <td>1233300.0</td>\n",
              "      <td>29000.0</td>\n",
              "      <td>5000.0</td>\n",
              "      <td>0.0</td>\n",
              "      <td>3472900.0</td>\n",
              "      <td>8366052.0</td>\n",
              "      <td>225000.0</td>\n",
              "      <td>14040752.0</td>\n",
              "    </tr>\n",
              "    <tr>\n",
              "      <th>MA</th>\n",
              "      <td>9000.0</td>\n",
              "      <td>1230508.0</td>\n",
              "      <td>6499538.0</td>\n",
              "      <td>76000.0</td>\n",
              "      <td>95640.0</td>\n",
              "      <td>617500.0</td>\n",
              "      <td>4307600.0</td>\n",
              "      <td>30213380.0</td>\n",
              "      <td>918000.0</td>\n",
              "      <td>43967166.0</td>\n",
              "    </tr>\n",
              "    <tr>\n",
              "      <th>MD</th>\n",
              "      <td>0.0</td>\n",
              "      <td>0.0</td>\n",
              "      <td>513000.0</td>\n",
              "      <td>25000.0</td>\n",
              "      <td>0.0</td>\n",
              "      <td>0.0</td>\n",
              "      <td>944100.0</td>\n",
              "      <td>1463800.0</td>\n",
              "      <td>115000.0</td>\n",
              "      <td>3060900.0</td>\n",
              "    </tr>\n",
              "    <tr>\n",
              "      <th>ME</th>\n",
              "      <td>0.0</td>\n",
              "      <td>0.0</td>\n",
              "      <td>0.0</td>\n",
              "      <td>0.0</td>\n",
              "      <td>0.0</td>\n",
              "      <td>0.0</td>\n",
              "      <td>87000.0</td>\n",
              "      <td>1917500.0</td>\n",
              "      <td>39500.0</td>\n",
              "      <td>2044000.0</td>\n",
              "    </tr>\n",
              "    <tr>\n",
              "      <th>MI</th>\n",
              "      <td>226600.0</td>\n",
              "      <td>2675638.0</td>\n",
              "      <td>5265286.0</td>\n",
              "      <td>81000.0</td>\n",
              "      <td>96226.0</td>\n",
              "      <td>450500.0</td>\n",
              "      <td>3230153.0</td>\n",
              "      <td>24527288.0</td>\n",
              "      <td>2353211.0</td>\n",
              "      <td>38905902.0</td>\n",
              "    </tr>\n",
              "    <tr>\n",
              "      <th>MN</th>\n",
              "      <td>8000.0</td>\n",
              "      <td>6500.0</td>\n",
              "      <td>536500.0</td>\n",
              "      <td>9950.0</td>\n",
              "      <td>1500.0</td>\n",
              "      <td>257000.0</td>\n",
              "      <td>304400.0</td>\n",
              "      <td>2298881.0</td>\n",
              "      <td>276000.0</td>\n",
              "      <td>3698731.0</td>\n",
              "    </tr>\n",
              "    <tr>\n",
              "      <th>MO</th>\n",
              "      <td>24000.0</td>\n",
              "      <td>108500.0</td>\n",
              "      <td>409278.0</td>\n",
              "      <td>0.0</td>\n",
              "      <td>12092.0</td>\n",
              "      <td>110000.0</td>\n",
              "      <td>1399943.0</td>\n",
              "      <td>3548049.0</td>\n",
              "      <td>432600.0</td>\n",
              "      <td>6044462.0</td>\n",
              "    </tr>\n",
              "    <tr>\n",
              "      <th>MS</th>\n",
              "      <td>0.0</td>\n",
              "      <td>3000.0</td>\n",
              "      <td>695000.0</td>\n",
              "      <td>0.0</td>\n",
              "      <td>100000.0</td>\n",
              "      <td>40000.0</td>\n",
              "      <td>207800.0</td>\n",
              "      <td>1844630.0</td>\n",
              "      <td>758000.0</td>\n",
              "      <td>3648430.0</td>\n",
              "    </tr>\n",
              "    <tr>\n",
              "      <th>MT</th>\n",
              "      <td>0.0</td>\n",
              "      <td>0.0</td>\n",
              "      <td>0.0</td>\n",
              "      <td>0.0</td>\n",
              "      <td>0.0</td>\n",
              "      <td>0.0</td>\n",
              "      <td>8500.0</td>\n",
              "      <td>5000.0</td>\n",
              "      <td>50000.0</td>\n",
              "      <td>63500.0</td>\n",
              "    </tr>\n",
              "    <tr>\n",
              "      <th>NC</th>\n",
              "      <td>1013300.0</td>\n",
              "      <td>208680.0</td>\n",
              "      <td>645600.0</td>\n",
              "      <td>6500.0</td>\n",
              "      <td>50000.0</td>\n",
              "      <td>543000.0</td>\n",
              "      <td>1628625.0</td>\n",
              "      <td>7434624.0</td>\n",
              "      <td>358500.0</td>\n",
              "      <td>11888829.0</td>\n",
              "    </tr>\n",
              "    <tr>\n",
              "      <th>ND</th>\n",
              "      <td>0.0</td>\n",
              "      <td>330000.0</td>\n",
              "      <td>123000.0</td>\n",
              "      <td>0.0</td>\n",
              "      <td>1200.0</td>\n",
              "      <td>0.0</td>\n",
              "      <td>44100.0</td>\n",
              "      <td>614300.0</td>\n",
              "      <td>354500.0</td>\n",
              "      <td>1467100.0</td>\n",
              "    </tr>\n",
              "    <tr>\n",
              "      <th>NE</th>\n",
              "      <td>0.0</td>\n",
              "      <td>0.0</td>\n",
              "      <td>0.0</td>\n",
              "      <td>0.0</td>\n",
              "      <td>0.0</td>\n",
              "      <td>0.0</td>\n",
              "      <td>57000.0</td>\n",
              "      <td>47000.0</td>\n",
              "      <td>3000.0</td>\n",
              "      <td>107000.0</td>\n",
              "    </tr>\n",
              "    <tr>\n",
              "      <th>NH</th>\n",
              "      <td>10000.0</td>\n",
              "      <td>43000.0</td>\n",
              "      <td>35900.0</td>\n",
              "      <td>0.0</td>\n",
              "      <td>325000.0</td>\n",
              "      <td>65000.0</td>\n",
              "      <td>230150.0</td>\n",
              "      <td>3100700.0</td>\n",
              "      <td>49700.0</td>\n",
              "      <td>3859450.0</td>\n",
              "    </tr>\n",
              "    <tr>\n",
              "      <th>NJ</th>\n",
              "      <td>0.0</td>\n",
              "      <td>18500.0</td>\n",
              "      <td>1175800.0</td>\n",
              "      <td>75000.0</td>\n",
              "      <td>14200.0</td>\n",
              "      <td>0.0</td>\n",
              "      <td>456493.0</td>\n",
              "      <td>4284250.0</td>\n",
              "      <td>56000.0</td>\n",
              "      <td>6080243.0</td>\n",
              "    </tr>\n",
              "    <tr>\n",
              "      <th>NM</th>\n",
              "      <td>0.0</td>\n",
              "      <td>0.0</td>\n",
              "      <td>0.0</td>\n",
              "      <td>0.0</td>\n",
              "      <td>0.0</td>\n",
              "      <td>0.0</td>\n",
              "      <td>0.0</td>\n",
              "      <td>34000.0</td>\n",
              "      <td>0.0</td>\n",
              "      <td>34000.0</td>\n",
              "    </tr>\n",
              "    <tr>\n",
              "      <th>NV</th>\n",
              "      <td>0.0</td>\n",
              "      <td>7000.0</td>\n",
              "      <td>6500.0</td>\n",
              "      <td>0.0</td>\n",
              "      <td>0.0</td>\n",
              "      <td>52500.0</td>\n",
              "      <td>44500.0</td>\n",
              "      <td>1009500.0</td>\n",
              "      <td>0.0</td>\n",
              "      <td>1120000.0</td>\n",
              "    </tr>\n",
              "    <tr>\n",
              "      <th>NY</th>\n",
              "      <td>0.0</td>\n",
              "      <td>10000.0</td>\n",
              "      <td>35500.0</td>\n",
              "      <td>0.0</td>\n",
              "      <td>0.0</td>\n",
              "      <td>57500.0</td>\n",
              "      <td>129649.0</td>\n",
              "      <td>2074700.0</td>\n",
              "      <td>108100.0</td>\n",
              "      <td>2415449.0</td>\n",
              "    </tr>\n",
              "    <tr>\n",
              "      <th>OH</th>\n",
              "      <td>1526000.0</td>\n",
              "      <td>7108369.0</td>\n",
              "      <td>3031695.0</td>\n",
              "      <td>433500.0</td>\n",
              "      <td>50500.0</td>\n",
              "      <td>675000.0</td>\n",
              "      <td>5281405.0</td>\n",
              "      <td>27734345.0</td>\n",
              "      <td>2658315.0</td>\n",
              "      <td>48499129.0</td>\n",
              "    </tr>\n",
              "    <tr>\n",
              "      <th>OK</th>\n",
              "      <td>180000.0</td>\n",
              "      <td>6000.0</td>\n",
              "      <td>288500.0</td>\n",
              "      <td>0.0</td>\n",
              "      <td>0.0</td>\n",
              "      <td>10000.0</td>\n",
              "      <td>417500.0</td>\n",
              "      <td>1301000.0</td>\n",
              "      <td>195000.0</td>\n",
              "      <td>2398000.0</td>\n",
              "    </tr>\n",
              "    <tr>\n",
              "      <th>OR</th>\n",
              "      <td>2000.0</td>\n",
              "      <td>380750.0</td>\n",
              "      <td>383100.0</td>\n",
              "      <td>10000.0</td>\n",
              "      <td>22000.0</td>\n",
              "      <td>8000.0</td>\n",
              "      <td>938050.0</td>\n",
              "      <td>9280157.0</td>\n",
              "      <td>337500.0</td>\n",
              "      <td>11361557.0</td>\n",
              "    </tr>\n",
              "    <tr>\n",
              "      <th>PA</th>\n",
              "      <td>57500.0</td>\n",
              "      <td>697900.0</td>\n",
              "      <td>1833900.0</td>\n",
              "      <td>246000.0</td>\n",
              "      <td>22000.0</td>\n",
              "      <td>114000.0</td>\n",
              "      <td>2865700.0</td>\n",
              "      <td>14276130.0</td>\n",
              "      <td>708000.0</td>\n",
              "      <td>20821130.0</td>\n",
              "    </tr>\n",
              "    <tr>\n",
              "      <th>RI</th>\n",
              "      <td>35602.0</td>\n",
              "      <td>0.0</td>\n",
              "      <td>35500.0</td>\n",
              "      <td>0.0</td>\n",
              "      <td>3500.0</td>\n",
              "      <td>213500.0</td>\n",
              "      <td>416600.0</td>\n",
              "      <td>2552025.0</td>\n",
              "      <td>125000.0</td>\n",
              "      <td>3381727.0</td>\n",
              "    </tr>\n",
              "    <tr>\n",
              "      <th>SC</th>\n",
              "      <td>0.0</td>\n",
              "      <td>151000.0</td>\n",
              "      <td>693700.0</td>\n",
              "      <td>0.0</td>\n",
              "      <td>10500.0</td>\n",
              "      <td>205000.0</td>\n",
              "      <td>1732150.0</td>\n",
              "      <td>8274050.0</td>\n",
              "      <td>125200.0</td>\n",
              "      <td>11191600.0</td>\n",
              "    </tr>\n",
              "    <tr>\n",
              "      <th>SD</th>\n",
              "      <td>0.0</td>\n",
              "      <td>0.0</td>\n",
              "      <td>0.0</td>\n",
              "      <td>0.0</td>\n",
              "      <td>0.0</td>\n",
              "      <td>135000.0</td>\n",
              "      <td>10000.0</td>\n",
              "      <td>26500.0</td>\n",
              "      <td>0.0</td>\n",
              "      <td>171500.0</td>\n",
              "    </tr>\n",
              "    <tr>\n",
              "      <th>TN</th>\n",
              "      <td>16500.0</td>\n",
              "      <td>36500.0</td>\n",
              "      <td>356378.0</td>\n",
              "      <td>0.0</td>\n",
              "      <td>3000.0</td>\n",
              "      <td>47500.0</td>\n",
              "      <td>3461579.0</td>\n",
              "      <td>3283723.0</td>\n",
              "      <td>200500.0</td>\n",
              "      <td>7405680.0</td>\n",
              "    </tr>\n",
              "    <tr>\n",
              "      <th>TX</th>\n",
              "      <td>8500.0</td>\n",
              "      <td>2394499.0</td>\n",
              "      <td>2867499.0</td>\n",
              "      <td>304700.0</td>\n",
              "      <td>72000.0</td>\n",
              "      <td>302000.0</td>\n",
              "      <td>10122123.0</td>\n",
              "      <td>50416802.0</td>\n",
              "      <td>4319356.0</td>\n",
              "      <td>70807479.0</td>\n",
              "    </tr>\n",
              "    <tr>\n",
              "      <th>UT</th>\n",
              "      <td>60000.0</td>\n",
              "      <td>3100.0</td>\n",
              "      <td>50000.0</td>\n",
              "      <td>0.0</td>\n",
              "      <td>0.0</td>\n",
              "      <td>5000.0</td>\n",
              "      <td>276900.0</td>\n",
              "      <td>2794174.0</td>\n",
              "      <td>0.0</td>\n",
              "      <td>3189174.0</td>\n",
              "    </tr>\n",
              "    <tr>\n",
              "      <th>VA</th>\n",
              "      <td>114000.0</td>\n",
              "      <td>1858679.0</td>\n",
              "      <td>733886.0</td>\n",
              "      <td>169500.0</td>\n",
              "      <td>27500.0</td>\n",
              "      <td>104000.0</td>\n",
              "      <td>3657475.0</td>\n",
              "      <td>16783007.0</td>\n",
              "      <td>1373400.0</td>\n",
              "      <td>24821447.0</td>\n",
              "    </tr>\n",
              "    <tr>\n",
              "      <th>VT</th>\n",
              "      <td>0.0</td>\n",
              "      <td>0.0</td>\n",
              "      <td>16009.0</td>\n",
              "      <td>0.0</td>\n",
              "      <td>0.0</td>\n",
              "      <td>0.0</td>\n",
              "      <td>10950.0</td>\n",
              "      <td>0.0</td>\n",
              "      <td>0.0</td>\n",
              "      <td>26959.0</td>\n",
              "    </tr>\n",
              "    <tr>\n",
              "      <th>WA</th>\n",
              "      <td>0.0</td>\n",
              "      <td>132500.0</td>\n",
              "      <td>316000.0</td>\n",
              "      <td>10000.0</td>\n",
              "      <td>0.0</td>\n",
              "      <td>5000.0</td>\n",
              "      <td>4174460.0</td>\n",
              "      <td>7164411.0</td>\n",
              "      <td>434000.0</td>\n",
              "      <td>12236371.0</td>\n",
              "    </tr>\n",
              "    <tr>\n",
              "      <th>WI</th>\n",
              "      <td>553200.0</td>\n",
              "      <td>131195.0</td>\n",
              "      <td>1234777.0</td>\n",
              "      <td>10000.0</td>\n",
              "      <td>143000.0</td>\n",
              "      <td>577962.0</td>\n",
              "      <td>999546.0</td>\n",
              "      <td>6957787.0</td>\n",
              "      <td>877325.0</td>\n",
              "      <td>11484792.0</td>\n",
              "    </tr>\n",
              "    <tr>\n",
              "      <th>WV</th>\n",
              "      <td>30001.0</td>\n",
              "      <td>3236000.0</td>\n",
              "      <td>1003000.0</td>\n",
              "      <td>105000.0</td>\n",
              "      <td>3500.0</td>\n",
              "      <td>217500.0</td>\n",
              "      <td>731801.0</td>\n",
              "      <td>8039079.0</td>\n",
              "      <td>339000.0</td>\n",
              "      <td>13704881.0</td>\n",
              "    </tr>\n",
              "    <tr>\n",
              "      <th>Total</th>\n",
              "      <td>59921490.0</td>\n",
              "      <td>31932314.0</td>\n",
              "      <td>57184854.0</td>\n",
              "      <td>4509123.0</td>\n",
              "      <td>4188158.0</td>\n",
              "      <td>16195962.0</td>\n",
              "      <td>110705640.0</td>\n",
              "      <td>462200793.0</td>\n",
              "      <td>32277082.0</td>\n",
              "      <td>779115416.0</td>\n",
              "    </tr>\n",
              "  </tbody>\n",
              "</table>\n",
              "</div>\n",
              "      <button class=\"colab-df-convert\" onclick=\"convertToInteractive('df-64c09dc5-5377-4eab-8e0a-34784b180c3e')\"\n",
              "              title=\"Convert this dataframe to an interactive table.\"\n",
              "              style=\"display:none;\">\n",
              "        \n",
              "  <svg xmlns=\"http://www.w3.org/2000/svg\" height=\"24px\"viewBox=\"0 0 24 24\"\n",
              "       width=\"24px\">\n",
              "    <path d=\"M0 0h24v24H0V0z\" fill=\"none\"/>\n",
              "    <path d=\"M18.56 5.44l.94 2.06.94-2.06 2.06-.94-2.06-.94-.94-2.06-.94 2.06-2.06.94zm-11 1L8.5 8.5l.94-2.06 2.06-.94-2.06-.94L8.5 2.5l-.94 2.06-2.06.94zm10 10l.94 2.06.94-2.06 2.06-.94-2.06-.94-.94-2.06-.94 2.06-2.06.94z\"/><path d=\"M17.41 7.96l-1.37-1.37c-.4-.4-.92-.59-1.43-.59-.52 0-1.04.2-1.43.59L10.3 9.45l-7.72 7.72c-.78.78-.78 2.05 0 2.83L4 21.41c.39.39.9.59 1.41.59.51 0 1.02-.2 1.41-.59l7.78-7.78 2.81-2.81c.8-.78.8-2.07 0-2.86zM5.41 20L4 18.59l7.72-7.72 1.47 1.35L5.41 20z\"/>\n",
              "  </svg>\n",
              "      </button>\n",
              "      \n",
              "  <style>\n",
              "    .colab-df-container {\n",
              "      display:flex;\n",
              "      flex-wrap:wrap;\n",
              "      gap: 12px;\n",
              "    }\n",
              "\n",
              "    .colab-df-convert {\n",
              "      background-color: #E8F0FE;\n",
              "      border: none;\n",
              "      border-radius: 50%;\n",
              "      cursor: pointer;\n",
              "      display: none;\n",
              "      fill: #1967D2;\n",
              "      height: 32px;\n",
              "      padding: 0 0 0 0;\n",
              "      width: 32px;\n",
              "    }\n",
              "\n",
              "    .colab-df-convert:hover {\n",
              "      background-color: #E2EBFA;\n",
              "      box-shadow: 0px 1px 2px rgba(60, 64, 67, 0.3), 0px 1px 3px 1px rgba(60, 64, 67, 0.15);\n",
              "      fill: #174EA6;\n",
              "    }\n",
              "\n",
              "    [theme=dark] .colab-df-convert {\n",
              "      background-color: #3B4455;\n",
              "      fill: #D2E3FC;\n",
              "    }\n",
              "\n",
              "    [theme=dark] .colab-df-convert:hover {\n",
              "      background-color: #434B5C;\n",
              "      box-shadow: 0px 1px 3px 1px rgba(0, 0, 0, 0.15);\n",
              "      filter: drop-shadow(0px 1px 2px rgba(0, 0, 0, 0.3));\n",
              "      fill: #FFFFFF;\n",
              "    }\n",
              "  </style>\n",
              "\n",
              "      <script>\n",
              "        const buttonEl =\n",
              "          document.querySelector('#df-64c09dc5-5377-4eab-8e0a-34784b180c3e button.colab-df-convert');\n",
              "        buttonEl.style.display =\n",
              "          google.colab.kernel.accessAllowed ? 'block' : 'none';\n",
              "\n",
              "        async function convertToInteractive(key) {\n",
              "          const element = document.querySelector('#df-64c09dc5-5377-4eab-8e0a-34784b180c3e');\n",
              "          const dataTable =\n",
              "            await google.colab.kernel.invokeFunction('convertToInteractive',\n",
              "                                                     [key], {});\n",
              "          if (!dataTable) return;\n",
              "\n",
              "          const docLinkHtml = 'Like what you see? Visit the ' +\n",
              "            '<a target=\"_blank\" href=https://colab.research.google.com/notebooks/data_table.ipynb>data table notebook</a>'\n",
              "            + ' to learn more about interactive tables.';\n",
              "          element.innerHTML = '';\n",
              "          dataTable['output_type'] = 'display_data';\n",
              "          await google.colab.output.renderOutput(dataTable, element);\n",
              "          const docLink = document.createElement('div');\n",
              "          docLink.innerHTML = docLinkHtml;\n",
              "          element.appendChild(docLink);\n",
              "        }\n",
              "      </script>\n",
              "    </div>\n",
              "  </div>\n",
              "  "
            ]
          },
          "metadata": {},
          "execution_count": 265
        }
      ]
    },
    {
      "cell_type": "code",
      "source": [
        "# Changing Pivot Table into a DataFrame\n",
        "df_pivot=pd.DataFrame(pvt_table)"
      ],
      "metadata": {
        "id": "r0_3UZs7OW9B"
      },
      "execution_count": 266,
      "outputs": []
    },
    {
      "cell_type": "code",
      "source": [
        "df_pivot.head()"
      ],
      "metadata": {
        "colab": {
          "base_uri": "https://localhost:8080/",
          "height": 237
        },
        "id": "0JsL2uHQOXRQ",
        "outputId": "3b6837d3-041d-421f-dbb7-6e7d5b28bf73"
      },
      "execution_count": 267,
      "outputs": [
        {
          "output_type": "execute_result",
          "data": {
            "text/plain": [
              "PROP_USE  Agriculture   Assembly   Business  Educational  Healthcare  \\\n",
              "STATE                                                                  \n",
              "AK                0.0    25000.0  1672622.0          0.0         0.0   \n",
              "AL                0.0    95000.0   362000.0          0.0         0.0   \n",
              "AR                0.0        0.0    40363.0          0.0   1059000.0   \n",
              "AZ             3000.0  1232500.0    71023.0          0.0     36000.0   \n",
              "CA           104000.0  1404000.0  5302600.0    1505000.0    765500.0   \n",
              "\n",
              "PROP_USE  Manufacturing    Outside  Residential    Storage       Total  \n",
              "STATE                                                                   \n",
              "AK                  0.0   229825.0    1547279.0     9500.0   3484226.0  \n",
              "AL                  0.0   330000.0     718700.0        0.0   1505700.0  \n",
              "AR              37000.0   526400.0    1009650.0    16000.0   2688413.0  \n",
              "AZ             190000.0   134000.0    1098764.0     2000.0   2767287.0  \n",
              "CA             437000.0  6234985.0   26432707.0  1183500.0  43369292.0  "
            ],
            "text/html": [
              "\n",
              "  <div id=\"df-027927e9-b092-4eac-9752-dcfcbb02e33d\">\n",
              "    <div class=\"colab-df-container\">\n",
              "      <div>\n",
              "<style scoped>\n",
              "    .dataframe tbody tr th:only-of-type {\n",
              "        vertical-align: middle;\n",
              "    }\n",
              "\n",
              "    .dataframe tbody tr th {\n",
              "        vertical-align: top;\n",
              "    }\n",
              "\n",
              "    .dataframe thead th {\n",
              "        text-align: right;\n",
              "    }\n",
              "</style>\n",
              "<table border=\"1\" class=\"dataframe\">\n",
              "  <thead>\n",
              "    <tr style=\"text-align: right;\">\n",
              "      <th>PROP_USE</th>\n",
              "      <th>Agriculture</th>\n",
              "      <th>Assembly</th>\n",
              "      <th>Business</th>\n",
              "      <th>Educational</th>\n",
              "      <th>Healthcare</th>\n",
              "      <th>Manufacturing</th>\n",
              "      <th>Outside</th>\n",
              "      <th>Residential</th>\n",
              "      <th>Storage</th>\n",
              "      <th>Total</th>\n",
              "    </tr>\n",
              "    <tr>\n",
              "      <th>STATE</th>\n",
              "      <th></th>\n",
              "      <th></th>\n",
              "      <th></th>\n",
              "      <th></th>\n",
              "      <th></th>\n",
              "      <th></th>\n",
              "      <th></th>\n",
              "      <th></th>\n",
              "      <th></th>\n",
              "      <th></th>\n",
              "    </tr>\n",
              "  </thead>\n",
              "  <tbody>\n",
              "    <tr>\n",
              "      <th>AK</th>\n",
              "      <td>0.0</td>\n",
              "      <td>25000.0</td>\n",
              "      <td>1672622.0</td>\n",
              "      <td>0.0</td>\n",
              "      <td>0.0</td>\n",
              "      <td>0.0</td>\n",
              "      <td>229825.0</td>\n",
              "      <td>1547279.0</td>\n",
              "      <td>9500.0</td>\n",
              "      <td>3484226.0</td>\n",
              "    </tr>\n",
              "    <tr>\n",
              "      <th>AL</th>\n",
              "      <td>0.0</td>\n",
              "      <td>95000.0</td>\n",
              "      <td>362000.0</td>\n",
              "      <td>0.0</td>\n",
              "      <td>0.0</td>\n",
              "      <td>0.0</td>\n",
              "      <td>330000.0</td>\n",
              "      <td>718700.0</td>\n",
              "      <td>0.0</td>\n",
              "      <td>1505700.0</td>\n",
              "    </tr>\n",
              "    <tr>\n",
              "      <th>AR</th>\n",
              "      <td>0.0</td>\n",
              "      <td>0.0</td>\n",
              "      <td>40363.0</td>\n",
              "      <td>0.0</td>\n",
              "      <td>1059000.0</td>\n",
              "      <td>37000.0</td>\n",
              "      <td>526400.0</td>\n",
              "      <td>1009650.0</td>\n",
              "      <td>16000.0</td>\n",
              "      <td>2688413.0</td>\n",
              "    </tr>\n",
              "    <tr>\n",
              "      <th>AZ</th>\n",
              "      <td>3000.0</td>\n",
              "      <td>1232500.0</td>\n",
              "      <td>71023.0</td>\n",
              "      <td>0.0</td>\n",
              "      <td>36000.0</td>\n",
              "      <td>190000.0</td>\n",
              "      <td>134000.0</td>\n",
              "      <td>1098764.0</td>\n",
              "      <td>2000.0</td>\n",
              "      <td>2767287.0</td>\n",
              "    </tr>\n",
              "    <tr>\n",
              "      <th>CA</th>\n",
              "      <td>104000.0</td>\n",
              "      <td>1404000.0</td>\n",
              "      <td>5302600.0</td>\n",
              "      <td>1505000.0</td>\n",
              "      <td>765500.0</td>\n",
              "      <td>437000.0</td>\n",
              "      <td>6234985.0</td>\n",
              "      <td>26432707.0</td>\n",
              "      <td>1183500.0</td>\n",
              "      <td>43369292.0</td>\n",
              "    </tr>\n",
              "  </tbody>\n",
              "</table>\n",
              "</div>\n",
              "      <button class=\"colab-df-convert\" onclick=\"convertToInteractive('df-027927e9-b092-4eac-9752-dcfcbb02e33d')\"\n",
              "              title=\"Convert this dataframe to an interactive table.\"\n",
              "              style=\"display:none;\">\n",
              "        \n",
              "  <svg xmlns=\"http://www.w3.org/2000/svg\" height=\"24px\"viewBox=\"0 0 24 24\"\n",
              "       width=\"24px\">\n",
              "    <path d=\"M0 0h24v24H0V0z\" fill=\"none\"/>\n",
              "    <path d=\"M18.56 5.44l.94 2.06.94-2.06 2.06-.94-2.06-.94-.94-2.06-.94 2.06-2.06.94zm-11 1L8.5 8.5l.94-2.06 2.06-.94-2.06-.94L8.5 2.5l-.94 2.06-2.06.94zm10 10l.94 2.06.94-2.06 2.06-.94-2.06-.94-.94-2.06-.94 2.06-2.06.94z\"/><path d=\"M17.41 7.96l-1.37-1.37c-.4-.4-.92-.59-1.43-.59-.52 0-1.04.2-1.43.59L10.3 9.45l-7.72 7.72c-.78.78-.78 2.05 0 2.83L4 21.41c.39.39.9.59 1.41.59.51 0 1.02-.2 1.41-.59l7.78-7.78 2.81-2.81c.8-.78.8-2.07 0-2.86zM5.41 20L4 18.59l7.72-7.72 1.47 1.35L5.41 20z\"/>\n",
              "  </svg>\n",
              "      </button>\n",
              "      \n",
              "  <style>\n",
              "    .colab-df-container {\n",
              "      display:flex;\n",
              "      flex-wrap:wrap;\n",
              "      gap: 12px;\n",
              "    }\n",
              "\n",
              "    .colab-df-convert {\n",
              "      background-color: #E8F0FE;\n",
              "      border: none;\n",
              "      border-radius: 50%;\n",
              "      cursor: pointer;\n",
              "      display: none;\n",
              "      fill: #1967D2;\n",
              "      height: 32px;\n",
              "      padding: 0 0 0 0;\n",
              "      width: 32px;\n",
              "    }\n",
              "\n",
              "    .colab-df-convert:hover {\n",
              "      background-color: #E2EBFA;\n",
              "      box-shadow: 0px 1px 2px rgba(60, 64, 67, 0.3), 0px 1px 3px 1px rgba(60, 64, 67, 0.15);\n",
              "      fill: #174EA6;\n",
              "    }\n",
              "\n",
              "    [theme=dark] .colab-df-convert {\n",
              "      background-color: #3B4455;\n",
              "      fill: #D2E3FC;\n",
              "    }\n",
              "\n",
              "    [theme=dark] .colab-df-convert:hover {\n",
              "      background-color: #434B5C;\n",
              "      box-shadow: 0px 1px 3px 1px rgba(0, 0, 0, 0.15);\n",
              "      filter: drop-shadow(0px 1px 2px rgba(0, 0, 0, 0.3));\n",
              "      fill: #FFFFFF;\n",
              "    }\n",
              "  </style>\n",
              "\n",
              "      <script>\n",
              "        const buttonEl =\n",
              "          document.querySelector('#df-027927e9-b092-4eac-9752-dcfcbb02e33d button.colab-df-convert');\n",
              "        buttonEl.style.display =\n",
              "          google.colab.kernel.accessAllowed ? 'block' : 'none';\n",
              "\n",
              "        async function convertToInteractive(key) {\n",
              "          const element = document.querySelector('#df-027927e9-b092-4eac-9752-dcfcbb02e33d');\n",
              "          const dataTable =\n",
              "            await google.colab.kernel.invokeFunction('convertToInteractive',\n",
              "                                                     [key], {});\n",
              "          if (!dataTable) return;\n",
              "\n",
              "          const docLinkHtml = 'Like what you see? Visit the ' +\n",
              "            '<a target=\"_blank\" href=https://colab.research.google.com/notebooks/data_table.ipynb>data table notebook</a>'\n",
              "            + ' to learn more about interactive tables.';\n",
              "          element.innerHTML = '';\n",
              "          dataTable['output_type'] = 'display_data';\n",
              "          await google.colab.output.renderOutput(dataTable, element);\n",
              "          const docLink = document.createElement('div');\n",
              "          docLink.innerHTML = docLinkHtml;\n",
              "          element.appendChild(docLink);\n",
              "        }\n",
              "      </script>\n",
              "    </div>\n",
              "  </div>\n",
              "  "
            ]
          },
          "metadata": {},
          "execution_count": 267
        }
      ]
    },
    {
      "cell_type": "code",
      "source": [
        "df_pivot.sort_values(by=['Total'],inplace=True,ascending=False)"
      ],
      "metadata": {
        "id": "lodmlw2yngo5"
      },
      "execution_count": 268,
      "outputs": []
    },
    {
      "cell_type": "code",
      "source": [
        "df_pivot.head(n=6)"
      ],
      "metadata": {
        "colab": {
          "base_uri": "https://localhost:8080/",
          "height": 269
        },
        "id": "C8PxwT1JnlDd",
        "outputId": "95f1d1f3-d792-4952-ec31-4b1e2e4c4c0e"
      },
      "execution_count": 269,
      "outputs": [
        {
          "output_type": "execute_result",
          "data": {
            "text/plain": [
              "PROP_USE  Agriculture    Assembly    Business  Educational  Healthcare  \\\n",
              "STATE                                                                    \n",
              "Total      59921490.0  31932314.0  57184854.0    4509123.0   4188158.0   \n",
              "FL          9684787.0   2525406.0   4602613.0     777290.0    118800.0   \n",
              "IL           715000.0   3227250.0   7769378.0      70683.0    117500.0   \n",
              "TX             8500.0   2394499.0   2867499.0     304700.0     72000.0   \n",
              "GA          5346500.0   1280205.0   4342400.0     194000.0      2500.0   \n",
              "OH          1526000.0   7108369.0   3031695.0     433500.0     50500.0   \n",
              "\n",
              "PROP_USE  Manufacturing      Outside  Residential     Storage        Total  \n",
              "STATE                                                                       \n",
              "Total        16195962.0  110705640.0  462200793.0  32277082.0  779115416.0  \n",
              "FL            1387000.0   26048912.0   53331117.0   4084794.0  102560719.0  \n",
              "IL            4341500.0    8636913.0   51569539.0   3534311.0   79982074.0  \n",
              "TX             302000.0   10122123.0   50416802.0   4319356.0   70807479.0  \n",
              "GA            4720000.0    6207294.0   39920266.0   1474270.0   63487435.0  \n",
              "OH             675000.0    5281405.0   27734345.0   2658315.0   48499129.0  "
            ],
            "text/html": [
              "\n",
              "  <div id=\"df-8716b701-e267-4125-9f5e-6f1e0db1bd82\">\n",
              "    <div class=\"colab-df-container\">\n",
              "      <div>\n",
              "<style scoped>\n",
              "    .dataframe tbody tr th:only-of-type {\n",
              "        vertical-align: middle;\n",
              "    }\n",
              "\n",
              "    .dataframe tbody tr th {\n",
              "        vertical-align: top;\n",
              "    }\n",
              "\n",
              "    .dataframe thead th {\n",
              "        text-align: right;\n",
              "    }\n",
              "</style>\n",
              "<table border=\"1\" class=\"dataframe\">\n",
              "  <thead>\n",
              "    <tr style=\"text-align: right;\">\n",
              "      <th>PROP_USE</th>\n",
              "      <th>Agriculture</th>\n",
              "      <th>Assembly</th>\n",
              "      <th>Business</th>\n",
              "      <th>Educational</th>\n",
              "      <th>Healthcare</th>\n",
              "      <th>Manufacturing</th>\n",
              "      <th>Outside</th>\n",
              "      <th>Residential</th>\n",
              "      <th>Storage</th>\n",
              "      <th>Total</th>\n",
              "    </tr>\n",
              "    <tr>\n",
              "      <th>STATE</th>\n",
              "      <th></th>\n",
              "      <th></th>\n",
              "      <th></th>\n",
              "      <th></th>\n",
              "      <th></th>\n",
              "      <th></th>\n",
              "      <th></th>\n",
              "      <th></th>\n",
              "      <th></th>\n",
              "      <th></th>\n",
              "    </tr>\n",
              "  </thead>\n",
              "  <tbody>\n",
              "    <tr>\n",
              "      <th>Total</th>\n",
              "      <td>59921490.0</td>\n",
              "      <td>31932314.0</td>\n",
              "      <td>57184854.0</td>\n",
              "      <td>4509123.0</td>\n",
              "      <td>4188158.0</td>\n",
              "      <td>16195962.0</td>\n",
              "      <td>110705640.0</td>\n",
              "      <td>462200793.0</td>\n",
              "      <td>32277082.0</td>\n",
              "      <td>779115416.0</td>\n",
              "    </tr>\n",
              "    <tr>\n",
              "      <th>FL</th>\n",
              "      <td>9684787.0</td>\n",
              "      <td>2525406.0</td>\n",
              "      <td>4602613.0</td>\n",
              "      <td>777290.0</td>\n",
              "      <td>118800.0</td>\n",
              "      <td>1387000.0</td>\n",
              "      <td>26048912.0</td>\n",
              "      <td>53331117.0</td>\n",
              "      <td>4084794.0</td>\n",
              "      <td>102560719.0</td>\n",
              "    </tr>\n",
              "    <tr>\n",
              "      <th>IL</th>\n",
              "      <td>715000.0</td>\n",
              "      <td>3227250.0</td>\n",
              "      <td>7769378.0</td>\n",
              "      <td>70683.0</td>\n",
              "      <td>117500.0</td>\n",
              "      <td>4341500.0</td>\n",
              "      <td>8636913.0</td>\n",
              "      <td>51569539.0</td>\n",
              "      <td>3534311.0</td>\n",
              "      <td>79982074.0</td>\n",
              "    </tr>\n",
              "    <tr>\n",
              "      <th>TX</th>\n",
              "      <td>8500.0</td>\n",
              "      <td>2394499.0</td>\n",
              "      <td>2867499.0</td>\n",
              "      <td>304700.0</td>\n",
              "      <td>72000.0</td>\n",
              "      <td>302000.0</td>\n",
              "      <td>10122123.0</td>\n",
              "      <td>50416802.0</td>\n",
              "      <td>4319356.0</td>\n",
              "      <td>70807479.0</td>\n",
              "    </tr>\n",
              "    <tr>\n",
              "      <th>GA</th>\n",
              "      <td>5346500.0</td>\n",
              "      <td>1280205.0</td>\n",
              "      <td>4342400.0</td>\n",
              "      <td>194000.0</td>\n",
              "      <td>2500.0</td>\n",
              "      <td>4720000.0</td>\n",
              "      <td>6207294.0</td>\n",
              "      <td>39920266.0</td>\n",
              "      <td>1474270.0</td>\n",
              "      <td>63487435.0</td>\n",
              "    </tr>\n",
              "    <tr>\n",
              "      <th>OH</th>\n",
              "      <td>1526000.0</td>\n",
              "      <td>7108369.0</td>\n",
              "      <td>3031695.0</td>\n",
              "      <td>433500.0</td>\n",
              "      <td>50500.0</td>\n",
              "      <td>675000.0</td>\n",
              "      <td>5281405.0</td>\n",
              "      <td>27734345.0</td>\n",
              "      <td>2658315.0</td>\n",
              "      <td>48499129.0</td>\n",
              "    </tr>\n",
              "  </tbody>\n",
              "</table>\n",
              "</div>\n",
              "      <button class=\"colab-df-convert\" onclick=\"convertToInteractive('df-8716b701-e267-4125-9f5e-6f1e0db1bd82')\"\n",
              "              title=\"Convert this dataframe to an interactive table.\"\n",
              "              style=\"display:none;\">\n",
              "        \n",
              "  <svg xmlns=\"http://www.w3.org/2000/svg\" height=\"24px\"viewBox=\"0 0 24 24\"\n",
              "       width=\"24px\">\n",
              "    <path d=\"M0 0h24v24H0V0z\" fill=\"none\"/>\n",
              "    <path d=\"M18.56 5.44l.94 2.06.94-2.06 2.06-.94-2.06-.94-.94-2.06-.94 2.06-2.06.94zm-11 1L8.5 8.5l.94-2.06 2.06-.94-2.06-.94L8.5 2.5l-.94 2.06-2.06.94zm10 10l.94 2.06.94-2.06 2.06-.94-2.06-.94-.94-2.06-.94 2.06-2.06.94z\"/><path d=\"M17.41 7.96l-1.37-1.37c-.4-.4-.92-.59-1.43-.59-.52 0-1.04.2-1.43.59L10.3 9.45l-7.72 7.72c-.78.78-.78 2.05 0 2.83L4 21.41c.39.39.9.59 1.41.59.51 0 1.02-.2 1.41-.59l7.78-7.78 2.81-2.81c.8-.78.8-2.07 0-2.86zM5.41 20L4 18.59l7.72-7.72 1.47 1.35L5.41 20z\"/>\n",
              "  </svg>\n",
              "      </button>\n",
              "      \n",
              "  <style>\n",
              "    .colab-df-container {\n",
              "      display:flex;\n",
              "      flex-wrap:wrap;\n",
              "      gap: 12px;\n",
              "    }\n",
              "\n",
              "    .colab-df-convert {\n",
              "      background-color: #E8F0FE;\n",
              "      border: none;\n",
              "      border-radius: 50%;\n",
              "      cursor: pointer;\n",
              "      display: none;\n",
              "      fill: #1967D2;\n",
              "      height: 32px;\n",
              "      padding: 0 0 0 0;\n",
              "      width: 32px;\n",
              "    }\n",
              "\n",
              "    .colab-df-convert:hover {\n",
              "      background-color: #E2EBFA;\n",
              "      box-shadow: 0px 1px 2px rgba(60, 64, 67, 0.3), 0px 1px 3px 1px rgba(60, 64, 67, 0.15);\n",
              "      fill: #174EA6;\n",
              "    }\n",
              "\n",
              "    [theme=dark] .colab-df-convert {\n",
              "      background-color: #3B4455;\n",
              "      fill: #D2E3FC;\n",
              "    }\n",
              "\n",
              "    [theme=dark] .colab-df-convert:hover {\n",
              "      background-color: #434B5C;\n",
              "      box-shadow: 0px 1px 3px 1px rgba(0, 0, 0, 0.15);\n",
              "      filter: drop-shadow(0px 1px 2px rgba(0, 0, 0, 0.3));\n",
              "      fill: #FFFFFF;\n",
              "    }\n",
              "  </style>\n",
              "\n",
              "      <script>\n",
              "        const buttonEl =\n",
              "          document.querySelector('#df-8716b701-e267-4125-9f5e-6f1e0db1bd82 button.colab-df-convert');\n",
              "        buttonEl.style.display =\n",
              "          google.colab.kernel.accessAllowed ? 'block' : 'none';\n",
              "\n",
              "        async function convertToInteractive(key) {\n",
              "          const element = document.querySelector('#df-8716b701-e267-4125-9f5e-6f1e0db1bd82');\n",
              "          const dataTable =\n",
              "            await google.colab.kernel.invokeFunction('convertToInteractive',\n",
              "                                                     [key], {});\n",
              "          if (!dataTable) return;\n",
              "\n",
              "          const docLinkHtml = 'Like what you see? Visit the ' +\n",
              "            '<a target=\"_blank\" href=https://colab.research.google.com/notebooks/data_table.ipynb>data table notebook</a>'\n",
              "            + ' to learn more about interactive tables.';\n",
              "          element.innerHTML = '';\n",
              "          dataTable['output_type'] = 'display_data';\n",
              "          await google.colab.output.renderOutput(dataTable, element);\n",
              "          const docLink = document.createElement('div');\n",
              "          docLink.innerHTML = docLinkHtml;\n",
              "          element.appendChild(docLink);\n",
              "        }\n",
              "      </script>\n",
              "    </div>\n",
              "  </div>\n",
              "  "
            ]
          },
          "metadata": {},
          "execution_count": 269
        }
      ]
    },
    {
      "cell_type": "markdown",
      "source": [
        "#### **We have created a Pivot Table showing the statewise Total Property Loss (in dollars) for each type of Property Use.**\n",
        "\n",
        "#### **From the table , we can see that the largest losses were attributed to the property type/use categorized as \"Residential\" , followed by the property type categorized as \"Outside\" for the top 5 states with the highest property loss.**"
      ],
      "metadata": {
        "id": "5dmDMuShV7uU"
      }
    },
    {
      "cell_type": "markdown",
      "metadata": {
        "id": "MO3IqgcF6e1m"
      },
      "source": [
        "## EDA: Counting the number of fires (rows) per State in clean dataset.\n",
        "What are the top five States that had fires?\n"
      ]
    },
    {
      "cell_type": "markdown",
      "source": [
        "* **Since we will be counting the number of fires,, we would be considering the incidents with incident_type values between 100 & 173 (as per the data dictionary).**"
      ],
      "metadata": {
        "id": "-GtpDFTLsPs9"
      }
    },
    {
      "cell_type": "code",
      "source": [
        "# Creating a Subset of Dataset for Incident Type 'Fire' \n",
        "\n",
        "df_fire_clean=df[(df['INC_TYPE']>=100) & (df['INC_TYPE']<=173)]\n",
        "print(df_fire_clean.info())"
      ],
      "metadata": {
        "colab": {
          "base_uri": "https://localhost:8080/"
        },
        "id": "XQtZPFsGrWjt",
        "outputId": "00cd3db9-3398-49b1-bd2f-8d90f3d50b75"
      },
      "execution_count": 270,
      "outputs": [
        {
          "output_type": "stream",
          "name": "stdout",
          "text": [
            "<class 'pandas.core.frame.DataFrame'>\n",
            "Int64Index: 22130 entries, 772 to 2113877\n",
            "Data columns (total 40 columns):\n",
            " #   Column     Non-Null Count  Dtype  \n",
            "---  ------     --------------  -----  \n",
            " 0   STATE      22126 non-null  object \n",
            " 1   FDID       22130 non-null  object \n",
            " 2   INC_DATE   22130 non-null  object \n",
            " 3   INC_NO     22130 non-null  object \n",
            " 4   EXP_NO     22130 non-null  int64  \n",
            " 5   DEPT_STA   19852 non-null  object \n",
            " 6   INC_TYPE   22130 non-null  int64  \n",
            " 7   ADD_WILD   22130 non-null  object \n",
            " 8   AID        22130 non-null  object \n",
            " 9   ALARM      22130 non-null  object \n",
            " 10  ARRIVAL    22130 non-null  object \n",
            " 11  INC_CONT   7199 non-null   float64\n",
            " 12  LU_CLEAR   22130 non-null  object \n",
            " 13  SHIFT      20468 non-null  object \n",
            " 14  ALARMS     18635 non-null  object \n",
            " 15  DISTRICT   18830 non-null  object \n",
            " 16  ACT_TAK1   22130 non-null  object \n",
            " 17  ACT_TAK2   13024 non-null  object \n",
            " 18  ACT_TAK3   7720 non-null   object \n",
            " 19  APP_MOD    22130 non-null  object \n",
            " 20  SUP_APP    22130 non-null  int64  \n",
            " 21  EMS_APP    22130 non-null  int64  \n",
            " 22  OTH_APP    22130 non-null  int64  \n",
            " 23  SUP_PER    22130 non-null  int64  \n",
            " 24  EMS_PER    22130 non-null  int64  \n",
            " 25  OTH_PER    22130 non-null  int64  \n",
            " 26  RESOU_AID  22130 non-null  object \n",
            " 27  PROP_LOSS  22130 non-null  float64\n",
            " 28  CONT_LOSS  21396 non-null  float64\n",
            " 29  PROP_VAL   22130 non-null  float64\n",
            " 30  CONT_VAL   19443 non-null  float64\n",
            " 31  FF_DEATH   22129 non-null  float64\n",
            " 32  OTH_DEATH  877 non-null    float64\n",
            " 33  FF_INJ     22129 non-null  float64\n",
            " 34  OTH_INJ    877 non-null    float64\n",
            " 35  DET_ALERT  11705 non-null  object \n",
            " 36  HAZ_REL    9660 non-null   object \n",
            " 37  MIXED_USE  8561 non-null   object \n",
            " 38  PROP_USE   22127 non-null  object \n",
            " 39  CENSUS     22130 non-null  float64\n",
            "dtypes: float64(10), int64(8), object(22)\n",
            "memory usage: 6.9+ MB\n",
            "None\n"
          ]
        }
      ]
    },
    {
      "cell_type": "code",
      "metadata": {
        "id": "d62K8NED-h1L",
        "colab": {
          "base_uri": "https://localhost:8080/"
        },
        "outputId": "b25439d7-86e2-469a-e2d7-4c9f9229a420"
      },
      "source": [
        "# Number of Fires Per State\n",
        "\n",
        "print(\"\\nNumber of Fires Per State :\\n\")\n",
        "print(df_fire_clean['STATE'].value_counts())\n",
        "\n",
        "# The Top Five States that had Fires are : Florida (FL), Illinois (IL), Ohio (OH) , Texas (TX) & Georgia (GA). "
      ],
      "execution_count": 271,
      "outputs": [
        {
          "output_type": "stream",
          "name": "stdout",
          "text": [
            "\n",
            "Number of Fires Per State :\n",
            "\n",
            "FL    3005\n",
            "IL    2558\n",
            "OH    2021\n",
            "TX    1760\n",
            "GA    1599\n",
            "MI    1240\n",
            "CA    1182\n",
            "VA     967\n",
            "MA     955\n",
            "PA     717\n",
            "LA     570\n",
            "KY     557\n",
            "NC     546\n",
            "OR     433\n",
            "HI     360\n",
            "WV     360\n",
            "WI     332\n",
            "SC     310\n",
            "MO     242\n",
            "WA     234\n",
            "TN     204\n",
            "IA     182\n",
            "CT     166\n",
            "NJ     161\n",
            "MN     127\n",
            "OK     118\n",
            "NH     107\n",
            "AR     106\n",
            "KS     100\n",
            "RI      98\n",
            "MS      96\n",
            "NY      87\n",
            "AZ      83\n",
            "UT      74\n",
            "AK      72\n",
            "MD      69\n",
            "ID      65\n",
            "AL      54\n",
            "IN      47\n",
            "ND      37\n",
            "NV      35\n",
            "ME      34\n",
            "CO      28\n",
            "NE      10\n",
            "MT       6\n",
            "SD       5\n",
            "NM       4\n",
            "VT       2\n",
            "DE       1\n",
            "Name: STATE, dtype: int64\n"
          ]
        }
      ]
    },
    {
      "cell_type": "markdown",
      "source": [
        "#### ***The Top Five States that had Fires are : Florida (FL), Illinois (IL), Ohio (OH) , Texas (TX) & Georgia (GA). ***"
      ],
      "metadata": {
        "id": "YUsAv3Dvp7Kh"
      }
    },
    {
      "cell_type": "markdown",
      "metadata": {
        "id": "iEEJWyNDn9mI"
      },
      "source": [
        "## **Description of Columns**\n",
        "\n",
        "* **'INC_TYPE'** : This column represents the actual situation or the type of incident that the emergency personnel found on the scene when they arrived. This critical information helps to identify the various types of incidents to which the fire department responds & allows the fire department to document the full range of incidents it handles.For example , the incidents with INC_TYPE starting with '1' represents 'Fire', those with INC_TYPE starting with '2' represents 'Overpressure Rupture/Explosion/Overheat' , those with INC_TYPE starting with '3' represents 'Rescue and Emergency Medical Service Incident' , & so on and so forth.\n",
        "\n",
        "\n",
        "* **'ALARMS'** : This columns represents the actual number of alarms transmitted for the incident.  An alarm's definition is decided at the local level. One way to gauge the seriousness of an occurrence is the number of alarms. The number of alarms can be important information for analyzing local resource needs. The frequency of alarms could also be related to mutual aid support.\n",
        "\n",
        "\n",
        "* **'ACT_TAK1'** : This column represents the type of action taken. This could include the tasks carried out at the scene of the incident by the responding fire department staff such as extinguishing fires, forcible entry,  providing first-aid , & so on and so forth.\n",
        "\n",
        "\n",
        "* **'SUP_APP'** : This column represents the number of Suppression Apparatus used at the scene of the incident.A fire suppression system or apparatus, such a fire sprinkler system, is used to put out or control fire & it is activated by heat, smoke, or a combination of these two.A fire suppression system doesn't use water to put out the flames; instead, it uses gaseous, chemical, or foam fire suppression agents.\n",
        "\n",
        "\n",
        "* **'EMS_APP'** : This column represents the number of 'Emergency Medical Services' apparatus used at the scene of the incident.The Emergency Medical Technicians (EMTs) will always have a stethoscope, thermometers, and a sphygmomanometer to check the patient's blood pressure. EMTs also have plenty of grasping tools, such as tweezers and forceps, as well as tools to help them see better, such as magnifiers and penlights.\n",
        "\n",
        "\n",
        "* **'OTH_APP'** : This column represents the number of other apparatus sent to the incident. This could include marine equipments,heavy ground equipments, support equipments & so on and so forth.\n",
        "\n",
        "\n",
        "* **'PROP_LOSS'** : This column represents the Property Loss in dollars.This includes a dollar estimate of the the total property loss caused by the incident. 'PROP_LOSS' is the target variable.\n",
        "\n",
        "\n",
        "* **'PROP_VAL'** : This column represents the Property Value in dollars.This includes a dollar estimate of the total pre-incident property value (replacement cost).\n",
        "\n",
        "\n",
        "* **'CONT_VAL'** : This column represents the Contents Value in dollars.\n",
        "This includes a dollar estimate of the total pre-incident contents value(replacement cost).\n",
        "\n",
        "\n",
        "* **'FF_DEATH'** : This column represents the number of Fire Fighters died as a result of the incident.\n",
        "\n",
        "\n",
        "* **'FF_INJ'** : This column represents the number of Fire Fighters injured as a result of the incident.\n",
        "\n",
        "\n",
        "* **'PROP_USE'** : This column represents 'Property Use'.Property Use refers to the actual use of the property where the incident took place, not the combined or overall use of the properties that the property is a part of.For example , Property Use with 'PROP_USE' value starting with '4' represents Residential Use, Property Use with 'PROP_USE' value starting with '8' represents Storage Use, Property Use with 'PROP_USE' value starting with '9' represents Outside or Special Property, & so on and so forth.\n",
        "\n",
        "\n"
      ]
    },
    {
      "cell_type": "markdown",
      "source": [
        "#### **Creating a Subset with Numeric Columns**\n"
      ],
      "metadata": {
        "id": "_2itL2rSyE9Z"
      }
    },
    {
      "cell_type": "code",
      "metadata": {
        "id": "Vm-7383-ocsX"
      },
      "source": [
        "# Creating a Subset with Numeric Columns\n",
        "\n",
        "df_sub=df[['INC_TYPE','ALARMS','ACT_TAK1','SUP_APP','EMS_APP','OTH_APP','PROP_LOSS','PROP_VAL','CONT_VAL','FF_DEATH','FF_INJ','PROP_USE']]"
      ],
      "execution_count": 272,
      "outputs": []
    },
    {
      "cell_type": "code",
      "metadata": {
        "id": "A49HP0npoJvc",
        "colab": {
          "base_uri": "https://localhost:8080/",
          "height": 363
        },
        "outputId": "b33de2e8-6e78-439e-d5da-fe1e044c76d8"
      },
      "source": [
        "df_sub.tail(n=10)"
      ],
      "execution_count": 273,
      "outputs": [
        {
          "output_type": "execute_result",
          "data": {
            "text/plain": [
              "         INC_TYPE ALARMS ACT_TAK1  SUP_APP  EMS_APP  OTH_APP  PROP_LOSS  \\\n",
              "2113590       111    1.0       11        3        0        2     5000.0   \n",
              "2113614       463    1.0       86        1        0        0    10000.0   \n",
              "2113643       111    1.0       11        6        0        4    45000.0   \n",
              "2113689       111    1.0       11       10        0        0    45000.0   \n",
              "2113716       111    1.0       11        4        0        3     2000.0   \n",
              "2113805       111    1.0       21        5        0        2    17500.0   \n",
              "2113851       111    1.0       11        6        0        2    30000.0   \n",
              "2113864       111    1.0       11        6        1        2    10000.0   \n",
              "2113866       111    1.0       11        5        0        3    30000.0   \n",
              "2113877       111    1.0       11        4        0        2     5000.0   \n",
              "\n",
              "         PROP_VAL  CONT_VAL  FF_DEATH  FF_INJ PROP_USE  \n",
              "2113590   65000.0   15000.0       0.0     0.0      419  \n",
              "2113614   70000.0       0.0       0.0     0.0      965  \n",
              "2113643   45000.0    5000.0       0.0     1.0      419  \n",
              "2113689   75000.0   25000.0       0.0     0.0      419  \n",
              "2113716    2000.0     200.0       0.0     0.0      808  \n",
              "2113805   17500.0    2500.0       0.0     0.0      429  \n",
              "2113851   30000.0       0.0       0.0     2.0      419  \n",
              "2113864   45000.0   10000.0       0.0     0.0      419  \n",
              "2113866   50000.0    5000.0       0.0     0.0      419  \n",
              "2113877   90000.0       0.0       0.0     0.0      419  "
            ],
            "text/html": [
              "\n",
              "  <div id=\"df-30b4fa25-69b6-4f34-a54c-2ce8e1cefe84\">\n",
              "    <div class=\"colab-df-container\">\n",
              "      <div>\n",
              "<style scoped>\n",
              "    .dataframe tbody tr th:only-of-type {\n",
              "        vertical-align: middle;\n",
              "    }\n",
              "\n",
              "    .dataframe tbody tr th {\n",
              "        vertical-align: top;\n",
              "    }\n",
              "\n",
              "    .dataframe thead th {\n",
              "        text-align: right;\n",
              "    }\n",
              "</style>\n",
              "<table border=\"1\" class=\"dataframe\">\n",
              "  <thead>\n",
              "    <tr style=\"text-align: right;\">\n",
              "      <th></th>\n",
              "      <th>INC_TYPE</th>\n",
              "      <th>ALARMS</th>\n",
              "      <th>ACT_TAK1</th>\n",
              "      <th>SUP_APP</th>\n",
              "      <th>EMS_APP</th>\n",
              "      <th>OTH_APP</th>\n",
              "      <th>PROP_LOSS</th>\n",
              "      <th>PROP_VAL</th>\n",
              "      <th>CONT_VAL</th>\n",
              "      <th>FF_DEATH</th>\n",
              "      <th>FF_INJ</th>\n",
              "      <th>PROP_USE</th>\n",
              "    </tr>\n",
              "  </thead>\n",
              "  <tbody>\n",
              "    <tr>\n",
              "      <th>2113590</th>\n",
              "      <td>111</td>\n",
              "      <td>1.0</td>\n",
              "      <td>11</td>\n",
              "      <td>3</td>\n",
              "      <td>0</td>\n",
              "      <td>2</td>\n",
              "      <td>5000.0</td>\n",
              "      <td>65000.0</td>\n",
              "      <td>15000.0</td>\n",
              "      <td>0.0</td>\n",
              "      <td>0.0</td>\n",
              "      <td>419</td>\n",
              "    </tr>\n",
              "    <tr>\n",
              "      <th>2113614</th>\n",
              "      <td>463</td>\n",
              "      <td>1.0</td>\n",
              "      <td>86</td>\n",
              "      <td>1</td>\n",
              "      <td>0</td>\n",
              "      <td>0</td>\n",
              "      <td>10000.0</td>\n",
              "      <td>70000.0</td>\n",
              "      <td>0.0</td>\n",
              "      <td>0.0</td>\n",
              "      <td>0.0</td>\n",
              "      <td>965</td>\n",
              "    </tr>\n",
              "    <tr>\n",
              "      <th>2113643</th>\n",
              "      <td>111</td>\n",
              "      <td>1.0</td>\n",
              "      <td>11</td>\n",
              "      <td>6</td>\n",
              "      <td>0</td>\n",
              "      <td>4</td>\n",
              "      <td>45000.0</td>\n",
              "      <td>45000.0</td>\n",
              "      <td>5000.0</td>\n",
              "      <td>0.0</td>\n",
              "      <td>1.0</td>\n",
              "      <td>419</td>\n",
              "    </tr>\n",
              "    <tr>\n",
              "      <th>2113689</th>\n",
              "      <td>111</td>\n",
              "      <td>1.0</td>\n",
              "      <td>11</td>\n",
              "      <td>10</td>\n",
              "      <td>0</td>\n",
              "      <td>0</td>\n",
              "      <td>45000.0</td>\n",
              "      <td>75000.0</td>\n",
              "      <td>25000.0</td>\n",
              "      <td>0.0</td>\n",
              "      <td>0.0</td>\n",
              "      <td>419</td>\n",
              "    </tr>\n",
              "    <tr>\n",
              "      <th>2113716</th>\n",
              "      <td>111</td>\n",
              "      <td>1.0</td>\n",
              "      <td>11</td>\n",
              "      <td>4</td>\n",
              "      <td>0</td>\n",
              "      <td>3</td>\n",
              "      <td>2000.0</td>\n",
              "      <td>2000.0</td>\n",
              "      <td>200.0</td>\n",
              "      <td>0.0</td>\n",
              "      <td>0.0</td>\n",
              "      <td>808</td>\n",
              "    </tr>\n",
              "    <tr>\n",
              "      <th>2113805</th>\n",
              "      <td>111</td>\n",
              "      <td>1.0</td>\n",
              "      <td>21</td>\n",
              "      <td>5</td>\n",
              "      <td>0</td>\n",
              "      <td>2</td>\n",
              "      <td>17500.0</td>\n",
              "      <td>17500.0</td>\n",
              "      <td>2500.0</td>\n",
              "      <td>0.0</td>\n",
              "      <td>0.0</td>\n",
              "      <td>429</td>\n",
              "    </tr>\n",
              "    <tr>\n",
              "      <th>2113851</th>\n",
              "      <td>111</td>\n",
              "      <td>1.0</td>\n",
              "      <td>11</td>\n",
              "      <td>6</td>\n",
              "      <td>0</td>\n",
              "      <td>2</td>\n",
              "      <td>30000.0</td>\n",
              "      <td>30000.0</td>\n",
              "      <td>0.0</td>\n",
              "      <td>0.0</td>\n",
              "      <td>2.0</td>\n",
              "      <td>419</td>\n",
              "    </tr>\n",
              "    <tr>\n",
              "      <th>2113864</th>\n",
              "      <td>111</td>\n",
              "      <td>1.0</td>\n",
              "      <td>11</td>\n",
              "      <td>6</td>\n",
              "      <td>1</td>\n",
              "      <td>2</td>\n",
              "      <td>10000.0</td>\n",
              "      <td>45000.0</td>\n",
              "      <td>10000.0</td>\n",
              "      <td>0.0</td>\n",
              "      <td>0.0</td>\n",
              "      <td>419</td>\n",
              "    </tr>\n",
              "    <tr>\n",
              "      <th>2113866</th>\n",
              "      <td>111</td>\n",
              "      <td>1.0</td>\n",
              "      <td>11</td>\n",
              "      <td>5</td>\n",
              "      <td>0</td>\n",
              "      <td>3</td>\n",
              "      <td>30000.0</td>\n",
              "      <td>50000.0</td>\n",
              "      <td>5000.0</td>\n",
              "      <td>0.0</td>\n",
              "      <td>0.0</td>\n",
              "      <td>419</td>\n",
              "    </tr>\n",
              "    <tr>\n",
              "      <th>2113877</th>\n",
              "      <td>111</td>\n",
              "      <td>1.0</td>\n",
              "      <td>11</td>\n",
              "      <td>4</td>\n",
              "      <td>0</td>\n",
              "      <td>2</td>\n",
              "      <td>5000.0</td>\n",
              "      <td>90000.0</td>\n",
              "      <td>0.0</td>\n",
              "      <td>0.0</td>\n",
              "      <td>0.0</td>\n",
              "      <td>419</td>\n",
              "    </tr>\n",
              "  </tbody>\n",
              "</table>\n",
              "</div>\n",
              "      <button class=\"colab-df-convert\" onclick=\"convertToInteractive('df-30b4fa25-69b6-4f34-a54c-2ce8e1cefe84')\"\n",
              "              title=\"Convert this dataframe to an interactive table.\"\n",
              "              style=\"display:none;\">\n",
              "        \n",
              "  <svg xmlns=\"http://www.w3.org/2000/svg\" height=\"24px\"viewBox=\"0 0 24 24\"\n",
              "       width=\"24px\">\n",
              "    <path d=\"M0 0h24v24H0V0z\" fill=\"none\"/>\n",
              "    <path d=\"M18.56 5.44l.94 2.06.94-2.06 2.06-.94-2.06-.94-.94-2.06-.94 2.06-2.06.94zm-11 1L8.5 8.5l.94-2.06 2.06-.94-2.06-.94L8.5 2.5l-.94 2.06-2.06.94zm10 10l.94 2.06.94-2.06 2.06-.94-2.06-.94-.94-2.06-.94 2.06-2.06.94z\"/><path d=\"M17.41 7.96l-1.37-1.37c-.4-.4-.92-.59-1.43-.59-.52 0-1.04.2-1.43.59L10.3 9.45l-7.72 7.72c-.78.78-.78 2.05 0 2.83L4 21.41c.39.39.9.59 1.41.59.51 0 1.02-.2 1.41-.59l7.78-7.78 2.81-2.81c.8-.78.8-2.07 0-2.86zM5.41 20L4 18.59l7.72-7.72 1.47 1.35L5.41 20z\"/>\n",
              "  </svg>\n",
              "      </button>\n",
              "      \n",
              "  <style>\n",
              "    .colab-df-container {\n",
              "      display:flex;\n",
              "      flex-wrap:wrap;\n",
              "      gap: 12px;\n",
              "    }\n",
              "\n",
              "    .colab-df-convert {\n",
              "      background-color: #E8F0FE;\n",
              "      border: none;\n",
              "      border-radius: 50%;\n",
              "      cursor: pointer;\n",
              "      display: none;\n",
              "      fill: #1967D2;\n",
              "      height: 32px;\n",
              "      padding: 0 0 0 0;\n",
              "      width: 32px;\n",
              "    }\n",
              "\n",
              "    .colab-df-convert:hover {\n",
              "      background-color: #E2EBFA;\n",
              "      box-shadow: 0px 1px 2px rgba(60, 64, 67, 0.3), 0px 1px 3px 1px rgba(60, 64, 67, 0.15);\n",
              "      fill: #174EA6;\n",
              "    }\n",
              "\n",
              "    [theme=dark] .colab-df-convert {\n",
              "      background-color: #3B4455;\n",
              "      fill: #D2E3FC;\n",
              "    }\n",
              "\n",
              "    [theme=dark] .colab-df-convert:hover {\n",
              "      background-color: #434B5C;\n",
              "      box-shadow: 0px 1px 3px 1px rgba(0, 0, 0, 0.15);\n",
              "      filter: drop-shadow(0px 1px 2px rgba(0, 0, 0, 0.3));\n",
              "      fill: #FFFFFF;\n",
              "    }\n",
              "  </style>\n",
              "\n",
              "      <script>\n",
              "        const buttonEl =\n",
              "          document.querySelector('#df-30b4fa25-69b6-4f34-a54c-2ce8e1cefe84 button.colab-df-convert');\n",
              "        buttonEl.style.display =\n",
              "          google.colab.kernel.accessAllowed ? 'block' : 'none';\n",
              "\n",
              "        async function convertToInteractive(key) {\n",
              "          const element = document.querySelector('#df-30b4fa25-69b6-4f34-a54c-2ce8e1cefe84');\n",
              "          const dataTable =\n",
              "            await google.colab.kernel.invokeFunction('convertToInteractive',\n",
              "                                                     [key], {});\n",
              "          if (!dataTable) return;\n",
              "\n",
              "          const docLinkHtml = 'Like what you see? Visit the ' +\n",
              "            '<a target=\"_blank\" href=https://colab.research.google.com/notebooks/data_table.ipynb>data table notebook</a>'\n",
              "            + ' to learn more about interactive tables.';\n",
              "          element.innerHTML = '';\n",
              "          dataTable['output_type'] = 'display_data';\n",
              "          await google.colab.output.renderOutput(dataTable, element);\n",
              "          const docLink = document.createElement('div');\n",
              "          docLink.innerHTML = docLinkHtml;\n",
              "          element.appendChild(docLink);\n",
              "        }\n",
              "      </script>\n",
              "    </div>\n",
              "  </div>\n",
              "  "
            ]
          },
          "metadata": {},
          "execution_count": 273
        }
      ]
    },
    {
      "cell_type": "code",
      "metadata": {
        "id": "U7Pq3yhZoR0K",
        "colab": {
          "base_uri": "https://localhost:8080/"
        },
        "outputId": "35b2ef0d-6310-4746-d3be-dd818c3bbe2e"
      },
      "source": [
        "# Summary of Subset\n",
        "\n",
        "df_sub.info()"
      ],
      "execution_count": 274,
      "outputs": [
        {
          "output_type": "stream",
          "name": "stdout",
          "text": [
            "<class 'pandas.core.frame.DataFrame'>\n",
            "Int64Index: 22351 entries, 772 to 2113877\n",
            "Data columns (total 12 columns):\n",
            " #   Column     Non-Null Count  Dtype  \n",
            "---  ------     --------------  -----  \n",
            " 0   INC_TYPE   22351 non-null  int64  \n",
            " 1   ALARMS     18834 non-null  object \n",
            " 2   ACT_TAK1   22351 non-null  object \n",
            " 3   SUP_APP    22351 non-null  int64  \n",
            " 4   EMS_APP    22351 non-null  int64  \n",
            " 5   OTH_APP    22351 non-null  int64  \n",
            " 6   PROP_LOSS  22351 non-null  float64\n",
            " 7   PROP_VAL   22351 non-null  float64\n",
            " 8   CONT_VAL   19607 non-null  float64\n",
            " 9   FF_DEATH   22350 non-null  float64\n",
            " 10  FF_INJ     22350 non-null  float64\n",
            " 11  PROP_USE   22348 non-null  object \n",
            "dtypes: float64(5), int64(4), object(3)\n",
            "memory usage: 2.2+ MB\n"
          ]
        }
      ]
    },
    {
      "cell_type": "markdown",
      "metadata": {
        "id": "tHMuNbNj75nI"
      },
      "source": [
        "## Data prep: Converting all columns to numeric and using errors='coerce'.\n"
      ]
    },
    {
      "cell_type": "code",
      "metadata": {
        "id": "xGbOc6ISpIv6",
        "colab": {
          "base_uri": "https://localhost:8080/"
        },
        "outputId": "e5d88009-b7d3-404c-a028-fe128b698d15"
      },
      "source": [
        "# Converting all Columns to Numeric\n",
        "\n",
        "df_sub.iloc[:,:]=df_sub.iloc[:,:].apply(pd.to_numeric, errors = 'coerce')"
      ],
      "execution_count": 275,
      "outputs": [
        {
          "output_type": "stream",
          "name": "stderr",
          "text": [
            "<ipython-input-275-05fc2f4c492f>:3: SettingWithCopyWarning:\n",
            "\n",
            "\n",
            "A value is trying to be set on a copy of a slice from a DataFrame.\n",
            "Try using .loc[row_indexer,col_indexer] = value instead\n",
            "\n",
            "See the caveats in the documentation: https://pandas.pydata.org/pandas-docs/stable/user_guide/indexing.html#returning-a-view-versus-a-copy\n",
            "\n"
          ]
        }
      ]
    },
    {
      "cell_type": "code",
      "source": [
        "# Printing the Datatypes\n",
        "df_sub.dtypes"
      ],
      "metadata": {
        "colab": {
          "base_uri": "https://localhost:8080/"
        },
        "id": "gsYQJUlN3ATF",
        "outputId": "4e16861a-89a8-4d92-8a62-5b14411f1fc9"
      },
      "execution_count": 276,
      "outputs": [
        {
          "output_type": "execute_result",
          "data": {
            "text/plain": [
              "INC_TYPE       int64\n",
              "ALARMS       float64\n",
              "ACT_TAK1     float64\n",
              "SUP_APP        int64\n",
              "EMS_APP        int64\n",
              "OTH_APP        int64\n",
              "PROP_LOSS    float64\n",
              "PROP_VAL     float64\n",
              "CONT_VAL     float64\n",
              "FF_DEATH     float64\n",
              "FF_INJ       float64\n",
              "PROP_USE     float64\n",
              "dtype: object"
            ]
          },
          "metadata": {},
          "execution_count": 276
        }
      ]
    },
    {
      "cell_type": "markdown",
      "metadata": {
        "id": "OVIll9_r8d3I"
      },
      "source": [
        "## Data Prep: Dropping NA rows \n"
      ]
    },
    {
      "cell_type": "code",
      "metadata": {
        "id": "7l8ggXIspoSG"
      },
      "source": [
        "df_final=df_sub.dropna()\n",
        "\n",
        "# We have dropped the missing values instead of imputation in order to maintain the integrity of the data."
      ],
      "execution_count": 277,
      "outputs": []
    },
    {
      "cell_type": "markdown",
      "source": [
        "#### We have dropped the missing values instead of imputation in order to maintain the integrity of the data."
      ],
      "metadata": {
        "id": "u7Apq13c40pm"
      }
    },
    {
      "cell_type": "code",
      "metadata": {
        "id": "sNHffDvqptwt",
        "colab": {
          "base_uri": "https://localhost:8080/"
        },
        "outputId": "78fda41c-ce5e-419e-f514-a9a12a34fade"
      },
      "source": [
        "print(\"\\nSummary :\\n\")\n",
        "print(df_final.info())\n",
        "\n",
        "print(\"\\n\\n\")\n",
        "print(\"Cleaned Dataset\\n\")\n",
        "print(df_final.head())\n"
      ],
      "execution_count": 278,
      "outputs": [
        {
          "output_type": "stream",
          "name": "stdout",
          "text": [
            "\n",
            "Summary :\n",
            "\n",
            "<class 'pandas.core.frame.DataFrame'>\n",
            "Int64Index: 16371 entries, 4197 to 2113877\n",
            "Data columns (total 12 columns):\n",
            " #   Column     Non-Null Count  Dtype  \n",
            "---  ------     --------------  -----  \n",
            " 0   INC_TYPE   16371 non-null  int64  \n",
            " 1   ALARMS     16371 non-null  float64\n",
            " 2   ACT_TAK1   16371 non-null  float64\n",
            " 3   SUP_APP    16371 non-null  int64  \n",
            " 4   EMS_APP    16371 non-null  int64  \n",
            " 5   OTH_APP    16371 non-null  int64  \n",
            " 6   PROP_LOSS  16371 non-null  float64\n",
            " 7   PROP_VAL   16371 non-null  float64\n",
            " 8   CONT_VAL   16371 non-null  float64\n",
            " 9   FF_DEATH   16371 non-null  float64\n",
            " 10  FF_INJ     16371 non-null  float64\n",
            " 11  PROP_USE   16371 non-null  float64\n",
            "dtypes: float64(8), int64(4)\n",
            "memory usage: 1.6 MB\n",
            "None\n",
            "\n",
            "\n",
            "\n",
            "Cleaned Dataset\n",
            "\n",
            "      INC_TYPE  ALARMS  ACT_TAK1  SUP_APP  EMS_APP  OTH_APP  PROP_LOSS  \\\n",
            "4197       131     1.0      10.0        1        0        0     5000.0   \n",
            "4198       131     1.0      11.0        1        0        0    12000.0   \n",
            "4199       111     2.0      11.0        8        0        0  1199622.0   \n",
            "4201       111     1.0      11.0        7        0        0    38000.0   \n",
            "4205       116     1.0      51.0        4        0        0     3000.0   \n",
            "\n",
            "       PROP_VAL  CONT_VAL  FF_DEATH  FF_INJ  PROP_USE  \n",
            "4197     5000.0    2000.0       0.0     0.0     581.0  \n",
            "4198    12000.0       0.0       0.0     0.0     961.0  \n",
            "4199  1199622.0  500000.0       0.0     2.0     539.0  \n",
            "4201   175000.0   20000.0       0.0     0.0     419.0  \n",
            "4205   250000.0       0.0       0.0     0.0     419.0  \n"
          ]
        }
      ]
    },
    {
      "cell_type": "markdown",
      "metadata": {
        "id": "9A6XQ_gsoG5X"
      },
      "source": [
        "## Modeling: Defining $X$ and $y$\n",
        "`y = 'PROP_LOSS'`\n",
        "\n",
        "`X = all other columns!`"
      ]
    },
    {
      "cell_type": "code",
      "metadata": {
        "id": "BNt9ENrGqNJB"
      },
      "source": [
        "y=np.log(df_final['PROP_LOSS'])"
      ],
      "execution_count": 279,
      "outputs": []
    },
    {
      "cell_type": "code",
      "metadata": {
        "id": "7nHbjDVsqvNG"
      },
      "source": [
        "X=df_final.drop(['PROP_LOSS'],axis=1)"
      ],
      "execution_count": 280,
      "outputs": []
    },
    {
      "cell_type": "markdown",
      "source": [
        "# Distribution of Predictor Variables"
      ],
      "metadata": {
        "id": "zZzEwatj9gqU"
      }
    },
    {
      "cell_type": "code",
      "source": [
        "# Histogram for ALARMS\n",
        "\n",
        "sns.histplot(df_final['ALARMS'])\n",
        "plt.title(\"Distribution of the Variable - ALARMS\\n\")\n",
        "plt.plot()\n"
      ],
      "metadata": {
        "colab": {
          "base_uri": "https://localhost:8080/",
          "height": 327
        },
        "id": "P_fgHvwL9lyp",
        "outputId": "2666f376-e978-4ad4-be64-9a9a9103e138"
      },
      "execution_count": 281,
      "outputs": [
        {
          "output_type": "execute_result",
          "data": {
            "text/plain": [
              "[]"
            ]
          },
          "metadata": {},
          "execution_count": 281
        },
        {
          "output_type": "display_data",
          "data": {
            "text/plain": [
              "<Figure size 432x288 with 1 Axes>"
            ],
            "image/png": "[encoded data removed]"
          },
          "metadata": {
            "needs_background": "light"
          }
        }
      ]
    },
    {
      "cell_type": "code",
      "source": [
        "# Histogram for ACT_TAK1\n",
        "\n",
        "sns.histplot(df_final['ACT_TAK1'])\n",
        "plt.title(\"Distribution of the Variable - ACT_TAK1\\n\")\n",
        "plt.plot()"
      ],
      "metadata": {
        "colab": {
          "base_uri": "https://localhost:8080/",
          "height": 328
        },
        "id": "UaWTmb-Z_B7o",
        "outputId": "47dabe66-682f-4b0e-a8e7-433c3aad663e"
      },
      "execution_count": 282,
      "outputs": [
        {
          "output_type": "execute_result",
          "data": {
            "text/plain": [
              "[]"
            ]
          },
          "metadata": {},
          "execution_count": 282
        },
        {
          "output_type": "display_data",
          "data": {
            "text/plain": [
              "<Figure size 432x288 with 1 Axes>"
            ],
            "image/png": "[encoded data removed]"
          },
          "metadata": {
            "needs_background": "light"
          }
        }
      ]
    },
    {
      "cell_type": "code",
      "source": [
        "# Histogram for SUP_APP\n",
        "\n",
        "sns.histplot(df_final['SUP_APP'])\n",
        "plt.title(\"Distribution of the Variable - SUP_APP\\n\")\n",
        "plt.plot()"
      ],
      "metadata": {
        "colab": {
          "base_uri": "https://localhost:8080/",
          "height": 328
        },
        "id": "ehRqTLa__MPb",
        "outputId": "87f854e4-04a4-4432-b303-9797e93086b3"
      },
      "execution_count": 283,
      "outputs": [
        {
          "output_type": "execute_result",
          "data": {
            "text/plain": [
              "[]"
            ]
          },
          "metadata": {},
          "execution_count": 283
        },
        {
          "output_type": "display_data",
          "data": {
            "text/plain": [
              "<Figure size 432x288 with 1 Axes>"
            ],
            "image/png": "[encoded data removed]"
          },
          "metadata": {
            "needs_background": "light"
          }
        }
      ]
    },
    {
      "cell_type": "code",
      "source": [
        "# Histogram for EMS_APP\n",
        "\n",
        "sns.histplot(df_final['EMS_APP'])\n",
        "plt.title(\"Distribution of the Variable - EMS_APP\\n\")\n",
        "plt.plot()"
      ],
      "metadata": {
        "colab": {
          "base_uri": "https://localhost:8080/",
          "height": 328
        },
        "id": "PDqW3Rd4_otO",
        "outputId": "f1135a13-4365-40a9-b5a6-6845a7206760"
      },
      "execution_count": 284,
      "outputs": [
        {
          "output_type": "execute_result",
          "data": {
            "text/plain": [
              "[]"
            ]
          },
          "metadata": {},
          "execution_count": 284
        },
        {
          "output_type": "display_data",
          "data": {
            "text/plain": [
              "<Figure size 432x288 with 1 Axes>"
            ],
            "image/png": "[encoded data removed]"
          },
          "metadata": {
            "needs_background": "light"
          }
        }
      ]
    },
    {
      "cell_type": "code",
      "source": [
        "# Histogram for OTH_APP\n",
        "\n",
        "sns.histplot(df_final['OTH_APP'])\n",
        "plt.title(\"Distribution of the Variable - OTH_APP\\n\")\n",
        "plt.plot()"
      ],
      "metadata": {
        "colab": {
          "base_uri": "https://localhost:8080/",
          "height": 328
        },
        "id": "GLQxlfl9AYws",
        "outputId": "746cf658-a361-41e4-95b2-7e8276add33c"
      },
      "execution_count": 285,
      "outputs": [
        {
          "output_type": "execute_result",
          "data": {
            "text/plain": [
              "[]"
            ]
          },
          "metadata": {},
          "execution_count": 285
        },
        {
          "output_type": "display_data",
          "data": {
            "text/plain": [
              "<Figure size 432x288 with 1 Axes>"
            ],
            "image/png": "[encoded data removed]"
          },
          "metadata": {
            "needs_background": "light"
          }
        }
      ]
    },
    {
      "cell_type": "code",
      "source": [
        "# Histogram for FF_DEATH\n",
        "\n",
        "sns.histplot(df_final['FF_DEATH'])\n",
        "plt.title(\"Distribution of the Variable - FF_DEATH\\n\")\n",
        "plt.plot()"
      ],
      "metadata": {
        "colab": {
          "base_uri": "https://localhost:8080/",
          "height": 328
        },
        "id": "yrkB_94aA2rw",
        "outputId": "480f9490-2377-41e3-e7da-4e4f4457d1c0"
      },
      "execution_count": 286,
      "outputs": [
        {
          "output_type": "execute_result",
          "data": {
            "text/plain": [
              "[]"
            ]
          },
          "metadata": {},
          "execution_count": 286
        },
        {
          "output_type": "display_data",
          "data": {
            "text/plain": [
              "<Figure size 432x288 with 1 Axes>"
            ],
            "image/png": "[encoded data removed]"
          },
          "metadata": {
            "needs_background": "light"
          }
        }
      ]
    },
    {
      "cell_type": "code",
      "source": [
        "# Histogram for FF_INJ\n",
        "\n",
        "sns.histplot(df_final['FF_INJ'])\n",
        "plt.title(\"Distribution of the Variable - FF_INJ\\n\")\n",
        "plt.plot()"
      ],
      "metadata": {
        "colab": {
          "base_uri": "https://localhost:8080/",
          "height": 328
        },
        "id": "wsuxhLEoCI9i",
        "outputId": "5b333b19-e485-48ba-99a8-97514f553c20"
      },
      "execution_count": 287,
      "outputs": [
        {
          "output_type": "execute_result",
          "data": {
            "text/plain": [
              "[]"
            ]
          },
          "metadata": {},
          "execution_count": 287
        },
        {
          "output_type": "display_data",
          "data": {
            "text/plain": [
              "<Figure size 432x288 with 1 Axes>"
            ],
            "image/png": "[encoded data removed]"
          },
          "metadata": {
            "needs_background": "light"
          }
        }
      ]
    },
    {
      "cell_type": "markdown",
      "source": [
        "* From the above histograms , we can see that the predictors do not have a Normal Distribution.\n",
        "\n",
        "* Hence , we would be transforming the distribution of the predictor variables to improve the predictive power of the models."
      ],
      "metadata": {
        "id": "_lCjZZT3w-Tl"
      }
    },
    {
      "cell_type": "markdown",
      "metadata": {
        "id": "wjESqA3y9HoH"
      },
      "source": [
        "## Modeling: Splitting data using an 80/20 random split. "
      ]
    },
    {
      "cell_type": "code",
      "metadata": {
        "id": "YzGsDMBEpz_q"
      },
      "source": [
        "X_train,X_test,y_train,y_test=train_test_split(X,y,test_size=0.2,shuffle=True,random_state=63)"
      ],
      "execution_count": 288,
      "outputs": []
    },
    {
      "cell_type": "code",
      "metadata": {
        "id": "kxr2oNU4qAp0",
        "colab": {
          "base_uri": "https://localhost:8080/"
        },
        "outputId": "5cb23747-b583-4ec4-e20d-0675b84aff5f"
      },
      "source": [
        "# Shapes of Training & Test Sets\n",
        "\n",
        "print(\"Shape of X_train:\",X_train.shape)\n",
        "print(\"Shape of X_test :\", X_test.shape)\n",
        "print(\"Shape of y_train:\",y_train.shape)\n",
        "print(\"Shape of y_test :\",y_test.shape)"
      ],
      "execution_count": 289,
      "outputs": [
        {
          "output_type": "stream",
          "name": "stdout",
          "text": [
            "Shape of X_train: (13096, 11)\n",
            "Shape of X_test : (3275, 11)\n",
            "Shape of y_train: (13096,)\n",
            "Shape of y_test : (3275,)\n"
          ]
        }
      ]
    },
    {
      "cell_type": "code",
      "source": [
        "# Dropping Categorical Variables Before Standardizing & Transforming\n",
        "\n",
        "X_train_temp=X_train.drop(['INC_TYPE','ACT_TAK1','PROP_USE'],axis=1)\n",
        "X_test_temp=X_test.drop(['INC_TYPE','ACT_TAK1','PROP_USE'],axis=1)\n",
        "train_names=X_train_temp.columns[0:]\n",
        "test_names=X_test_temp.columns[0:]"
      ],
      "metadata": {
        "id": "GCT71XsRSWw6"
      },
      "execution_count": 290,
      "outputs": []
    },
    {
      "cell_type": "markdown",
      "source": [
        "# Standardizing the Variables"
      ],
      "metadata": {
        "id": "D9FD2tHPcjiC"
      }
    },
    {
      "cell_type": "code",
      "source": [
        "# Standardizing the Variables\n",
        "\n",
        "scaler=MinMaxScaler()\n",
        "X_train_temp=scaler.fit_transform(X_train_temp)\n",
        "X_test_temp=scaler.transform(X_test_temp)"
      ],
      "metadata": {
        "id": "i235JaJqcsZs"
      },
      "execution_count": 291,
      "outputs": []
    },
    {
      "cell_type": "markdown",
      "source": [
        "# Transforming the Distribution of the Variables"
      ],
      "metadata": {
        "id": "pgxQsnFQcv7a"
      }
    },
    {
      "cell_type": "markdown",
      "source": [
        "* We have used Power Transformer to transform the distribution of the predictor variables to improve the predictive power of the models."
      ],
      "metadata": {
        "id": "vrmo57g2vQmi"
      }
    },
    {
      "cell_type": "code",
      "source": [
        "# Transforming the Distribution of the Variables\n",
        "\n",
        "power = PowerTransformer(method='yeo-johnson')\n",
        "X_train_temp=power.fit_transform(X_train_temp)\n",
        "X_test_temp=power.transform(X_test_temp)"
      ],
      "metadata": {
        "id": "ewXPLHZtczOE"
      },
      "execution_count": 292,
      "outputs": []
    },
    {
      "cell_type": "code",
      "source": [
        "X_train_temp=pd.DataFrame(X_train_temp,columns=train_names)\n",
        "X_test_temp=pd.DataFrame(X_test_temp,columns=test_names) "
      ],
      "metadata": {
        "id": "f9gWguNRUJxi"
      },
      "execution_count": 293,
      "outputs": []
    },
    {
      "cell_type": "code",
      "source": [
        "# Adding Categorical Variables back for Modeling\n",
        "\n",
        "X_train_temp[['INC_TYPE','ACT_TAK1','PROP_USE']]=X_train[['INC_TYPE','ACT_TAK1','PROP_USE']].to_numpy()\n",
        "X_test_temp[['INC_TYPE','ACT_TAK1','PROP_USE']]=X_test[['INC_TYPE','ACT_TAK1','PROP_USE']].to_numpy()"
      ],
      "metadata": {
        "id": "-GdMhge6Z8fr"
      },
      "execution_count": 294,
      "outputs": []
    },
    {
      "cell_type": "code",
      "source": [
        "X_train=X_train_temp.copy()\n",
        "X_test=X_test_temp.copy()"
      ],
      "metadata": {
        "id": "uzUIhEp2UPby"
      },
      "execution_count": 295,
      "outputs": []
    },
    {
      "cell_type": "code",
      "source": [
        "X_train.head()"
      ],
      "metadata": {
        "colab": {
          "base_uri": "https://localhost:8080/",
          "height": 206
        },
        "id": "rw1JKkbwYD9Y",
        "outputId": "06b44ed5-bde2-4dda-d908-03c9bf4d23f6"
      },
      "execution_count": 296,
      "outputs": [
        {
          "output_type": "execute_result",
          "data": {
            "text/plain": [
              "     ALARMS   SUP_APP   EMS_APP   OTH_APP  PROP_VAL  CONT_VAL  FF_DEATH  \\\n",
              "0  0.256762  1.635870 -0.490153 -0.586133  3.594542 -0.151283 -0.015137   \n",
              "1  0.256762 -0.386420  2.132363  2.072473  0.714561  0.617529 -0.015137   \n",
              "2  0.256762 -0.776599 -0.490153 -0.586133 -0.672467 -0.522769 -0.015137   \n",
              "3 -1.809723  0.536343 -0.490153 -0.586133 -0.117583 -0.522769 -0.015137   \n",
              "4  0.256762  1.501480 -0.490153 -0.586133 -0.252813 -0.091948 -0.015137   \n",
              "\n",
              "     FF_INJ  INC_TYPE  ACT_TAK1  PROP_USE  \n",
              "0 -0.187986     111.0      11.0     429.0  \n",
              "1 -0.187986     111.0      11.0     419.0  \n",
              "2 -0.187986     131.0      11.0     965.0  \n",
              "3 -0.187986     132.0      11.0     965.0  \n",
              "4 -0.187986     111.0      11.0     419.0  "
            ],
            "text/html": [
              "\n",
              "  <div id=\"df-c76b1d40-1167-42b9-b906-ef854b7c7028\">\n",
              "    <div class=\"colab-df-container\">\n",
              "      <div>\n",
              "<style scoped>\n",
              "    .dataframe tbody tr th:only-of-type {\n",
              "        vertical-align: middle;\n",
              "    }\n",
              "\n",
              "    .dataframe tbody tr th {\n",
              "        vertical-align: top;\n",
              "    }\n",
              "\n",
              "    .dataframe thead th {\n",
              "        text-align: right;\n",
              "    }\n",
              "</style>\n",
              "<table border=\"1\" class=\"dataframe\">\n",
              "  <thead>\n",
              "    <tr style=\"text-align: right;\">\n",
              "      <th></th>\n",
              "      <th>ALARMS</th>\n",
              "      <th>SUP_APP</th>\n",
              "      <th>EMS_APP</th>\n",
              "      <th>OTH_APP</th>\n",
              "      <th>PROP_VAL</th>\n",
              "      <th>CONT_VAL</th>\n",
              "      <th>FF_DEATH</th>\n",
              "      <th>FF_INJ</th>\n",
              "      <th>INC_TYPE</th>\n",
              "      <th>ACT_TAK1</th>\n",
              "      <th>PROP_USE</th>\n",
              "    </tr>\n",
              "  </thead>\n",
              "  <tbody>\n",
              "    <tr>\n",
              "      <th>0</th>\n",
              "      <td>0.256762</td>\n",
              "      <td>1.635870</td>\n",
              "      <td>-0.490153</td>\n",
              "      <td>-0.586133</td>\n",
              "      <td>3.594542</td>\n",
              "      <td>-0.151283</td>\n",
              "      <td>-0.015137</td>\n",
              "      <td>-0.187986</td>\n",
              "      <td>111.0</td>\n",
              "      <td>11.0</td>\n",
              "      <td>429.0</td>\n",
              "    </tr>\n",
              "    <tr>\n",
              "      <th>1</th>\n",
              "      <td>0.256762</td>\n",
              "      <td>-0.386420</td>\n",
              "      <td>2.132363</td>\n",
              "      <td>2.072473</td>\n",
              "      <td>0.714561</td>\n",
              "      <td>0.617529</td>\n",
              "      <td>-0.015137</td>\n",
              "      <td>-0.187986</td>\n",
              "      <td>111.0</td>\n",
              "      <td>11.0</td>\n",
              "      <td>419.0</td>\n",
              "    </tr>\n",
              "    <tr>\n",
              "      <th>2</th>\n",
              "      <td>0.256762</td>\n",
              "      <td>-0.776599</td>\n",
              "      <td>-0.490153</td>\n",
              "      <td>-0.586133</td>\n",
              "      <td>-0.672467</td>\n",
              "      <td>-0.522769</td>\n",
              "      <td>-0.015137</td>\n",
              "      <td>-0.187986</td>\n",
              "      <td>131.0</td>\n",
              "      <td>11.0</td>\n",
              "      <td>965.0</td>\n",
              "    </tr>\n",
              "    <tr>\n",
              "      <th>3</th>\n",
              "      <td>-1.809723</td>\n",
              "      <td>0.536343</td>\n",
              "      <td>-0.490153</td>\n",
              "      <td>-0.586133</td>\n",
              "      <td>-0.117583</td>\n",
              "      <td>-0.522769</td>\n",
              "      <td>-0.015137</td>\n",
              "      <td>-0.187986</td>\n",
              "      <td>132.0</td>\n",
              "      <td>11.0</td>\n",
              "      <td>965.0</td>\n",
              "    </tr>\n",
              "    <tr>\n",
              "      <th>4</th>\n",
              "      <td>0.256762</td>\n",
              "      <td>1.501480</td>\n",
              "      <td>-0.490153</td>\n",
              "      <td>-0.586133</td>\n",
              "      <td>-0.252813</td>\n",
              "      <td>-0.091948</td>\n",
              "      <td>-0.015137</td>\n",
              "      <td>-0.187986</td>\n",
              "      <td>111.0</td>\n",
              "      <td>11.0</td>\n",
              "      <td>419.0</td>\n",
              "    </tr>\n",
              "  </tbody>\n",
              "</table>\n",
              "</div>\n",
              "      <button class=\"colab-df-convert\" onclick=\"convertToInteractive('df-c76b1d40-1167-42b9-b906-ef854b7c7028')\"\n",
              "              title=\"Convert this dataframe to an interactive table.\"\n",
              "              style=\"display:none;\">\n",
              "        \n",
              "  <svg xmlns=\"http://www.w3.org/2000/svg\" height=\"24px\"viewBox=\"0 0 24 24\"\n",
              "       width=\"24px\">\n",
              "    <path d=\"M0 0h24v24H0V0z\" fill=\"none\"/>\n",
              "    <path d=\"M18.56 5.44l.94 2.06.94-2.06 2.06-.94-2.06-.94-.94-2.06-.94 2.06-2.06.94zm-11 1L8.5 8.5l.94-2.06 2.06-.94-2.06-.94L8.5 2.5l-.94 2.06-2.06.94zm10 10l.94 2.06.94-2.06 2.06-.94-2.06-.94-.94-2.06-.94 2.06-2.06.94z\"/><path d=\"M17.41 7.96l-1.37-1.37c-.4-.4-.92-.59-1.43-.59-.52 0-1.04.2-1.43.59L10.3 9.45l-7.72 7.72c-.78.78-.78 2.05 0 2.83L4 21.41c.39.39.9.59 1.41.59.51 0 1.02-.2 1.41-.59l7.78-7.78 2.81-2.81c.8-.78.8-2.07 0-2.86zM5.41 20L4 18.59l7.72-7.72 1.47 1.35L5.41 20z\"/>\n",
              "  </svg>\n",
              "      </button>\n",
              "      \n",
              "  <style>\n",
              "    .colab-df-container {\n",
              "      display:flex;\n",
              "      flex-wrap:wrap;\n",
              "      gap: 12px;\n",
              "    }\n",
              "\n",
              "    .colab-df-convert {\n",
              "      background-color: #E8F0FE;\n",
              "      border: none;\n",
              "      border-radius: 50%;\n",
              "      cursor: pointer;\n",
              "      display: none;\n",
              "      fill: #1967D2;\n",
              "      height: 32px;\n",
              "      padding: 0 0 0 0;\n",
              "      width: 32px;\n",
              "    }\n",
              "\n",
              "    .colab-df-convert:hover {\n",
              "      background-color: #E2EBFA;\n",
              "      box-shadow: 0px 1px 2px rgba(60, 64, 67, 0.3), 0px 1px 3px 1px rgba(60, 64, 67, 0.15);\n",
              "      fill: #174EA6;\n",
              "    }\n",
              "\n",
              "    [theme=dark] .colab-df-convert {\n",
              "      background-color: #3B4455;\n",
              "      fill: #D2E3FC;\n",
              "    }\n",
              "\n",
              "    [theme=dark] .colab-df-convert:hover {\n",
              "      background-color: #434B5C;\n",
              "      box-shadow: 0px 1px 3px 1px rgba(0, 0, 0, 0.15);\n",
              "      filter: drop-shadow(0px 1px 2px rgba(0, 0, 0, 0.3));\n",
              "      fill: #FFFFFF;\n",
              "    }\n",
              "  </style>\n",
              "\n",
              "      <script>\n",
              "        const buttonEl =\n",
              "          document.querySelector('#df-c76b1d40-1167-42b9-b906-ef854b7c7028 button.colab-df-convert');\n",
              "        buttonEl.style.display =\n",
              "          google.colab.kernel.accessAllowed ? 'block' : 'none';\n",
              "\n",
              "        async function convertToInteractive(key) {\n",
              "          const element = document.querySelector('#df-c76b1d40-1167-42b9-b906-ef854b7c7028');\n",
              "          const dataTable =\n",
              "            await google.colab.kernel.invokeFunction('convertToInteractive',\n",
              "                                                     [key], {});\n",
              "          if (!dataTable) return;\n",
              "\n",
              "          const docLinkHtml = 'Like what you see? Visit the ' +\n",
              "            '<a target=\"_blank\" href=https://colab.research.google.com/notebooks/data_table.ipynb>data table notebook</a>'\n",
              "            + ' to learn more about interactive tables.';\n",
              "          element.innerHTML = '';\n",
              "          dataTable['output_type'] = 'display_data';\n",
              "          await google.colab.output.renderOutput(dataTable, element);\n",
              "          const docLink = document.createElement('div');\n",
              "          docLink.innerHTML = docLinkHtml;\n",
              "          element.appendChild(docLink);\n",
              "        }\n",
              "      </script>\n",
              "    </div>\n",
              "  </div>\n",
              "  "
            ]
          },
          "metadata": {},
          "execution_count": 296
        }
      ]
    },
    {
      "cell_type": "code",
      "source": [
        "X_test.tail()"
      ],
      "metadata": {
        "colab": {
          "base_uri": "https://localhost:8080/",
          "height": 206
        },
        "id": "jsqijINfZuy5",
        "outputId": "1cfcdc8a-c2e5-4223-a6cc-651f7edecc5f"
      },
      "execution_count": 297,
      "outputs": [
        {
          "output_type": "execute_result",
          "data": {
            "text/plain": [
              "        ALARMS   SUP_APP   EMS_APP   OTH_APP  PROP_VAL  CONT_VAL  FF_DEATH  \\\n",
              "3270  0.256762 -1.217790 -0.490153  1.137683 -0.642156 -0.517637 -0.015137   \n",
              "3271  0.256762  0.777204 -0.490153 -0.586133 -0.672467 -0.522769 -0.015137   \n",
              "3272  0.256762 -0.386420 -0.490153  1.963882  0.320569 -0.471667 -0.015137   \n",
              "3273 -1.809723 -0.041036 -0.490153 -0.586133 -0.392796 -0.151283 -0.015137   \n",
              "3274 -1.809723 -1.717130 -0.490153  1.137683 -0.649714 -0.522769 -0.015137   \n",
              "\n",
              "        FF_INJ  INC_TYPE  ACT_TAK1  PROP_USE  \n",
              "3270 -0.187986     131.0      11.0     579.0  \n",
              "3271 -0.187986     111.0      11.0     881.0  \n",
              "3272 -0.187986     111.0      11.0     419.0  \n",
              "3273 -0.187986     111.0      11.0     419.0  \n",
              "3274 -0.187986     131.0      87.0     962.0  "
            ],
            "text/html": [
              "\n",
              "  <div id=\"df-396c019f-9db4-423b-988c-7d6a49fc27eb\">\n",
              "    <div class=\"colab-df-container\">\n",
              "      <div>\n",
              "<style scoped>\n",
              "    .dataframe tbody tr th:only-of-type {\n",
              "        vertical-align: middle;\n",
              "    }\n",
              "\n",
              "    .dataframe tbody tr th {\n",
              "        vertical-align: top;\n",
              "    }\n",
              "\n",
              "    .dataframe thead th {\n",
              "        text-align: right;\n",
              "    }\n",
              "</style>\n",
              "<table border=\"1\" class=\"dataframe\">\n",
              "  <thead>\n",
              "    <tr style=\"text-align: right;\">\n",
              "      <th></th>\n",
              "      <th>ALARMS</th>\n",
              "      <th>SUP_APP</th>\n",
              "      <th>EMS_APP</th>\n",
              "      <th>OTH_APP</th>\n",
              "      <th>PROP_VAL</th>\n",
              "      <th>CONT_VAL</th>\n",
              "      <th>FF_DEATH</th>\n",
              "      <th>FF_INJ</th>\n",
              "      <th>INC_TYPE</th>\n",
              "      <th>ACT_TAK1</th>\n",
              "      <th>PROP_USE</th>\n",
              "    </tr>\n",
              "  </thead>\n",
              "  <tbody>\n",
              "    <tr>\n",
              "      <th>3270</th>\n",
              "      <td>0.256762</td>\n",
              "      <td>-1.217790</td>\n",
              "      <td>-0.490153</td>\n",
              "      <td>1.137683</td>\n",
              "      <td>-0.642156</td>\n",
              "      <td>-0.517637</td>\n",
              "      <td>-0.015137</td>\n",
              "      <td>-0.187986</td>\n",
              "      <td>131.0</td>\n",
              "      <td>11.0</td>\n",
              "      <td>579.0</td>\n",
              "    </tr>\n",
              "    <tr>\n",
              "      <th>3271</th>\n",
              "      <td>0.256762</td>\n",
              "      <td>0.777204</td>\n",
              "      <td>-0.490153</td>\n",
              "      <td>-0.586133</td>\n",
              "      <td>-0.672467</td>\n",
              "      <td>-0.522769</td>\n",
              "      <td>-0.015137</td>\n",
              "      <td>-0.187986</td>\n",
              "      <td>111.0</td>\n",
              "      <td>11.0</td>\n",
              "      <td>881.0</td>\n",
              "    </tr>\n",
              "    <tr>\n",
              "      <th>3272</th>\n",
              "      <td>0.256762</td>\n",
              "      <td>-0.386420</td>\n",
              "      <td>-0.490153</td>\n",
              "      <td>1.963882</td>\n",
              "      <td>0.320569</td>\n",
              "      <td>-0.471667</td>\n",
              "      <td>-0.015137</td>\n",
              "      <td>-0.187986</td>\n",
              "      <td>111.0</td>\n",
              "      <td>11.0</td>\n",
              "      <td>419.0</td>\n",
              "    </tr>\n",
              "    <tr>\n",
              "      <th>3273</th>\n",
              "      <td>-1.809723</td>\n",
              "      <td>-0.041036</td>\n",
              "      <td>-0.490153</td>\n",
              "      <td>-0.586133</td>\n",
              "      <td>-0.392796</td>\n",
              "      <td>-0.151283</td>\n",
              "      <td>-0.015137</td>\n",
              "      <td>-0.187986</td>\n",
              "      <td>111.0</td>\n",
              "      <td>11.0</td>\n",
              "      <td>419.0</td>\n",
              "    </tr>\n",
              "    <tr>\n",
              "      <th>3274</th>\n",
              "      <td>-1.809723</td>\n",
              "      <td>-1.717130</td>\n",
              "      <td>-0.490153</td>\n",
              "      <td>1.137683</td>\n",
              "      <td>-0.649714</td>\n",
              "      <td>-0.522769</td>\n",
              "      <td>-0.015137</td>\n",
              "      <td>-0.187986</td>\n",
              "      <td>131.0</td>\n",
              "      <td>87.0</td>\n",
              "      <td>962.0</td>\n",
              "    </tr>\n",
              "  </tbody>\n",
              "</table>\n",
              "</div>\n",
              "      <button class=\"colab-df-convert\" onclick=\"convertToInteractive('df-396c019f-9db4-423b-988c-7d6a49fc27eb')\"\n",
              "              title=\"Convert this dataframe to an interactive table.\"\n",
              "              style=\"display:none;\">\n",
              "        \n",
              "  <svg xmlns=\"http://www.w3.org/2000/svg\" height=\"24px\"viewBox=\"0 0 24 24\"\n",
              "       width=\"24px\">\n",
              "    <path d=\"M0 0h24v24H0V0z\" fill=\"none\"/>\n",
              "    <path d=\"M18.56 5.44l.94 2.06.94-2.06 2.06-.94-2.06-.94-.94-2.06-.94 2.06-2.06.94zm-11 1L8.5 8.5l.94-2.06 2.06-.94-2.06-.94L8.5 2.5l-.94 2.06-2.06.94zm10 10l.94 2.06.94-2.06 2.06-.94-2.06-.94-.94-2.06-.94 2.06-2.06.94z\"/><path d=\"M17.41 7.96l-1.37-1.37c-.4-.4-.92-.59-1.43-.59-.52 0-1.04.2-1.43.59L10.3 9.45l-7.72 7.72c-.78.78-.78 2.05 0 2.83L4 21.41c.39.39.9.59 1.41.59.51 0 1.02-.2 1.41-.59l7.78-7.78 2.81-2.81c.8-.78.8-2.07 0-2.86zM5.41 20L4 18.59l7.72-7.72 1.47 1.35L5.41 20z\"/>\n",
              "  </svg>\n",
              "      </button>\n",
              "      \n",
              "  <style>\n",
              "    .colab-df-container {\n",
              "      display:flex;\n",
              "      flex-wrap:wrap;\n",
              "      gap: 12px;\n",
              "    }\n",
              "\n",
              "    .colab-df-convert {\n",
              "      background-color: #E8F0FE;\n",
              "      border: none;\n",
              "      border-radius: 50%;\n",
              "      cursor: pointer;\n",
              "      display: none;\n",
              "      fill: #1967D2;\n",
              "      height: 32px;\n",
              "      padding: 0 0 0 0;\n",
              "      width: 32px;\n",
              "    }\n",
              "\n",
              "    .colab-df-convert:hover {\n",
              "      background-color: #E2EBFA;\n",
              "      box-shadow: 0px 1px 2px rgba(60, 64, 67, 0.3), 0px 1px 3px 1px rgba(60, 64, 67, 0.15);\n",
              "      fill: #174EA6;\n",
              "    }\n",
              "\n",
              "    [theme=dark] .colab-df-convert {\n",
              "      background-color: #3B4455;\n",
              "      fill: #D2E3FC;\n",
              "    }\n",
              "\n",
              "    [theme=dark] .colab-df-convert:hover {\n",
              "      background-color: #434B5C;\n",
              "      box-shadow: 0px 1px 3px 1px rgba(0, 0, 0, 0.15);\n",
              "      filter: drop-shadow(0px 1px 2px rgba(0, 0, 0, 0.3));\n",
              "      fill: #FFFFFF;\n",
              "    }\n",
              "  </style>\n",
              "\n",
              "      <script>\n",
              "        const buttonEl =\n",
              "          document.querySelector('#df-396c019f-9db4-423b-988c-7d6a49fc27eb button.colab-df-convert');\n",
              "        buttonEl.style.display =\n",
              "          google.colab.kernel.accessAllowed ? 'block' : 'none';\n",
              "\n",
              "        async function convertToInteractive(key) {\n",
              "          const element = document.querySelector('#df-396c019f-9db4-423b-988c-7d6a49fc27eb');\n",
              "          const dataTable =\n",
              "            await google.colab.kernel.invokeFunction('convertToInteractive',\n",
              "                                                     [key], {});\n",
              "          if (!dataTable) return;\n",
              "\n",
              "          const docLinkHtml = 'Like what you see? Visit the ' +\n",
              "            '<a target=\"_blank\" href=https://colab.research.google.com/notebooks/data_table.ipynb>data table notebook</a>'\n",
              "            + ' to learn more about interactive tables.';\n",
              "          element.innerHTML = '';\n",
              "          dataTable['output_type'] = 'display_data';\n",
              "          await google.colab.output.renderOutput(dataTable, element);\n",
              "          const docLink = document.createElement('div');\n",
              "          docLink.innerHTML = docLinkHtml;\n",
              "          element.appendChild(docLink);\n",
              "        }\n",
              "      </script>\n",
              "    </div>\n",
              "  </div>\n",
              "  "
            ]
          },
          "metadata": {},
          "execution_count": 297
        }
      ]
    },
    {
      "cell_type": "code",
      "source": [
        "# Converting into numpy arrays\n",
        "\n",
        "X_train = np.array(X_train)\n",
        "X_test = np.array(X_test)\n",
        "y_train = np.array(y_train)\n",
        "y_test = np.array(y_test)"
      ],
      "metadata": {
        "id": "CoZakkMpTO9L"
      },
      "execution_count": 298,
      "outputs": []
    },
    {
      "cell_type": "markdown",
      "source": [
        "# Checking for Multicollinearity and making necessary corrections.\n",
        "\n"
      ],
      "metadata": {
        "id": "GMMCjnjKrNz1"
      }
    },
    {
      "cell_type": "markdown",
      "source": [
        "#### **In order to check for Multicollinearity , we will use VIF (Variance Inflation Factor) & also look for the correlations between the predictor variables as well.**"
      ],
      "metadata": {
        "id": "pUYAaycrCeO1"
      }
    },
    {
      "cell_type": "code",
      "source": [
        "# In order to check for Multicollinearity , we will use VIF (Variance Inflation Factor) & also look for the correlations between the predictor variables as well.\n",
        "\n",
        "feature_names = list(df_final.columns[0:])\n",
        "\n",
        "\n",
        "# Plotting a Correlation Matrix Heatmap\n",
        "\n",
        "print('\\nCorrelation Heat Map')\n",
        "print()\n",
        "plt.figure(figsize = (10,8))\n",
        "sns.heatmap(pd.DataFrame(df_final,columns=feature_names).corr(), annot=True,cmap='coolwarm')\n",
        "plt.title('Correlation of Variables\\n')\n",
        "plt.show()\n",
        "\n",
        "print()\n",
        "print('Variance Inflation Factors (VIF)')\n",
        "print()\n",
        "print('> 5: Multicollinearity Problem')\n",
        "print('> 10: Certain Multicollinearity among the variables')\n",
        "print()\n",
        "print('-------------------------------------')\n",
        "    \n",
        "# Calculate VIFs \n",
        "\n",
        "feat_names=X.columns[:]\n",
        "\n",
        "VIF =[variance_inflation_factor(X_train, i) for i in range(X_train.shape[1])]\n",
        "for idx, vif in enumerate(VIF):\n",
        "    print('{0}: {1}'.format(feat_names[idx], vif))\n",
        "    \n",
        "# Printing Total Cases of Possible or Definite Multicollinearity\n",
        "\n",
        "problem_multicollinearity = sum([1 for vif in VIF if vif > 5])\n",
        "certain_multicollinearity = sum([1 for vif in VIF if vif > 10])\n",
        "print()\n",
        "print('{0} cases of Problematic Multicollinearity'.format(problem_multicollinearity))\n",
        "print('{0} cases of Certain Multicollinearity'.format(certain_multicollinearity))\n",
        "print()\n"
      ],
      "metadata": {
        "id": "zHoyOhFIrfJB",
        "colab": {
          "base_uri": "https://localhost:8080/",
          "height": 995
        },
        "outputId": "da4f3a3a-616c-4b7d-93df-7cf509e3a84d"
      },
      "execution_count": 299,
      "outputs": [
        {
          "output_type": "stream",
          "name": "stdout",
          "text": [
            "\n",
            "Correlation Heat Map\n",
            "\n"
          ]
        },
        {
          "output_type": "display_data",
          "data": {
            "text/plain": [
              "<Figure size 720x576 with 2 Axes>"
            ],
            "image/png": "[encoded data removed]"
          },
          "metadata": {
            "needs_background": "light"
          }
        },
        {
          "output_type": "stream",
          "name": "stdout",
          "text": [
            "\n",
            "Variance Inflation Factors (VIF)\n",
            "\n",
            "> 5: Multicollinearity Problem\n",
            "> 10: Certain Multicollinearity among the variables\n",
            "\n",
            "-------------------------------------\n",
            "INC_TYPE: 1.0357801325290126\n",
            "ALARMS: 1.2152413344094217\n",
            "ACT_TAK1: 1.1606040288279584\n",
            "SUP_APP: 1.203364687988705\n",
            "EMS_APP: 1.9207152048867466\n",
            "OTH_APP: 1.8358791296577757\n",
            "PROP_VAL: 1.001695241408689\n",
            "CONT_VAL: 1.0306339575290948\n",
            "FF_DEATH: 7.270402615845755\n",
            "FF_INJ: 1.802027971707151\n",
            "PROP_USE: 6.71984341750493\n",
            "\n",
            "2 cases of Problematic Multicollinearity\n",
            "0 cases of Certain Multicollinearity\n",
            "\n"
          ]
        }
      ]
    },
    {
      "cell_type": "markdown",
      "source": [
        "* **Only when the VIF for a variable is greater than 10 , there is a case of certain multicollinearity. We can see from the VIFs for the predictor variables that there are 0 cases of Certain Multicollinearity.**\n",
        "\n",
        "* **Also when we take a look at the Correlation Heat Map , we don't see any predictor variables that are highly correlated with the remaining predictors.The highest magnitude for correlation coefficient is -0.34.**\n",
        "\n",
        "* **Hence, we can conclude that there is no multicollinearity present amongst the predictor variables.** "
      ],
      "metadata": {
        "id": "Glb8tdc0GFux"
      }
    },
    {
      "cell_type": "markdown",
      "metadata": {
        "id": "rDyYxM069RZ8"
      },
      "source": [
        "## Modeling: Fitting linear regressions models -  OLS, ridge, and lasso.\n",
        "\n"
      ]
    },
    {
      "cell_type": "markdown",
      "source": [
        "### **OLS Model : Statsmodels**"
      ],
      "metadata": {
        "id": "-_b8L0X_wNXN"
      }
    },
    {
      "cell_type": "code",
      "source": [
        "# Adding Constants X_train & X-test\n",
        "\n",
        "X_train_c=sm.add_constant(X_train)\n",
        "X_test_c=sm.add_constant(X_test,has_constant='add')"
      ],
      "metadata": {
        "id": "gUU390EDwhtQ"
      },
      "execution_count": 300,
      "outputs": []
    },
    {
      "cell_type": "code",
      "source": [
        "# Training the Model\n",
        "\n",
        "statsmod=sm.OLS(y_train,X_train_c).fit()"
      ],
      "metadata": {
        "id": "8kFVye2ZwviZ"
      },
      "execution_count": 301,
      "outputs": []
    },
    {
      "cell_type": "code",
      "source": [
        "# Storing the Predictions\n",
        "\n",
        "train_preds_stats=statsmod.predict(X_train_c)\n",
        "\n",
        "test_preds_stats=statsmod.predict(X_test_c)\n"
      ],
      "metadata": {
        "id": "x6m7ElXcw4aE"
      },
      "execution_count": 302,
      "outputs": []
    },
    {
      "cell_type": "code",
      "source": [
        "# Summary\n",
        "\n",
        "feature_names_c= list(X.columns[0:])\n",
        "feature_names_c.insert(0, \"constant\")\n",
        "print(statsmod.summary(xname=feature_names_c))"
      ],
      "metadata": {
        "colab": {
          "base_uri": "https://localhost:8080/"
        },
        "id": "SzQ8hXxZxsGi",
        "outputId": "0be64c9d-6067-4229-cc2a-deb313bd6e2d"
      },
      "execution_count": 303,
      "outputs": [
        {
          "output_type": "stream",
          "name": "stdout",
          "text": [
            "                            OLS Regression Results                            \n",
            "==============================================================================\n",
            "Dep. Variable:                      y   R-squared:                       0.285\n",
            "Model:                            OLS   Adj. R-squared:                  0.285\n",
            "Method:                 Least Squares   F-statistic:                     474.9\n",
            "Date:                Wed, 15 Mar 2023   Prob (F-statistic):               0.00\n",
            "Time:                        18:52:57   Log-Likelihood:                -20602.\n",
            "No. Observations:               13096   AIC:                         4.123e+04\n",
            "Df Residuals:                   13084   BIC:                         4.132e+04\n",
            "Df Model:                          11                                         \n",
            "Covariance Type:            nonrobust                                         \n",
            "==============================================================================\n",
            "                 coef    std err          t      P>|t|      [0.025      0.975]\n",
            "------------------------------------------------------------------------------\n",
            "constant       9.4722      0.047    200.576      0.000       9.380       9.565\n",
            "INC_TYPE       0.0637      0.010      6.141      0.000       0.043       0.084\n",
            "ALARMS         0.2830      0.012     23.607      0.000       0.259       0.306\n",
            "ACT_TAK1       0.0294      0.011      2.675      0.007       0.008       0.051\n",
            "SUP_APP        0.0897      0.011      7.982      0.000       0.068       0.112\n",
            "EMS_APP        0.2233      0.014     15.717      0.000       0.195       0.251\n",
            "OTH_APP        0.2841      0.014     20.540      0.000       0.257       0.311\n",
            "PROP_VAL       0.0145      0.010      1.423      0.155      -0.005       0.035\n",
            "CONT_VAL       0.1693      0.010     16.342      0.000       0.149       0.190\n",
            "FF_DEATH       0.0003      0.000      0.827      0.408      -0.000       0.001\n",
            "FF_INJ        -0.0070      0.000    -18.010      0.000      -0.008      -0.006\n",
            "PROP_USE      -0.0002   4.73e-05     -4.110      0.000      -0.000      -0.000\n",
            "==============================================================================\n",
            "Omnibus:                       80.300   Durbin-Watson:                   1.993\n",
            "Prob(Omnibus):                  0.000   Jarque-Bera (JB):               82.425\n",
            "Skew:                           0.182   Prob(JB):                     1.26e-18\n",
            "Kurtosis:                       3.137   Cond. No.                     3.08e+03\n",
            "==============================================================================\n",
            "\n",
            "Notes:\n",
            "[1] Standard Errors assume that the covariance matrix of the errors is correctly specified.\n",
            "[2] The condition number is large, 3.08e+03. This might indicate that there are\n",
            "strong multicollinearity or other numerical problems.\n"
          ]
        }
      ]
    },
    {
      "cell_type": "markdown",
      "source": [
        "* R2"
      ],
      "metadata": {
        "id": "KLyeNlB8ylDp"
      }
    },
    {
      "cell_type": "code",
      "source": [
        "print(\"\\nR2 for Training Set :\",r2_score(y_train,train_preds_stats))\n",
        "print(\"\\nR2 for Test Set :\",r2_score(y_test,test_preds_stats))"
      ],
      "metadata": {
        "colab": {
          "base_uri": "https://localhost:8080/"
        },
        "id": "QjgD3tRCyrfG",
        "outputId": "3654b512-680e-4e36-9e49-c01222f08e5c"
      },
      "execution_count": 304,
      "outputs": [
        {
          "output_type": "stream",
          "name": "stdout",
          "text": [
            "\n",
            "R2 for Training Set : 0.28532666078932534\n",
            "\n",
            "R2 for Test Set : 0.2691329118069985\n"
          ]
        }
      ]
    },
    {
      "cell_type": "markdown",
      "source": [
        "* MSE"
      ],
      "metadata": {
        "id": "N8_uYkLGynr2"
      }
    },
    {
      "cell_type": "code",
      "source": [
        "print(\"\\nMSE for Training Set :\",mean_squared_error(y_train,train_preds_stats))\n",
        "print(\"\\nMSE for Test Set :\",mean_squared_error(y_test,test_preds_stats))"
      ],
      "metadata": {
        "colab": {
          "base_uri": "https://localhost:8080/"
        },
        "id": "nFxieTchy1b8",
        "outputId": "13786348-bdf0-4736-8bd7-23fd441bc21a"
      },
      "execution_count": 305,
      "outputs": [
        {
          "output_type": "stream",
          "name": "stdout",
          "text": [
            "\n",
            "MSE for Training Set : 1.3612750636576614\n",
            "\n",
            "MSE for Test Set : 1.3979131538215939\n"
          ]
        }
      ]
    },
    {
      "cell_type": "markdown",
      "source": [
        "* RMSE"
      ],
      "metadata": {
        "id": "AkbfTv2vypZR"
      }
    },
    {
      "cell_type": "code",
      "source": [
        "print(\"\\nRMSE for Training Set : \",rmse(y_train,train_preds_stats))\n",
        "print(\"\\nRMSE for Test Set : \",rmse(y_test,test_preds_stats))\n"
      ],
      "metadata": {
        "colab": {
          "base_uri": "https://localhost:8080/"
        },
        "id": "CYOGtzMJzCIu",
        "outputId": "fbc20f1c-75b2-4547-86b2-e49fe0ea7dba"
      },
      "execution_count": 306,
      "outputs": [
        {
          "output_type": "stream",
          "name": "stdout",
          "text": [
            "\n",
            "RMSE for Training Set :  1.1667369299279342\n",
            "\n",
            "RMSE for Test Set :  1.1823337742877829\n"
          ]
        }
      ]
    },
    {
      "cell_type": "markdown",
      "source": [
        "### **OLS Model : Scikit-Learn**"
      ],
      "metadata": {
        "id": "vUqyBWyPIvBp"
      }
    },
    {
      "cell_type": "code",
      "metadata": {
        "id": "GJVJAv31q0Wj"
      },
      "source": [
        "# Training the Model\n",
        "\n",
        "lr= LinearRegression()\n",
        "\n",
        "lr=lr.fit(X_train,y_train)"
      ],
      "execution_count": 307,
      "outputs": []
    },
    {
      "cell_type": "code",
      "source": [
        "# Storing the Predictions\n",
        "\n",
        "train_preds_OLS=lr.predict(X_train)\n",
        "test_preds_OLS=lr.predict(X_test)"
      ],
      "metadata": {
        "id": "9-BnsDseLUzl"
      },
      "execution_count": 308,
      "outputs": []
    },
    {
      "cell_type": "markdown",
      "source": [
        "* R2"
      ],
      "metadata": {
        "id": "qw60FbVQOKDt"
      }
    },
    {
      "cell_type": "code",
      "source": [
        "print(\"\\nR2 for Training Set :\",r2_score(y_train,train_preds_OLS))\n",
        "print(\"\\nR2 for Test Set :\",r2_score(y_test,test_preds_OLS))"
      ],
      "metadata": {
        "colab": {
          "base_uri": "https://localhost:8080/"
        },
        "id": "09wI5FHYOHdZ",
        "outputId": "abc314a6-9163-4b88-d951-f169c49b7587"
      },
      "execution_count": 309,
      "outputs": [
        {
          "output_type": "stream",
          "name": "stdout",
          "text": [
            "\n",
            "R2 for Training Set : 0.28532666078932534\n",
            "\n",
            "R2 for Test Set : 0.26913291180699783\n"
          ]
        }
      ]
    },
    {
      "cell_type": "markdown",
      "source": [
        "* MSE"
      ],
      "metadata": {
        "id": "t0inSas5OM-d"
      }
    },
    {
      "cell_type": "code",
      "source": [
        "print(\"\\nMSE for Training Set :\",mean_squared_error(y_train,train_preds_OLS))\n",
        "print(\"\\nMSE for Test Set :\",mean_squared_error(y_test,test_preds_OLS))"
      ],
      "metadata": {
        "colab": {
          "base_uri": "https://localhost:8080/"
        },
        "id": "LIXjDVXoOQOG",
        "outputId": "b2656f05-feda-4a55-fa18-bbcc8bba53d7"
      },
      "execution_count": 310,
      "outputs": [
        {
          "output_type": "stream",
          "name": "stdout",
          "text": [
            "\n",
            "MSE for Training Set : 1.3612750636576614\n",
            "\n",
            "MSE for Test Set : 1.3979131538215952\n"
          ]
        }
      ]
    },
    {
      "cell_type": "markdown",
      "source": [
        "* RMSE"
      ],
      "metadata": {
        "id": "eiFtGs0IOQnp"
      }
    },
    {
      "cell_type": "code",
      "source": [
        "print(\"\\nRMSE for Training Set : \",rmse(y_train,train_preds_OLS))\n",
        "print(\"\\nRMSE for Test Set : \",rmse(y_test,test_preds_OLS))"
      ],
      "metadata": {
        "colab": {
          "base_uri": "https://localhost:8080/"
        },
        "id": "lewcIU_oOR5g",
        "outputId": "aad3e104-eada-4401-8160-4ef2f6e4f226"
      },
      "execution_count": 311,
      "outputs": [
        {
          "output_type": "stream",
          "name": "stdout",
          "text": [
            "\n",
            "RMSE for Training Set :  1.1667369299279342\n",
            "\n",
            "RMSE for Test Set :  1.1823337742877835\n"
          ]
        }
      ]
    },
    {
      "cell_type": "markdown",
      "source": [
        "### **Ridge Model**"
      ],
      "metadata": {
        "id": "Yu8R8VwUI2-7"
      }
    },
    {
      "cell_type": "code",
      "source": [
        "# Using Cross-Validation to find the best Alpha\n",
        "\n",
        "ridgecv = RidgeCV(alphas=[0.0001,0.001, 0.01, 0.1, 0.5])\n",
        "ridgecv.fit(X, y)\n",
        "optimal = ridgecv.alpha_\n",
        "print(\"From the above Alpha values, we see that\" ,optimal, \"is the optimal.\") "
      ],
      "metadata": {
        "colab": {
          "base_uri": "https://localhost:8080/"
        },
        "id": "TPyJ9GiMI6Ie",
        "outputId": "5b4f6d3f-3343-4f0a-a6b9-13c9a6145eae"
      },
      "execution_count": 312,
      "outputs": [
        {
          "output_type": "stream",
          "name": "stdout",
          "text": [
            "From the above Alpha values, we see that 0.5 is the optimal.\n"
          ]
        }
      ]
    },
    {
      "cell_type": "markdown",
      "source": [
        "#### **We can conclude that among these Alpha values, 0.5 is the optimal value.**\n"
      ],
      "metadata": {
        "id": "jmoduN69hC46"
      }
    },
    {
      "cell_type": "code",
      "source": [
        "# Training the Model with Optimal Alpha\n",
        "\n",
        "ridge=Ridge(alpha=0.5)\n",
        "ridge=ridge.fit(X_train,y_train)"
      ],
      "metadata": {
        "id": "zCrgXXZGdBFU"
      },
      "execution_count": 313,
      "outputs": []
    },
    {
      "cell_type": "code",
      "source": [
        "# Storing the Predictions\n",
        "\n",
        "train_preds_Ridge=ridge.predict(X_train)\n",
        "test_preds_Ridge=ridge.predict(X_test)"
      ],
      "metadata": {
        "id": "muob7M9-e6-A"
      },
      "execution_count": 314,
      "outputs": []
    },
    {
      "cell_type": "markdown",
      "source": [
        "* R2"
      ],
      "metadata": {
        "id": "2HXM2VcqfGQR"
      }
    },
    {
      "cell_type": "code",
      "source": [
        "print(\"\\nR2 for Training Set :\",r2_score(y_train,train_preds_Ridge))\n",
        "print(\"\\nR2 for Test Set :\",r2_score(y_test,test_preds_Ridge))"
      ],
      "metadata": {
        "colab": {
          "base_uri": "https://localhost:8080/"
        },
        "id": "u0W28opLe39H",
        "outputId": "a36a101a-fe63-497c-9bc0-5756d8ee9ada"
      },
      "execution_count": 315,
      "outputs": [
        {
          "output_type": "stream",
          "name": "stdout",
          "text": [
            "\n",
            "R2 for Training Set : 0.28532666063537804\n",
            "\n",
            "R2 for Test Set : 0.2691332129416424\n"
          ]
        }
      ]
    },
    {
      "cell_type": "markdown",
      "source": [
        "* MSE"
      ],
      "metadata": {
        "id": "xealRE_4gNFW"
      }
    },
    {
      "cell_type": "code",
      "source": [
        "print(\"\\nMSE for Training Set :\",mean_squared_error(y_train,train_preds_Ridge))\n",
        "print(\"\\nMSE for Test Set :\",mean_squared_error(y_test,test_preds_Ridge))"
      ],
      "metadata": {
        "colab": {
          "base_uri": "https://localhost:8080/"
        },
        "id": "EDtHmJ2KgOJj",
        "outputId": "a38c006f-6b40-403b-dc0d-09f6c95f0584"
      },
      "execution_count": 316,
      "outputs": [
        {
          "output_type": "stream",
          "name": "stdout",
          "text": [
            "\n",
            "MSE for Training Set : 1.3612750639508928\n",
            "\n",
            "MSE for Test Set : 1.3979125778480872\n"
          ]
        }
      ]
    },
    {
      "cell_type": "markdown",
      "source": [
        "* RMSE"
      ],
      "metadata": {
        "id": "zkSPLBN4gXDy"
      }
    },
    {
      "cell_type": "code",
      "source": [
        "print(\"\\nRMSE for Training Set : \",rmse(y_train,train_preds_Ridge))\n",
        "print(\"\\nRMSE for Test Set : \",rmse(y_test,test_preds_Ridge))"
      ],
      "metadata": {
        "colab": {
          "base_uri": "https://localhost:8080/"
        },
        "id": "7uLnk0UrgYNc",
        "outputId": "a14a3519-fb1a-4514-a7a9-f975cedfae61"
      },
      "execution_count": 317,
      "outputs": [
        {
          "output_type": "stream",
          "name": "stdout",
          "text": [
            "\n",
            "RMSE for Training Set :  1.1667369300535972\n",
            "\n",
            "RMSE for Test Set :  1.1823335307129232\n"
          ]
        }
      ]
    },
    {
      "cell_type": "markdown",
      "source": [
        "### **Lasso Model**"
      ],
      "metadata": {
        "id": "G7oJnX2eI6ng"
      }
    },
    {
      "cell_type": "code",
      "source": [
        "# Using Cross-Validation to find the best Alpha\n",
        "\n",
        "lassocv = LassoCV(alphas=[0.0001,0.001, 0.01, 0.1, 0.5])\n",
        "lassocv.fit(X, y)\n",
        "optimal = lassocv.alpha_\n",
        "print(\"From the above Alpha values, we see that\" ,optimal, \"is the optimal.\") \n",
        "print('R2 is', lassocv.score(X,y))"
      ],
      "metadata": {
        "colab": {
          "base_uri": "https://localhost:8080/"
        },
        "id": "ZztRjhd5I9rw",
        "outputId": "1a112528-f9b4-42f5-bff3-80b7cef7feb3"
      },
      "execution_count": 318,
      "outputs": [
        {
          "output_type": "stream",
          "name": "stdout",
          "text": [
            "From the above Alpha values, we see that 0.01 is the optimal.\n",
            "R2 is 0.19471428912656297\n"
          ]
        }
      ]
    },
    {
      "cell_type": "markdown",
      "source": [
        "#### **We can conclude that among these Alpha values, 0.01 is the optimal value.**"
      ],
      "metadata": {
        "id": "C_LZfuTPi4D3"
      }
    },
    {
      "cell_type": "code",
      "source": [
        "# Training the Model with Optimal Alpha\n",
        "\n",
        "lasso=Lasso(alpha=0.01)\n",
        "lasso=lasso.fit(X_train,y_train)"
      ],
      "metadata": {
        "id": "UPsMob15iNN_"
      },
      "execution_count": 319,
      "outputs": []
    },
    {
      "cell_type": "code",
      "source": [
        "# Storing the Predictions\n",
        "\n",
        "train_preds_Lasso=lasso.predict(X_train)\n",
        "test_preds_Lasso=lasso.predict(X_test)"
      ],
      "metadata": {
        "id": "Ac1X-VPEibtZ"
      },
      "execution_count": 320,
      "outputs": []
    },
    {
      "cell_type": "markdown",
      "source": [
        "* R2"
      ],
      "metadata": {
        "id": "2EFmqw_GillY"
      }
    },
    {
      "cell_type": "code",
      "source": [
        "print(\"\\nR2 for Training Set :\",r2_score(y_train,train_preds_Lasso))\n",
        "print(\"\\nR2 for Test Set :\",r2_score(y_test,test_preds_Lasso))"
      ],
      "metadata": {
        "colab": {
          "base_uri": "https://localhost:8080/"
        },
        "id": "34XkSMArimh1",
        "outputId": "0dd2ff6a-fd4b-451a-a6f1-d5c2e675cc2a"
      },
      "execution_count": 321,
      "outputs": [
        {
          "output_type": "stream",
          "name": "stdout",
          "text": [
            "\n",
            "R2 for Training Set : 0.2850178529403643\n",
            "\n",
            "R2 for Test Set : 0.26935654027180334\n"
          ]
        }
      ]
    },
    {
      "cell_type": "markdown",
      "source": [
        "* MSE"
      ],
      "metadata": {
        "id": "_cEEtO4oiv_x"
      }
    },
    {
      "cell_type": "code",
      "source": [
        "print(\"\\nMSE for Training Set :\",mean_squared_error(y_train,train_preds_Lasso))\n",
        "print(\"\\nMSE for Test Set :\",mean_squared_error(y_test,test_preds_Lasso))"
      ],
      "metadata": {
        "colab": {
          "base_uri": "https://localhost:8080/"
        },
        "id": "J6q16IWGiw7u",
        "outputId": "ae94e039-d81e-456e-c577-d77207c378ec"
      },
      "execution_count": 322,
      "outputs": [
        {
          "output_type": "stream",
          "name": "stdout",
          "text": [
            "\n",
            "MSE for Training Set : 1.3618632658490526\n",
            "\n",
            "MSE for Test Set : 1.397485424652269\n"
          ]
        }
      ]
    },
    {
      "cell_type": "markdown",
      "source": [
        "* RMSE"
      ],
      "metadata": {
        "id": "e4qIXWAvjAmj"
      }
    },
    {
      "cell_type": "code",
      "source": [
        "print(\"\\nRMSE for Training Set : \",rmse(y_train,train_preds_Lasso))\n",
        "print(\"\\nRMSE for Test Set : \",rmse(y_test,test_preds_Lasso))"
      ],
      "metadata": {
        "colab": {
          "base_uri": "https://localhost:8080/"
        },
        "id": "psr-BUj6jNKD",
        "outputId": "22f50f29-457d-47b9-8a6f-43ce2c151138"
      },
      "execution_count": 323,
      "outputs": [
        {
          "output_type": "stream",
          "name": "stdout",
          "text": [
            "\n",
            "RMSE for Training Set :  1.1669889741762998\n",
            "\n",
            "RMSE for Test Set :  1.182152877022371\n"
          ]
        }
      ]
    },
    {
      "cell_type": "markdown",
      "metadata": {
        "id": "2H28hrMj9eDf"
      },
      "source": [
        "## Evaluation: Calculating mean absolute error and median absolute error for train and test partition for each model.\n"
      ]
    },
    {
      "cell_type": "markdown",
      "source": [
        "### **OLS Model : Statsmodels**\n",
        "\n",
        "\n"
      ],
      "metadata": {
        "id": "lk460f4-zhL0"
      }
    },
    {
      "cell_type": "markdown",
      "source": [
        "* Mean Absolute Error"
      ],
      "metadata": {
        "id": "nIAbO4MgzsZd"
      }
    },
    {
      "cell_type": "code",
      "source": [
        "# Training Set\n",
        "\n",
        "print(\"Mean Absolute Error for Training Set:\",mean_absolute_error(y_train,train_preds_stats))\n",
        "\n",
        "print(\" \")\n",
        "\n",
        "# Test Set\n",
        "\n",
        "print(\"Mean Absolute Error for Test Set:\",mean_absolute_error(y_test,test_preds_stats))"
      ],
      "metadata": {
        "colab": {
          "base_uri": "https://localhost:8080/"
        },
        "id": "aGNJNWPRzvC_",
        "outputId": "45bcca21-d26b-4ccb-eace-c27fa2219781"
      },
      "execution_count": 324,
      "outputs": [
        {
          "output_type": "stream",
          "name": "stdout",
          "text": [
            "Mean Absolute Error for Training Set: 0.936473928251344\n",
            " \n",
            "Mean Absolute Error for Test Set: 0.9540563685553937\n"
          ]
        }
      ]
    },
    {
      "cell_type": "markdown",
      "source": [
        "* Median Absolute Error"
      ],
      "metadata": {
        "id": "Hk5vKCT6zvWT"
      }
    },
    {
      "cell_type": "code",
      "source": [
        "# Training Set\n",
        "\n",
        "print(\"Median Absolute Error for Training Set:\",median_absolute_error(y_train,train_preds_stats))\n",
        "\n",
        "print(\" \")\n",
        "\n",
        "# Test Set\n",
        "\n",
        "print(\"Median Absolute Error for Test Set:\",median_absolute_error(y_test,test_preds_stats))"
      ],
      "metadata": {
        "colab": {
          "base_uri": "https://localhost:8080/"
        },
        "id": "98EbIDTBz6aF",
        "outputId": "1d5b3ecd-7b7b-458f-ebe1-48b7363ad6fc"
      },
      "execution_count": 325,
      "outputs": [
        {
          "output_type": "stream",
          "name": "stdout",
          "text": [
            "Median Absolute Error for Training Set: 0.804380407970255\n",
            " \n",
            "Median Absolute Error for Test Set: 0.8269714406374824\n"
          ]
        }
      ]
    },
    {
      "cell_type": "markdown",
      "source": [
        "### **OLS Model : Scikit-Learn**"
      ],
      "metadata": {
        "id": "pEuiqTMkkE2X"
      }
    },
    {
      "cell_type": "markdown",
      "source": [
        "* Mean Absolute Error"
      ],
      "metadata": {
        "id": "5BIzEBknlbrn"
      }
    },
    {
      "cell_type": "code",
      "source": [
        "# Training Set\n",
        "\n",
        "print(\"Mean Absolute Error for Training Set:\",mean_absolute_error(y_train,train_preds_OLS))\n",
        "\n",
        "print(\" \")\n",
        "\n",
        "# Test Set\n",
        "\n",
        "print(\"Mean Absolute Error for Test Set:\",mean_absolute_error(y_test,test_preds_OLS))"
      ],
      "metadata": {
        "colab": {
          "base_uri": "https://localhost:8080/"
        },
        "id": "BQ4zyQ0tlas3",
        "outputId": "f59fb153-5b26-4e85-aa04-c0e6a989d17e"
      },
      "execution_count": 326,
      "outputs": [
        {
          "output_type": "stream",
          "name": "stdout",
          "text": [
            "Mean Absolute Error for Training Set: 0.9364739282513501\n",
            " \n",
            "Mean Absolute Error for Test Set: 0.9540563685554007\n"
          ]
        }
      ]
    },
    {
      "cell_type": "markdown",
      "source": [
        "* Median Absolute Error"
      ],
      "metadata": {
        "id": "IhUhXXJklhOY"
      }
    },
    {
      "cell_type": "code",
      "source": [
        "# Training Set\n",
        "\n",
        "print(\"Median Absolute Error for Training Set:\",median_absolute_error(y_train,train_preds_OLS))\n",
        "\n",
        "print(\" \")\n",
        "\n",
        "# Test Set\n",
        "\n",
        "print(\"Median Absolute Error for Test Set:\",median_absolute_error(y_test,test_preds_OLS))"
      ],
      "metadata": {
        "colab": {
          "base_uri": "https://localhost:8080/"
        },
        "id": "aNdr0Ld3m2Z2",
        "outputId": "780d147f-30b1-4d44-eb9e-ff9c5bd26bfd"
      },
      "execution_count": 327,
      "outputs": [
        {
          "output_type": "stream",
          "name": "stdout",
          "text": [
            "Median Absolute Error for Training Set: 0.8043804079702586\n",
            " \n",
            "Median Absolute Error for Test Set: 0.8269714406375481\n"
          ]
        }
      ]
    },
    {
      "cell_type": "markdown",
      "source": [
        "### **Ridge Model**"
      ],
      "metadata": {
        "id": "05UyX3jhkjOO"
      }
    },
    {
      "cell_type": "markdown",
      "source": [
        "* Mean Absolute Error"
      ],
      "metadata": {
        "id": "DkLtjq4JnCPr"
      }
    },
    {
      "cell_type": "code",
      "source": [
        "# Training Set\n",
        "\n",
        "print(\"Mean Absolute Error for Training Set:\",mean_absolute_error(y_train,train_preds_Ridge))\n",
        "\n",
        "print(\" \")\n",
        "\n",
        "# Test Set\n",
        "\n",
        "print(\"Mean Absolute Error for Test Set:\",mean_absolute_error(y_test,test_preds_Ridge))"
      ],
      "metadata": {
        "colab": {
          "base_uri": "https://localhost:8080/"
        },
        "id": "Z4kF24PmnE9g",
        "outputId": "50b7eb6e-9da9-408b-c379-b922416e51b9"
      },
      "execution_count": 328,
      "outputs": [
        {
          "output_type": "stream",
          "name": "stdout",
          "text": [
            "Mean Absolute Error for Training Set: 0.9364751992584306\n",
            " \n",
            "Mean Absolute Error for Test Set: 0.9540576083695084\n"
          ]
        }
      ]
    },
    {
      "cell_type": "markdown",
      "source": [
        "* Median Absolute Error"
      ],
      "metadata": {
        "id": "ibhm_bWxnFKm"
      }
    },
    {
      "cell_type": "code",
      "source": [
        "# Training Set\n",
        "\n",
        "print(\"Median Absolute Error for Training Set:\",median_absolute_error(y_train,train_preds_Ridge))\n",
        "\n",
        "print(\" \")\n",
        "\n",
        "# Test Set\n",
        "\n",
        "print(\"Median Absolute Error for Test Set:\",median_absolute_error(y_test,test_preds_Ridge))"
      ],
      "metadata": {
        "colab": {
          "base_uri": "https://localhost:8080/"
        },
        "id": "HB2OXP56nGj6",
        "outputId": "16570d25-66e8-475b-ca0e-9c272d8bbd51"
      },
      "execution_count": 329,
      "outputs": [
        {
          "output_type": "stream",
          "name": "stdout",
          "text": [
            "Median Absolute Error for Training Set: 0.8043650918547796\n",
            " \n",
            "Median Absolute Error for Test Set: 0.8269819241312213\n"
          ]
        }
      ]
    },
    {
      "cell_type": "markdown",
      "source": [
        "### **Lasso Model**"
      ],
      "metadata": {
        "id": "C3VJutfpklJ5"
      }
    },
    {
      "cell_type": "markdown",
      "source": [
        "* Mean Absolute Error"
      ],
      "metadata": {
        "id": "ECeyHJHcnsBX"
      }
    },
    {
      "cell_type": "code",
      "metadata": {
        "id": "EQ9kIVO5q7WC",
        "colab": {
          "base_uri": "https://localhost:8080/"
        },
        "outputId": "6365f66a-f438-417b-fa66-6eca12f2caaf"
      },
      "source": [
        "# Training Set\n",
        "\n",
        "print(\"Mean Absolute Error for Training Set:\",mean_absolute_error(y_train,train_preds_Lasso))\n",
        "\n",
        "print(\" \")\n",
        "\n",
        "# Test Set\n",
        "\n",
        "print(\"Mean Absolute Error for Test Set:\",mean_absolute_error(y_test,test_preds_Lasso))"
      ],
      "execution_count": 330,
      "outputs": [
        {
          "output_type": "stream",
          "name": "stdout",
          "text": [
            "Mean Absolute Error for Training Set: 0.9381008456184442\n",
            " \n",
            "Mean Absolute Error for Test Set: 0.9553861968690024\n"
          ]
        }
      ]
    },
    {
      "cell_type": "markdown",
      "source": [
        "* Median Absolute Error"
      ],
      "metadata": {
        "id": "yh-h7BXKMiUT"
      }
    },
    {
      "cell_type": "code",
      "metadata": {
        "id": "x23vsCpVrKFs",
        "colab": {
          "base_uri": "https://localhost:8080/"
        },
        "outputId": "debca26c-1086-4cda-f111-3f155ba52a26"
      },
      "source": [
        "# Training Set\n",
        "\n",
        "print(\"Median Absolute Error for Training Set:\",median_absolute_error(y_train,train_preds_Lasso))\n",
        "\n",
        "print(\" \")\n",
        "\n",
        "# Test Set\n",
        "\n",
        "print(\"Median Absolute Error for Test Set:\",median_absolute_error(y_test,test_preds_Lasso))"
      ],
      "execution_count": 331,
      "outputs": [
        {
          "output_type": "stream",
          "name": "stdout",
          "text": [
            "Median Absolute Error for Training Set: 0.8091983802467624\n",
            " \n",
            "Median Absolute Error for Test Set: 0.8309846800230858\n"
          ]
        }
      ]
    },
    {
      "cell_type": "markdown",
      "source": [
        "* **We can see that for all 3 Models , the Median Absolute Error for the Training & Test Partitions is lower than the Mean Absolute Error.**\n",
        "\n",
        "*  **Since the mean of absolute errors is affected by the extreme error values & median of absolute errors is not affected by extreme error values, we can say that the model is slightly affected by the presence of extreme evalues due to which we have extreme error values.**\n",
        "\n",
        "* **This is the reason why we have a higher mean absolute error when compared to the median absolute error.**"
      ],
      "metadata": {
        "id": "ROPpLPI2Yy0s"
      }
    },
    {
      "cell_type": "markdown",
      "source": [
        "## **Alternative : Using 5 Fold Cross-Validation**"
      ],
      "metadata": {
        "id": "kwxCidX75tqt"
      }
    },
    {
      "cell_type": "code",
      "source": [
        "# 5-Fold Cross-Validation\n",
        "\n",
        "from sklearn.model_selection import KFold\n",
        "from sklearn.model_selection import cross_val_score\n",
        "\n",
        "folds = KFold(n_splits = 5, shuffle = True, random_state = 63)\n",
        "X=scaler.fit_transform(X)\n",
        "X=power.fit_transform(X)"
      ],
      "metadata": {
        "id": "g2E0wio25s-I"
      },
      "execution_count": 332,
      "outputs": []
    },
    {
      "cell_type": "markdown",
      "source": [
        "### **OLS Model : Scikit-Learn**"
      ],
      "metadata": {
        "id": "sSp1vviNDBB7"
      }
    },
    {
      "cell_type": "code",
      "source": [
        "r2_OLS=cross_val_score(lr,X,y,scoring='r2',cv=folds)\n",
        "print(\"Average R2 :\",np.mean(r2_OLS))\n",
        "mse_OLS=cross_val_score(lr,X,y,scoring='neg_mean_squared_error',cv=folds)\n",
        "print(\"Average MSE :\",np.mean(abs(mse_OLS)))\n",
        "print(\"Average RMSE :\",np.sqrt(np.mean(abs(mse_OLS))))\n",
        "\n",
        "\n",
        "# Absolute Errors\n",
        "\n",
        "mean_abs_OLS=cross_val_score(lr,X,y,scoring='neg_mean_absolute_error',cv=folds)\n",
        "print(\"Average Mean Absolute Error :\",np.mean(abs(mean_abs_OLS)))\n",
        "median_abs_OLS=cross_val_score(lr,X,y,scoring='neg_median_absolute_error',cv=folds)\n",
        "print(\"Average Median Absolute Error :\",np.mean(abs(median_abs_OLS)))"
      ],
      "metadata": {
        "colab": {
          "base_uri": "https://localhost:8080/"
        },
        "id": "aSnuXT-fDWtp",
        "outputId": "e09e4923-c457-4abc-cf02-71a5195cb4a5"
      },
      "execution_count": 333,
      "outputs": [
        {
          "output_type": "stream",
          "name": "stdout",
          "text": [
            "Average R2 : 0.28078850603153604\n",
            "Average MSE : 1.3703016898036187\n",
            "Average RMSE : 1.1705988594747643\n",
            "Average Mean Absolute Error : 0.9393537692463088\n",
            "Average Median Absolute Error : 0.8125756927670972\n"
          ]
        }
      ]
    },
    {
      "cell_type": "markdown",
      "source": [
        "### **Ridge Model**"
      ],
      "metadata": {
        "id": "_nTyjpK4oFdo"
      }
    },
    {
      "cell_type": "code",
      "source": [
        "r2_ridge=cross_val_score(ridge,X,y,scoring='r2',cv=folds)\n",
        "print(\"Average R2 :\",np.mean(r2_ridge))\n",
        "mse_ridge=cross_val_score(ridge,X,y,scoring='neg_mean_squared_error',cv=folds)\n",
        "print(\"Average MSE :\",np.mean(abs(mse_ridge)))\n",
        "print(\"Average RMSE :\",np.sqrt(np.mean(abs(mse_ridge))))\n",
        "\n",
        "# Absolute Errors\n",
        "\n",
        "mean_abs_ridge=cross_val_score(ridge,X,y,scoring='neg_mean_absolute_error',cv=folds)\n",
        "print(\"Average Mean Absolute Error :\",np.mean(abs(mean_abs_ridge)))\n",
        "median_abs_ridge=cross_val_score(ridge,X,y,scoring='neg_median_absolute_error',cv=folds)\n",
        "print(\"Average Median Absolute Error :\",np.mean(abs(median_abs_ridge)))"
      ],
      "metadata": {
        "colab": {
          "base_uri": "https://localhost:8080/"
        },
        "id": "xLFuabIcEQTv",
        "outputId": "e1da976a-645d-41d0-a441-918424fa4745"
      },
      "execution_count": 334,
      "outputs": [
        {
          "output_type": "stream",
          "name": "stdout",
          "text": [
            "Average R2 : 0.2807886020996774\n",
            "Average MSE : 1.3703015241260856\n",
            "Average RMSE : 1.1705987887086189\n",
            "Average Mean Absolute Error : 0.9393550004893264\n",
            "Average Median Absolute Error : 0.812568381778695\n"
          ]
        }
      ]
    },
    {
      "cell_type": "markdown",
      "source": [
        "### **Lasso Model**"
      ],
      "metadata": {
        "id": "eag0bqHZEQlE"
      }
    },
    {
      "cell_type": "code",
      "source": [
        "r2_lasso=cross_val_score(lasso,X,y,scoring='r2',cv=folds)\n",
        "print(\"Average R2 :\",np.mean(r2_lasso))\n",
        "mse_lasso=cross_val_score(lasso,X,y,scoring='neg_mean_squared_error',cv=folds)\n",
        "print(\"Average MSE :\",np.mean(abs(mse_lasso)))\n",
        "print(\"Average RMSE :\",np.sqrt(np.mean(abs(mse_lasso))))\n",
        "\n",
        "# Absolute Errors\n",
        "\n",
        "mean_abs_lasso=cross_val_score(lasso,X,y,scoring='neg_mean_absolute_error',cv=folds)\n",
        "print(\"Average Mean Absolute Error :\",np.mean(abs(mean_abs_lasso)))\n",
        "median_abs_lasso=cross_val_score(lasso,X,y,scoring='neg_median_absolute_error',cv=folds)\n",
        "print(\"Average Median Absolute Error :\",np.mean(abs(median_abs_lasso)))"
      ],
      "metadata": {
        "colab": {
          "base_uri": "https://localhost:8080/"
        },
        "id": "TmA2QuywESeC",
        "outputId": "2bd074e7-1443-4e2b-fc2e-7e781901ee2d"
      },
      "execution_count": 335,
      "outputs": [
        {
          "output_type": "stream",
          "name": "stdout",
          "text": [
            "Average R2 : 0.28059259534202274\n",
            "Average MSE : 1.3706910594606228\n",
            "Average RMSE : 1.1707651598252413\n",
            "Average Mean Absolute Error : 0.9410571418601918\n",
            "Average Median Absolute Error : 0.8164823312861337\n"
          ]
        }
      ]
    },
    {
      "cell_type": "markdown",
      "metadata": {
        "id": "1BN0q-tlxMKW"
      },
      "source": [
        "## Evaluation: Calculating the baseline mean-only predictions and calculate both mean and median absolute error."
      ]
    },
    {
      "cell_type": "markdown",
      "source": [
        "## **Training Partition** "
      ],
      "metadata": {
        "id": "-CO8nFkFcJI8"
      }
    },
    {
      "cell_type": "code",
      "source": [
        "from statsmodels.tools.eval_measures import meanabs\n",
        "from statsmodels.tools.eval_measures import medianabs\n",
        "\n",
        "baseline_mean=np.mean(y_train)\n",
        "print(\"Baseline Mean :\",baseline_mean)\n",
        "mean_abs_error=meanabs(baseline_mean,y_train)\n",
        "print(\"Mean Absolute Error:\",mean_abs_error)\n",
        "median_abs_error=medianabs(baseline_mean,y_train)\n",
        "print(\"Mean Absolute Error:\",median_abs_error)"
      ],
      "metadata": {
        "colab": {
          "base_uri": "https://localhost:8080/"
        },
        "id": "HOzSB1QpUhR2",
        "outputId": "7efac511-2e01-4782-b349-aca3c8737149"
      },
      "execution_count": 336,
      "outputs": [
        {
          "output_type": "stream",
          "name": "stdout",
          "text": [
            "Baseline Mean : 9.226207765752829\n",
            "Mean Absolute Error: 1.1218506086389426\n",
            "Mean Absolute Error: 0.9773843792336372\n"
          ]
        }
      ]
    },
    {
      "cell_type": "markdown",
      "source": [
        "## **Test Partition** "
      ],
      "metadata": {
        "id": "jGpFW7sGcVvg"
      }
    },
    {
      "cell_type": "code",
      "source": [
        "baseline_mean=np.mean(y_test)\n",
        "print(\"Baseline Mean :\",baseline_mean)\n",
        "mean_abs_error=meanabs(baseline_mean,y_test)\n",
        "print(\"Mean Absolute Error:\",mean_abs_error)\n",
        "median_abs_error=medianabs(baseline_mean,y_test)\n",
        "print(\"Mean Absolute Error:\",median_abs_error)"
      ],
      "metadata": {
        "colab": {
          "base_uri": "https://localhost:8080/"
        },
        "id": "RHN5yTshk7rL",
        "outputId": "19ef257e-4ce2-48ce-e64d-7e2b971c3c86"
      },
      "execution_count": 337,
      "outputs": [
        {
          "output_type": "stream",
          "name": "stdout",
          "text": [
            "Baseline Mean : 9.21266329967102\n",
            "Mean Absolute Error: 1.1318066965223958\n",
            "Mean Absolute Error: 1.0521450521935147\n"
          ]
        }
      ]
    },
    {
      "cell_type": "markdown",
      "metadata": {
        "id": "adg5jVtVsDye"
      },
      "source": [
        "## Evaluation: Scatterplots of `x=Actual` and `y=Pred` for each model\n",
        "\n"
      ]
    },
    {
      "cell_type": "markdown",
      "source": [
        "### **OLS Model : Scikit-Learn**"
      ],
      "metadata": {
        "id": "TC5CzkJcTJjU"
      }
    },
    {
      "cell_type": "markdown",
      "source": [
        "* Training Set"
      ],
      "metadata": {
        "id": "esSHNh8NzmGG"
      }
    },
    {
      "cell_type": "code",
      "source": [
        "sns.scatterplot(x=np.exp(y_train),y=np.exp(train_preds_OLS),color='orange')\n",
        "plt.xscale('log') \n",
        "plt.yscale('log') \n",
        "plt.xlim([1E3,1E7])\n",
        "plt.ylim([1E3,1E7])\n",
        "xpoints=ypoints=plt.xlim()\n",
        "plt.plot(xpoints,ypoints,linestyle='--',color='blue',lw=3,scalex=False,scaley=False)\n",
        "plt.xlabel(\"Actual Values\")\n",
        "plt.ylabel(\"Predicted Values\")\n",
        "plt.title(\"\\nActual vs Predicted Values : OLS Model (Training Set)\\n\")\n",
        "plt.show()"
      ],
      "metadata": {
        "colab": {
          "base_uri": "https://localhost:8080/",
          "height": 329
        },
        "id": "A8L9sHMHznjF",
        "outputId": "f551be70-5ee8-4c95-9e9c-d9312c393e0e"
      },
      "execution_count": 338,
      "outputs": [
        {
          "output_type": "display_data",
          "data": {
            "text/plain": [
              "<Figure size 432x288 with 1 Axes>"
            ],
            "image/png": "[encoded data removed]"
          },
          "metadata": {
            "needs_background": "light"
          }
        }
      ]
    },
    {
      "cell_type": "markdown",
      "source": [
        "* Test Set"
      ],
      "metadata": {
        "id": "LjbtscCoznrx"
      }
    },
    {
      "cell_type": "code",
      "source": [
        "sns.scatterplot(x=np.exp(y_test),y=np.exp(test_preds_OLS),color='orange')\n",
        "plt.xscale('log') \n",
        "plt.yscale('log') \n",
        "plt.xlim([1E3,1E7])\n",
        "plt.ylim([1E3,1E7])\n",
        "xpoints=ypoints=plt.xlim()\n",
        "plt.plot(xpoints,ypoints,linestyle='--',color='blue',lw=3,scalex=False,scaley=False)\n",
        "plt.xlabel(\"Actual Values\")\n",
        "plt.ylabel(\"Predicted Values\")\n",
        "plt.title(\"\\nActual vs Predicted Values : OLS Model (Test Set)\\n\")\n",
        "plt.show()"
      ],
      "metadata": {
        "colab": {
          "base_uri": "https://localhost:8080/",
          "height": 329
        },
        "id": "rPWyAFm0zp5K",
        "outputId": "c20d2762-87af-4a24-ab00-54ea22a55751"
      },
      "execution_count": 339,
      "outputs": [
        {
          "output_type": "display_data",
          "data": {
            "text/plain": [
              "<Figure size 432x288 with 1 Axes>"
            ],
            "image/png": "[encoded data removed]"
          },
          "metadata": {
            "needs_background": "light"
          }
        }
      ]
    },
    {
      "cell_type": "markdown",
      "source": [
        "### **Ridge Model**"
      ],
      "metadata": {
        "id": "hZBWRJV4TKHX"
      }
    },
    {
      "cell_type": "markdown",
      "source": [
        "* Training Set"
      ],
      "metadata": {
        "id": "oa6THjPXzqX4"
      }
    },
    {
      "cell_type": "code",
      "source": [
        "sns.scatterplot(x=np.exp(y_train),y=np.exp(train_preds_Ridge),color='orange')\n",
        "plt.xscale('log') \n",
        "plt.yscale('log') \n",
        "plt.xlim([1E3,1E7])\n",
        "plt.ylim([1E3,1E7])\n",
        "xpoints=ypoints=plt.xlim()\n",
        "plt.plot(xpoints,ypoints,linestyle='--',color='blue',lw=3,scalex=False,scaley=False)\n",
        "plt.xlabel(\"Actual Values\")\n",
        "plt.ylabel(\"Predicted Values\")\n",
        "plt.title(\"\\nActual vs Predicted Values : Ridge Model (Training Set)\\n\")\n",
        "plt.show()"
      ],
      "metadata": {
        "colab": {
          "base_uri": "https://localhost:8080/",
          "height": 329
        },
        "id": "Vj0WnzcjzsJr",
        "outputId": "3c2bbf33-203e-40a8-a5b5-12491dbfbc08"
      },
      "execution_count": 340,
      "outputs": [
        {
          "output_type": "display_data",
          "data": {
            "text/plain": [
              "<Figure size 432x288 with 1 Axes>"
            ],
            "image/png": "[encoded data removed]"
          },
          "metadata": {
            "needs_background": "light"
          }
        }
      ]
    },
    {
      "cell_type": "markdown",
      "source": [
        "* Test Set"
      ],
      "metadata": {
        "id": "qV3gY2I2zsTU"
      }
    },
    {
      "cell_type": "code",
      "source": [
        "sns.scatterplot(x=np.exp(y_test),y=np.exp(test_preds_Ridge),color='orange')\n",
        "plt.xscale('log') \n",
        "plt.yscale('log') \n",
        "plt.xlim([1E3,1E7])\n",
        "plt.ylim([1E3,1E7])\n",
        "xpoints=ypoints=plt.xlim()\n",
        "plt.plot(xpoints,ypoints,linestyle='--',color='blue',lw=3,scalex=False,scaley=False)\n",
        "plt.xlabel(\"Actual Values\")\n",
        "plt.ylabel(\"Predicted Values\")\n",
        "plt.title(\"\\nActual vs Predicted Values : Ridge Model (Test Set)\\n\")\n",
        "plt.show()"
      ],
      "metadata": {
        "colab": {
          "base_uri": "https://localhost:8080/",
          "height": 329
        },
        "id": "WnO8dWUXztUy",
        "outputId": "33a68292-5934-4f11-d04c-29804f3fef2c"
      },
      "execution_count": 341,
      "outputs": [
        {
          "output_type": "display_data",
          "data": {
            "text/plain": [
              "<Figure size 432x288 with 1 Axes>"
            ],
            "image/png": "[encoded data removed]"
          },
          "metadata": {
            "needs_background": "light"
          }
        }
      ]
    },
    {
      "cell_type": "markdown",
      "source": [
        "### **Lasso Model**"
      ],
      "metadata": {
        "id": "SLros7ghT5gb"
      }
    },
    {
      "cell_type": "markdown",
      "source": [
        "* Training Set"
      ],
      "metadata": {
        "id": "fBer9M9uzuH1"
      }
    },
    {
      "cell_type": "code",
      "source": [
        "sns.scatterplot(x=np.exp(y_train),y=np.exp(train_preds_Lasso),color='orange')\n",
        "plt.xscale('log') \n",
        "plt.yscale('log') \n",
        "plt.xlim([1E3,1E7])\n",
        "plt.ylim([1E3,1E7])\n",
        "xpoints=ypoints=plt.xlim()\n",
        "plt.plot(xpoints,ypoints,linestyle='--',color='blue',lw=3,scalex=False,scaley=False)\n",
        "plt.xlabel(\"Actual Values\")\n",
        "plt.ylabel(\"Predicted Values\")\n",
        "plt.title(\"\\nActual vs Predicted Values : Lasso Model (Training Set)\\n\")\n",
        "plt.show()"
      ],
      "metadata": {
        "colab": {
          "base_uri": "https://localhost:8080/",
          "height": 329
        },
        "id": "PmN_ybITzvYO",
        "outputId": "07d180e1-2fda-43f0-f2f3-87bf50724189"
      },
      "execution_count": 342,
      "outputs": [
        {
          "output_type": "display_data",
          "data": {
            "text/plain": [
              "<Figure size 432x288 with 1 Axes>"
            ],
            "image/png": "[encoded data removed]"
          },
          "metadata": {
            "needs_background": "light"
          }
        }
      ]
    },
    {
      "cell_type": "markdown",
      "source": [
        "* Test Set"
      ],
      "metadata": {
        "id": "SV5TO1JmzvhG"
      }
    },
    {
      "cell_type": "code",
      "source": [
        "sns.scatterplot(x=np.exp(y_test),y=np.exp(test_preds_Ridge),color='orange')\n",
        "plt.xscale('log') \n",
        "plt.yscale('log') \n",
        "plt.xlim([1E3,1E7])\n",
        "plt.ylim([1E3,1E7])\n",
        "xpoints=ypoints=plt.xlim()\n",
        "plt.plot(xpoints,ypoints,linestyle='--',color='blue',lw=3,scalex=False,scaley=False)\n",
        "plt.xlabel(\"Actual Values\")\n",
        "plt.ylabel(\"Predicted Values\")\n",
        "plt.title(\"\\nActual vs Predicted Values : Lasso Model (Test Set)\\n\")\n",
        "plt.show()"
      ],
      "metadata": {
        "colab": {
          "base_uri": "https://localhost:8080/",
          "height": 329
        },
        "id": "l_swZAsJzw8F",
        "outputId": "cf339bf3-07cd-482c-af40-7bbd22d8b624"
      },
      "execution_count": 343,
      "outputs": [
        {
          "output_type": "display_data",
          "data": {
            "text/plain": [
              "<Figure size 432x288 with 1 Axes>"
            ],
            "image/png": "[encoded data removed]"
          },
          "metadata": {
            "needs_background": "light"
          }
        }
      ]
    },
    {
      "cell_type": "markdown",
      "source": [
        "## About the Models\n",
        "\n",
        "* ***The predictor variables used for modeling have values in different ranges / scales , & hence the models' predictions were skewed initially since the predictor variables having values with a larger scale had a stronger influence on the model.We then standardized the variables to fix this problem.***\n",
        "\n",
        "* ***The predictor variables (numeric variables) used for modeling did not follow a Normal Distribution and this affected the model's performance. Transforming the distribution of the variables using Power Transformer helped to improve the R2 values for the models significantly.***\n",
        "\n",
        "* ***From the Summary Table for OLS model, we see that there are predictor variables having p-values greater than 0.05. Instead of dropping these variables, we have used these variables for modeling which has impacted the model's performance.***\n",
        "\n",
        "* ***We can see from the correlation heat map that none of the predictor variables have a strong correlation with the target variable 'PROP_LOSS' . Hence, we haven't been able to capture too much variance using the 11 Predictor Variables used in the subset. That is why the R2 values for all 3 models are found to be less than 0.3 for Test Set.Hence,more variables will have to incorporated into the model to capture more variance & improve the R2 values.***\n",
        "\n",
        "* ***The R2 values for test set is comparable to R2 values for the training set for all 3 models. Hence , we can say that these models are not overfitting. So, although the predictive power for the models is not great, we can still categorize these models as 'good'.***\n"
      ],
      "metadata": {
        "id": "3iz5UJjiqYYE"
      }
    },
    {
      "cell_type": "markdown",
      "source": [
        "# **Random Forest Model**"
      ],
      "metadata": {
        "id": "hXFYeSvyiJM8"
      }
    },
    {
      "cell_type": "markdown",
      "source": [
        "* ***To improve the prediction power , we have tried the Random Forest Model as well.***\n",
        "\n",
        "* ***We got the highest R2 value for the Random Forest Model , with an R2 value of 0.55 for the Training Partition & 0.52 for the Test Partition.***\n",
        "\n",
        "* ***The Mean Absolute Errorr & Median Absolute errors were also found to be the lowest for the Random Forest Model.***"
      ],
      "metadata": {
        "id": "GXz46unwl7cI"
      }
    },
    {
      "cell_type": "code",
      "source": [
        "# Training the Model\n",
        "\n",
        "from sklearn.ensemble import RandomForestRegressor\n",
        "from sklearn.model_selection import GridSearchCV\n",
        "\n",
        "random_for= RandomForestRegressor(n_estimators=7,max_depth= 10,max_features= 'sqrt', min_samples_leaf= 15,\n",
        " min_samples_split= 2,random_state = 63)\n",
        "\n",
        "random_for=random_for.fit(X_train,y_train)\n",
        "\n",
        "\n",
        "# Finding the Best Parameters for Random Forest Model\n",
        "\n",
        "# parameters = {\n",
        "#     'max_depth': [10,15,20],\n",
        "#     'n_estimators': [7,8,9,10],\n",
        "#     'min_samples_leaf': [10,12,15],\n",
        "#  'min_samples_split': [1,2,5],\n",
        "# }\n",
        "# random_grid = GridSearchCV(random_for, parameters, cv = 3, n_jobs = -1, verbose = 1)\n",
        "# random_grid.fit(X_train, y_train)\n",
        "# random_grid.best_params_\n",
        "\n",
        "\n",
        "# The Best Parameters for the model :\n",
        "\n",
        "# {'max_depth': 10,\n",
        "#  'min_samples_leaf': 15,\n",
        "#  'min_samples_split': 2,\n",
        "#  'n_estimators': 7}\n"
      ],
      "metadata": {
        "id": "IDM86ldoiaf5"
      },
      "execution_count": 344,
      "outputs": []
    },
    {
      "cell_type": "code",
      "source": [
        "# Storing the Predictions\n",
        "\n",
        "train_preds_Random=random_for.predict(X_train)\n",
        "test_preds_Random=random_for.predict(X_test)"
      ],
      "metadata": {
        "id": "1xmG9xEvib0-"
      },
      "execution_count": 345,
      "outputs": []
    },
    {
      "cell_type": "markdown",
      "source": [
        "* R2"
      ],
      "metadata": {
        "id": "fGaYJMLyirZu"
      }
    },
    {
      "cell_type": "code",
      "source": [
        "print(\"\\nR2 for Training Set :\",r2_score(y_train,train_preds_Random))\n",
        "print(\"\\nR2 for Test Set :\",r2_score(y_test,test_preds_Random))"
      ],
      "metadata": {
        "colab": {
          "base_uri": "https://localhost:8080/"
        },
        "id": "bXLedyCYisKz",
        "outputId": "66346faf-6d51-4576-f5a8-5c27204e2a01"
      },
      "execution_count": 346,
      "outputs": [
        {
          "output_type": "stream",
          "name": "stdout",
          "text": [
            "\n",
            "R2 for Training Set : 0.5568069832650973\n",
            "\n",
            "R2 for Test Set : 0.5219504462585403\n"
          ]
        }
      ]
    },
    {
      "cell_type": "markdown",
      "source": [
        "* MSE"
      ],
      "metadata": {
        "id": "V0RvxsssisT8"
      }
    },
    {
      "cell_type": "code",
      "source": [
        "print(\"\\nMSE for Training Set :\",mean_squared_error(y_train,train_preds_Random))\n",
        "print(\"\\nMSE for Test Set :\",mean_squared_error(y_test,test_preds_Random))"
      ],
      "metadata": {
        "colab": {
          "base_uri": "https://localhost:8080/"
        },
        "id": "ZtGB7RBVitCt",
        "outputId": "666e9a4d-79f4-463b-8fb2-00f995227c34"
      },
      "execution_count": 347,
      "outputs": [
        {
          "output_type": "stream",
          "name": "stdout",
          "text": [
            "\n",
            "MSE for Training Set : 0.8441725316558786\n",
            "\n",
            "MSE for Test Set : 0.9143547029952698\n"
          ]
        }
      ]
    },
    {
      "cell_type": "markdown",
      "source": [
        "* RMSE"
      ],
      "metadata": {
        "id": "pTEVtWHSitLS"
      }
    },
    {
      "cell_type": "code",
      "source": [
        "print(\"\\nRMSE for Training Set : \",rmse(y_train,train_preds_Random))\n",
        "print(\"\\nRMSE for Test Set : \",rmse(y_test,test_preds_Random))"
      ],
      "metadata": {
        "colab": {
          "base_uri": "https://localhost:8080/"
        },
        "id": "SwJjJZiXiuDr",
        "outputId": "43348565-b0f4-487f-e861-7ccb57c86ee9"
      },
      "execution_count": 348,
      "outputs": [
        {
          "output_type": "stream",
          "name": "stdout",
          "text": [
            "\n",
            "RMSE for Training Set :  0.9187886218580847\n",
            "\n",
            "RMSE for Test Set :  0.9562189618467466\n"
          ]
        }
      ]
    },
    {
      "cell_type": "markdown",
      "source": [
        "* Mean Absolute Error"
      ],
      "metadata": {
        "id": "XAMBRefMjd7K"
      }
    },
    {
      "cell_type": "code",
      "source": [
        "print(\"Mean Absolute Error for Training Set:\",mean_absolute_error(y_train,train_preds_Random))\n",
        "\n",
        "print(\" \")\n",
        "\n",
        "# Test Set\n",
        "\n",
        "print(\"Mean Absolute Error for Test Set:\",mean_absolute_error(y_test,test_preds_Random))"
      ],
      "metadata": {
        "colab": {
          "base_uri": "https://localhost:8080/"
        },
        "id": "ZNGUEPxtjhfZ",
        "outputId": "9d8297a0-50bf-4dbf-9321-ee7af4ac49c0"
      },
      "execution_count": 349,
      "outputs": [
        {
          "output_type": "stream",
          "name": "stdout",
          "text": [
            "Mean Absolute Error for Training Set: 0.6437580660517421\n",
            " \n",
            "Mean Absolute Error for Test Set: 0.6736634677561871\n"
          ]
        }
      ]
    },
    {
      "cell_type": "markdown",
      "source": [
        "* Median Absolute Error"
      ],
      "metadata": {
        "id": "3WGsPMdjjsOd"
      }
    },
    {
      "cell_type": "code",
      "source": [
        "# Training Set\n",
        "\n",
        "print(\"Median Absolute Error for Training Set:\",median_absolute_error(y_train,train_preds_Random))\n",
        "\n",
        "print(\" \")\n",
        "\n",
        "# Test Set\n",
        "\n",
        "print(\"Median Absolute Error for Test Set:\",median_absolute_error(y_test,test_preds_Random))"
      ],
      "metadata": {
        "colab": {
          "base_uri": "https://localhost:8080/"
        },
        "id": "mdJgGklsjt8M",
        "outputId": "ce338932-309a-46bb-f9b8-0f63cd965d20"
      },
      "execution_count": 350,
      "outputs": [
        {
          "output_type": "stream",
          "name": "stdout",
          "text": [
            "Median Absolute Error for Training Set: 0.40406920167982285\n",
            " \n",
            "Median Absolute Error for Test Set: 0.43509850381930804\n"
          ]
        }
      ]
    },
    {
      "cell_type": "markdown",
      "source": [
        "### **Evaluation Using Cross-Validation**"
      ],
      "metadata": {
        "id": "uVzF5Rvxk17Q"
      }
    },
    {
      "cell_type": "code",
      "source": [
        "r2_random_for=cross_val_score(random_for,X,y,scoring='r2',cv=folds)\n",
        "print(\"Average R2 :\",np.mean(r2_random_for))\n",
        "mse_random_for=cross_val_score(random_for,X,y,scoring='neg_mean_squared_error',cv=folds)\n",
        "print(\"Average MSE :\",np.mean(abs(mse_random_for)))\n",
        "print(\"Average RMSE :\",np.sqrt(np.mean(abs(mse_random_for))))\n",
        "\n",
        "# Absolute Errors\n",
        "\n",
        "mean_abs_random_for=cross_val_score(random_for,X,y,scoring='neg_mean_absolute_error',cv=folds)\n",
        "print(\"Average Mean Absolute Error :\",np.mean(abs(mean_abs_random_for)))\n",
        "median_abs_random_for=cross_val_score(random_for,X,y,scoring='neg_median_absolute_error',cv=folds)\n",
        "print(\"Average Median Absolute Error :\",np.mean(abs(median_abs_random_for)))"
      ],
      "metadata": {
        "colab": {
          "base_uri": "https://localhost:8080/"
        },
        "id": "50F0r5vqkBh2",
        "outputId": "54be0062-ef36-425b-e3de-d9dcc9af5a21"
      },
      "execution_count": 351,
      "outputs": [
        {
          "output_type": "stream",
          "name": "stdout",
          "text": [
            "Average R2 : 0.516098968321921\n",
            "Average MSE : 0.9218678917843637\n",
            "Average RMSE : 0.9601395168330297\n",
            "Average Mean Absolute Error : 0.6889695813639537\n",
            "Average Median Absolute Error : 0.455181423761716\n"
          ]
        }
      ]
    },
    {
      "cell_type": "markdown",
      "source": [
        "### Baseline Mean - Mean Absolute Error & Median Absolute Error"
      ],
      "metadata": {
        "id": "brQuExAvlC77"
      }
    },
    {
      "cell_type": "markdown",
      "source": [
        "* Training Partition"
      ],
      "metadata": {
        "id": "8AtcZ5MBlTcN"
      }
    },
    {
      "cell_type": "code",
      "source": [
        "baseline_mean=np.mean(train_preds_Random)\n",
        "print(\"Baseline Mean :\",baseline_mean)\n",
        "mean_abs_error=meanabs(baseline_mean,train_preds_Random)\n",
        "print(\"Mean Absolute Error:\",mean_abs_error)\n",
        "median_abs_error=medianabs(baseline_mean,train_preds_Random)\n",
        "print(\"Mean Absolute Error:\",median_abs_error)"
      ],
      "metadata": {
        "colab": {
          "base_uri": "https://localhost:8080/"
        },
        "id": "QkWOqAkylJvj",
        "outputId": "915ab26a-8c69-472b-f430-2547d985bdd0"
      },
      "execution_count": 352,
      "outputs": [
        {
          "output_type": "stream",
          "name": "stdout",
          "text": [
            "Baseline Mean : 9.224864261064933\n",
            "Mean Absolute Error: 0.763520276537396\n",
            "Mean Absolute Error: 0.6576440887926323\n"
          ]
        }
      ]
    },
    {
      "cell_type": "markdown",
      "source": [
        "* Test Partition"
      ],
      "metadata": {
        "id": "VyMuT7QjlWau"
      }
    },
    {
      "cell_type": "code",
      "source": [
        "baseline_mean=np.mean(test_preds_Random)\n",
        "print(\"Baseline Mean :\",baseline_mean)\n",
        "mean_abs_error=meanabs(baseline_mean,test_preds_Random)\n",
        "print(\"Mean Absolute Error:\",mean_abs_error)\n",
        "median_abs_error=medianabs(baseline_mean,test_preds_Random)\n",
        "print(\"Mean Absolute Error:\",median_abs_error)"
      ],
      "metadata": {
        "colab": {
          "base_uri": "https://localhost:8080/"
        },
        "id": "66qx3YvYlXrv",
        "outputId": "aec1f833-d46d-4b80-8507-e3d663d47a68"
      },
      "execution_count": 353,
      "outputs": [
        {
          "output_type": "stream",
          "name": "stdout",
          "text": [
            "Baseline Mean : 9.200058337098936\n",
            "Mean Absolute Error: 0.7587196533141426\n",
            "Mean Absolute Error: 0.6554456429238122\n"
          ]
        }
      ]
    },
    {
      "cell_type": "markdown",
      "source": [
        "## Scatter Plot : Actual vs Predicted Values"
      ],
      "metadata": {
        "id": "xTBn9rzGvi3l"
      }
    },
    {
      "cell_type": "markdown",
      "source": [
        "* Training Partition"
      ],
      "metadata": {
        "id": "STfDsrOfvwju"
      }
    },
    {
      "cell_type": "code",
      "source": [
        "sns.scatterplot(x=np.exp(y_train),y=np.exp(train_preds_Random),color='orange')\n",
        "plt.xscale('log') \n",
        "plt.yscale('log') \n",
        "plt.xlim([1E3,1E7])\n",
        "plt.ylim([1E3,1E7])\n",
        "xpoints=ypoints=plt.xlim()\n",
        "plt.plot(xpoints,ypoints,linestyle='--',color='blue',lw=3,scalex=False,scaley=False)\n",
        "plt.xlabel(\"Actual Values\")\n",
        "plt.ylabel(\"Predicted Values\")\n",
        "plt.title(\"\\nActual vs Predicted Values : Random Forest Model (Training Set)\\n\")\n",
        "plt.show()"
      ],
      "metadata": {
        "colab": {
          "base_uri": "https://localhost:8080/",
          "height": 329
        },
        "id": "WHiVIZzIvvpm",
        "outputId": "39c33dd1-f394-4052-f30e-864c04b5fd02"
      },
      "execution_count": 354,
      "outputs": [
        {
          "output_type": "display_data",
          "data": {
            "text/plain": [
              "<Figure size 432x288 with 1 Axes>"
            ],
            "image/png": "[encoded data removed]"
          },
          "metadata": {
            "needs_background": "light"
          }
        }
      ]
    },
    {
      "cell_type": "markdown",
      "source": [
        "* Test Partition"
      ],
      "metadata": {
        "id": "PwAianTQvzHT"
      }
    },
    {
      "cell_type": "code",
      "source": [
        "sns.scatterplot(x=np.exp(y_test),y=np.exp(test_preds_Random),color='orange')\n",
        "plt.xscale('log') \n",
        "plt.yscale('log') \n",
        "plt.xlim([1E3,1E7])\n",
        "plt.ylim([1E3,1E7])\n",
        "xpoints=ypoints=plt.xlim()\n",
        "plt.plot(xpoints,ypoints,linestyle='--',color='blue',lw=3,scalex=False,scaley=False)\n",
        "plt.xlabel(\"Actual Values\")\n",
        "plt.ylabel(\"Predicted Values\")\n",
        "plt.title(\"\\nActual vs Predicted Values : Random Forest Model (Test Set)\\n\")\n",
        "plt.show()"
      ],
      "metadata": {
        "colab": {
          "base_uri": "https://localhost:8080/",
          "height": 329
        },
        "id": "tExtjR5Cv0n0",
        "outputId": "7dd29995-1266-4f94-e4df-1d78c1ff570c"
      },
      "execution_count": 355,
      "outputs": [
        {
          "output_type": "display_data",
          "data": {
            "text/plain": [
              "<Figure size 432x288 with 1 Axes>"
            ],
            "image/png": "[encoded data removed]"
          },
          "metadata": {
            "needs_background": "light"
          }
        }
      ]
    }
  ]
}